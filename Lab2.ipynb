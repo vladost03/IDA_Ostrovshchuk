{
 "cells": [
  {
   "cell_type": "markdown",
   "id": "f44a2f2b",
   "metadata": {},
   "source": [
    "# 100 numpy exercises\n",
    "\n",
    "This is a collection of exercises that have been collected in the numpy mailing list, on stack overflow\n",
    "and in the numpy documentation. The goal of this collection is to offer a quick reference for both old\n",
    "and new users but also to provide a set of exercises for those who teach."
   ]
  },
  {
   "cell_type": "markdown",
   "id": "96443564",
   "metadata": {},
   "source": [
    "#### 1. Import the numpy package under the name `np` (★☆☆)"
   ]
  },
  {
   "cell_type": "code",
   "execution_count": null,
   "id": "ffe1047e",
   "metadata": {},
   "outputs": [],
   "source": [
    "import numpy as np"
   ]
  },
  {
   "cell_type": "markdown",
   "id": "c807bf1d",
   "metadata": {},
   "source": [
    "#### 2. Print the numpy version and the configuration (★☆☆)"
   ]
  },
  {
   "cell_type": "code",
   "execution_count": null,
   "id": "f396b717",
   "metadata": {},
   "outputs": [],
   "source": [
    "print(np.__version__)"
   ]
  },
  {
   "cell_type": "markdown",
   "id": "572c1bdb",
   "metadata": {},
   "source": [
    "#### 3. Create a null vector of size 10 (★☆☆)"
   ]
  },
  {
   "cell_type": "code",
   "execution_count": null,
   "id": "31c9f6a5",
   "metadata": {},
   "outputs": [],
   "source": [
    "null_vector = np.zeros(10)\n",
    "\n",
    "print(null_vector)"
   ]
  },
  {
   "cell_type": "markdown",
   "id": "337e6e36",
   "metadata": {},
   "source": [
    "#### 4. How to find the memory size of any array (★☆☆)"
   ]
  },
  {
   "cell_type": "code",
   "execution_count": null,
   "id": "31e8ec2e",
   "metadata": {},
   "outputs": [],
   "source": [
    "# Create a NumPy array\n",
    "arr = np.array([1, 2, 3, 4, 5])\n",
    "\n",
    "# Find the memory size of the array in bytes\n",
    "memory_size = arr.nbytes\n",
    "\n",
    "print(f\"Memory size of the array: {memory_size} bytes\")"
   ]
  },
  {
   "cell_type": "markdown",
   "id": "166079c8",
   "metadata": {},
   "source": [
    "#### 5. How to get the documentation of the numpy add function from the command line? (★☆☆)"
   ]
  },
  {
   "cell_type": "code",
   "execution_count": null,
   "id": "593cd80f",
   "metadata": {},
   "outputs": [],
   "source": [
    "#From command line: python -c \"import numpy as np; help(np.add)\";\n",
    "#Inside Python interpreter:\n",
    "help(np.add)"
   ]
  },
  {
   "cell_type": "markdown",
   "id": "3add7101",
   "metadata": {},
   "source": [
    "#### 6. Create a null vector of size 10 but the fifth value which is 1 (★☆☆)"
   ]
  },
  {
   "cell_type": "code",
   "execution_count": null,
   "id": "2edf3c42",
   "metadata": {},
   "outputs": [],
   "source": [
    "# Create a null vector of size 10\n",
    "null_vector = np.zeros(10)\n",
    "\n",
    "# Set the fifth value to 1\n",
    "null_vector[4] = 1\n",
    "\n",
    "print(null_vector)"
   ]
  },
  {
   "cell_type": "markdown",
   "id": "cfc46304",
   "metadata": {},
   "source": [
    "#### 7. Create a vector with values ranging from 10 to 49 (★☆☆)"
   ]
  },
  {
   "cell_type": "code",
   "execution_count": null,
   "id": "d8b86640",
   "metadata": {},
   "outputs": [],
   "source": [
    "# Create a vector with values ranging from 10 to 49\n",
    "vector = np.arange(10, 50)\n",
    "\n",
    "print(vector)"
   ]
  },
  {
   "cell_type": "markdown",
   "id": "0cc200be",
   "metadata": {},
   "source": [
    "#### 8. Reverse a vector (first element becomes last) (★☆☆)"
   ]
  },
  {
   "cell_type": "code",
   "execution_count": null,
   "id": "ec044bb5",
   "metadata": {},
   "outputs": [],
   "source": [
    "reversed_vector = arr[::-1]\n",
    "\n",
    "print(reversed_vector)"
   ]
  },
  {
   "cell_type": "markdown",
   "id": "29d9ede4",
   "metadata": {},
   "source": [
    "#### 9. Create a 3x3 matrix with values ranging from 0 to 8 (★☆☆)"
   ]
  },
  {
   "cell_type": "code",
   "execution_count": null,
   "id": "d9e39043",
   "metadata": {},
   "outputs": [],
   "source": [
    "# Create a 1D array with values ranging from 0 to 8\n",
    "array = np.arange(9)\n",
    "\n",
    "# Reshape the 1D array into a 3x3 matrix\n",
    "matrix = array.reshape((3, 3))\n",
    "\n",
    "print(matrix)"
   ]
  },
  {
   "cell_type": "markdown",
   "id": "88905ceb",
   "metadata": {},
   "source": [
    "#### 10. Find indices of non-zero elements from [1,2,0,0,4,0] (★☆☆)"
   ]
  },
  {
   "cell_type": "code",
   "execution_count": null,
   "id": "b2f3c90a",
   "metadata": {},
   "outputs": [],
   "source": [
    "# Create an array\n",
    "arr2 = np.array([1, 2, 0, 0, 4, 0])\n",
    "\n",
    "# Find the indices of non-zero elements\n",
    "nonzero_indices = np.nonzero(arr2)\n",
    "\n",
    "print(nonzero_indices)"
   ]
  },
  {
   "cell_type": "markdown",
   "id": "49603e91",
   "metadata": {},
   "source": [
    "#### 11. Create a 3x3 identity matrix (★☆☆)"
   ]
  },
  {
   "cell_type": "code",
   "execution_count": null,
   "id": "5b607b5c",
   "metadata": {},
   "outputs": [],
   "source": [
    "# Create a 3x3 identity matrix\n",
    "identity_matrix = np.eye(3)\n",
    "\n",
    "print(identity_matrix)\n"
   ]
  },
  {
   "cell_type": "markdown",
   "id": "e15c249a",
   "metadata": {},
   "source": [
    "#### 12. Create a 3x3x3 array with random values (★☆☆)"
   ]
  },
  {
   "cell_type": "code",
   "execution_count": null,
   "id": "ab21ed50",
   "metadata": {},
   "outputs": [],
   "source": [
    "# Create a 3x3x3 array with random integers between 0 and 9\n",
    "arr3d = np.random.randint(0, 10, size=(3, 3, 3))\n",
    "\n",
    "print(arr3d)"
   ]
  },
  {
   "cell_type": "markdown",
   "id": "157a129c",
   "metadata": {},
   "source": [
    "#### 13. Create a 10x10 array with random values and find the minimum and maximum values (★☆☆)"
   ]
  },
  {
   "cell_type": "code",
   "execution_count": null,
   "id": "c0066de5",
   "metadata": {},
   "outputs": [],
   "source": [
    "# Create a 10x10 array with random values\n",
    "arr4 = np.random.randint(22, 222, size=(10, 10))\n",
    "\n",
    "# Find the minimum and maximum values\n",
    "min_value = np.min(arr4)\n",
    "max_value = np.max(arr4)\n",
    "\n",
    "print(\"Minimum value:\", min_value)\n",
    "print(\"Maximum value:\", max_value)"
   ]
  },
  {
   "cell_type": "markdown",
   "id": "d92d7b32",
   "metadata": {},
   "source": [
    "#### 14. Create a random vector of size 30 and find the mean value (★☆☆)"
   ]
  },
  {
   "cell_type": "code",
   "execution_count": null,
   "id": "9672d023",
   "metadata": {},
   "outputs": [],
   "source": [
    "# Create a random vector of size 30\n",
    "vector2 = np.random.randint(3, 33, size=30)\n",
    "\n",
    "# Find the mean value\n",
    "mean_value = np.mean(vector2)\n",
    "\n",
    "print(\"Mean value:\", mean_value)"
   ]
  },
  {
   "cell_type": "markdown",
   "id": "f361efc0",
   "metadata": {},
   "source": [
    "#### 15. Create a 2d array with 1 on the border and 0 inside (★☆☆)"
   ]
  },
  {
   "cell_type": "code",
   "execution_count": null,
   "id": "a55b6666",
   "metadata": {},
   "outputs": [],
   "source": [
    "# Create a 5x5 array\n",
    "arr5 = np.ones((5, 5))\n",
    "\n",
    "# Set the inner values to 0\n",
    "arr5[1:-1, 1:-1] = 0\n",
    "\n",
    "print(arr5)"
   ]
  },
  {
   "cell_type": "markdown",
   "id": "475808cb",
   "metadata": {},
   "source": [
    "#### 16. How to add a border (filled with 0's) around an existing array? (★☆☆)"
   ]
  },
  {
   "cell_type": "code",
   "execution_count": null,
   "id": "b2df3a8a",
   "metadata": {},
   "outputs": [],
   "source": [
    "# Add a border filled with 0's around the original array\n",
    "new_arr = np.zeros((arr5.shape[0] + 2, arr5.shape[1] + 2))\n",
    "new_arr[1:-1, 1:-1] = arr5\n",
    "\n",
    "print(new_arr)"
   ]
  },
  {
   "cell_type": "markdown",
   "id": "1af07d85",
   "metadata": {},
   "source": [
    "#### 17. What is the result of the following expression? (★☆☆)\n",
    "```python\n",
    "0 * np.nan\n",
    "np.nan == np.nan\n",
    "np.inf > np.nan\n",
    "np.nan - np.nan\n",
    "np.nan in set([np.nan])\n",
    "0.3 == 3 * 0.1\n",
    "```"
   ]
  },
  {
   "cell_type": "code",
   "execution_count": null,
   "id": "109cf327",
   "metadata": {},
   "outputs": [],
   "source": [
    "print(0 * np.nan)\n",
    "print(np.nan == np.nan)\n",
    "print(np.inf > np.nan)\n",
    "print(np.nan - np.nan)\n",
    "print(np.nan in set([np.nan]))\n",
    "print(0.3 == 3 * 0.1)"
   ]
  },
  {
   "cell_type": "markdown",
   "id": "6a235316",
   "metadata": {},
   "source": [
    "#### 18. Create a 5x5 matrix with values 1,2,3,4 just below the diagonal (★☆☆)"
   ]
  },
  {
   "cell_type": "code",
   "execution_count": null,
   "id": "f2e6cfa6",
   "metadata": {},
   "outputs": [],
   "source": [
    "\n",
    "# Create a 5x5 matrix with values 1, 2, 3, 4 just below the diagonal\n",
    "matrix2 = np.diag([1, 2, 3, 4], k=-1)\n",
    "\n",
    "print(matrix2)"
   ]
  },
  {
   "cell_type": "markdown",
   "id": "25362e98",
   "metadata": {},
   "source": [
    "#### 19. Create a 8x8 matrix and fill it with a checkerboard pattern (★☆☆)"
   ]
  },
  {
   "cell_type": "code",
   "execution_count": null,
   "id": "cabdf298",
   "metadata": {},
   "outputs": [],
   "source": [
    "# Create an 8x8 matrix with a checkerboard pattern\n",
    "checkerboard_matrix = np.zeros((8, 8), dtype=int)\n",
    "checkerboard_matrix[1::2, ::2] = 1  # Fill odd rows, even columns with 1\n",
    "checkerboard_matrix[::2, 1::2] = 1  # Fill even rows, odd columns with 1\n",
    "\n",
    "print(checkerboard_matrix)"
   ]
  },
  {
   "cell_type": "markdown",
   "id": "6431e977",
   "metadata": {},
   "source": [
    "#### 20. Consider a (6,7,8) shape array, what is the index (x,y,z) of the 100th element? (★☆☆)"
   ]
  },
  {
   "cell_type": "code",
   "execution_count": null,
   "id": "de8b0245",
   "metadata": {},
   "outputs": [],
   "source": [
    "# Define the shape of the array\n",
    "shape = (6, 7, 8)\n",
    "\n",
    "# Flatten the array and find the index of the 100th element\n",
    "index_100 = np.unravel_index(99, shape)\n",
    "\n",
    "print(\"Index of the 100th element:\", index_100)"
   ]
  },
  {
   "cell_type": "markdown",
   "id": "31abe6fe",
   "metadata": {},
   "source": [
    "#### 21. Create a checkerboard 8x8 matrix using the tile function (★☆☆)"
   ]
  },
  {
   "cell_type": "code",
   "execution_count": null,
   "id": "6da26fd3",
   "metadata": {},
   "outputs": [],
   "source": [
    "# Create a 2x2 matrix representing the checkerboard pattern\n",
    "checkerboard_tile = np.array([[0, 1], [1, 0]])\n",
    "\n",
    "# Use tile to create an 8x8 checkerboard matrix\n",
    "checkerboard_matrix2 = np.tile(checkerboard_tile, (4, 4))\n",
    "\n",
    "print(checkerboard_matrix2)"
   ]
  },
  {
   "cell_type": "markdown",
   "id": "fd88b3f4",
   "metadata": {},
   "source": [
    "#### 22. Normalize a 5x5 random matrix (★☆☆)"
   ]
  },
  {
   "cell_type": "code",
   "execution_count": null,
   "id": "ee6ced60",
   "metadata": {},
   "outputs": [],
   "source": [
    "# Create a 5x5 random matrix\n",
    "matrix3 = np.random.rand(5, 5)\n",
    "\n",
    "# Normalize the matrix\n",
    "normalized_matrix = (matrix3 - np.min(matrix3)) / (np.max(matrix3) - np.min(matrix3))\n",
    "\n",
    "print(\"Original Matrix:\")\n",
    "print(matrix3)\n",
    "print(\"\\nNormalized Matrix:\")\n",
    "print(normalized_matrix)"
   ]
  },
  {
   "cell_type": "markdown",
   "id": "464d8590",
   "metadata": {},
   "source": [
    "#### 23. Create a custom dtype that describes a color as four unsigned bytes (RGBA) (★☆☆)"
   ]
  },
  {
   "cell_type": "code",
   "execution_count": null,
   "id": "e2f9cfc6",
   "metadata": {},
   "outputs": [],
   "source": [
    "# Define a custom dtype for RGBA color\n",
    "rgba_dtype = np.dtype([('R', np.uint8), ('G', np.uint8), ('B', np.uint8), ('A', np.uint8)])\n",
    "\n",
    "# Create an array with the custom dtype\n",
    "color_array = np.array((255, 127, 63, 255), dtype=rgba_dtype)\n",
    "\n",
    "print(\"RGBA Color Array:\")\n",
    "print(color_array)"
   ]
  },
  {
   "cell_type": "markdown",
   "id": "06c63bb3",
   "metadata": {},
   "source": [
    "#### 24. Multiply a 5x3 matrix by a 3x2 matrix (real matrix product) (★☆☆)"
   ]
  },
  {
   "cell_type": "code",
   "execution_count": null,
   "id": "9fc0d553",
   "metadata": {},
   "outputs": [],
   "source": [
    "# Create a 5x3 matrix\n",
    "matrix_a = np.random.randint(0, 10, size=(5, 3))\n",
    "\n",
    "# Create a 3x2 matrix\n",
    "matrix_b = np.random.randint(0, 10, size=(3, 2))\n",
    "\n",
    "# Perform matrix multiplication\n",
    "result_matrix = np.dot(matrix_a, matrix_b)\n",
    "\n",
    "print(\"Matrix A:\")\n",
    "print(matrix_a)\n",
    "print(\"\\nMatrix B:\")\n",
    "print(matrix_b)\n",
    "print(\"\\nResult Matrix:\")\n",
    "print(result_matrix)"
   ]
  },
  {
   "cell_type": "markdown",
   "id": "76fa6285",
   "metadata": {},
   "source": [
    "#### 25. Given a 1D array, negate all elements which are between 3 and 8, in place. (★☆☆)"
   ]
  },
  {
   "cell_type": "code",
   "execution_count": null,
   "id": "0e25eca7",
   "metadata": {},
   "outputs": [],
   "source": [
    "# Create a 1D array\n",
    "arr6 = np.array([1, 5, 7, 2, 9, 3, 6, 4, 8])\n",
    "\n",
    "# Negate elements between 3 and 8 in place\n",
    "arr6[(arr6 > 3) & (arr6 < 8)] *= -1\n",
    "\n",
    "print(arr6)"
   ]
  },
  {
   "cell_type": "markdown",
   "id": "930ed8bb",
   "metadata": {},
   "source": [
    "#### 26. What is the output of the following script? (★☆☆)\n",
    "```python\n",
    "# Author: Jake VanderPlas\n",
    "\n",
    "print(sum(range(5),-1))\n",
    "from numpy import *\n",
    "print(sum(range(5),-1))\n",
    "```"
   ]
  },
  {
   "cell_type": "code",
   "execution_count": null,
   "id": "f02eedba",
   "metadata": {},
   "outputs": [],
   "source": [
    "print(sum(range(5),-1))\n",
    "from numpy import *\n",
    "print(sum(range(5),-1))"
   ]
  },
  {
   "cell_type": "markdown",
   "id": "177120e7",
   "metadata": {},
   "source": [
    "#### 27. Consider an integer vector Z, which of these expressions are legal? (★☆☆)\n",
    "```python\n",
    "Z**Z\n",
    "2 << Z >> 2\n",
    "Z <- Z\n",
    "1j*Z\n",
    "Z/1/1\n",
    "Z<Z>Z\n",
    "```"
   ]
  },
  {
   "cell_type": "code",
   "execution_count": null,
   "id": "86d6cbef",
   "metadata": {},
   "outputs": [],
   "source": [
    "#Z**Z     Legal: Element-wise exponentiation\n",
    "#2 << Z >> 2     Legal: Bitwise left shift and right shift\n",
    "#Z <- Z     Legal: Element-wise less than comparison\n",
    "#1j*Z     Legal: Element-wise multiplication by a complex number\n",
    "#Z/1/1     Legal: Element-wise division\n",
    "#Z<Z>Z     Illegal: Chained comparisons"
   ]
  },
  {
   "cell_type": "markdown",
   "id": "a6eaf0e8",
   "metadata": {},
   "source": [
    "#### 28. What are the result of the following expressions? (★☆☆)\n",
    "```python\n",
    "np.array(0) / np.array(0)\n",
    "np.array(0) // np.array(0)\n",
    "np.array([np.nan]).astype(int).astype(float)\n",
    "```"
   ]
  },
  {
   "cell_type": "code",
   "execution_count": null,
   "id": "93684068",
   "metadata": {},
   "outputs": [],
   "source": [
    "print(np.array(0) / np.array(0))\n",
    "print(np.array(0) // np.array(0))\n",
    "print(np.array([np.nan]).astype(int).astype(float))"
   ]
  },
  {
   "cell_type": "markdown",
   "id": "524b65f8",
   "metadata": {},
   "source": [
    "#### 29. How to round away from zero a float array ? (★☆☆)"
   ]
  },
  {
   "cell_type": "code",
   "execution_count": null,
   "id": "61fbb78e",
   "metadata": {},
   "outputs": [],
   "source": [
    "# Create a float array\n",
    "float_array = np.array([-2.3, -1.5, 0.7, 1.2, 3.8])\n",
    "\n",
    "# Round away from zero\n",
    "rounded_array = np.where(float_array >= 0, np.ceil(float_array), np.floor(float_array))\n",
    "\n",
    "print(\"Original Float Array:\")\n",
    "print(float_array)\n",
    "print(\"\\nRounded Array (Away from Zero):\")\n",
    "print(rounded_array)"
   ]
  },
  {
   "cell_type": "markdown",
   "id": "8dc40752",
   "metadata": {},
   "source": [
    "#### 30. How to find common values between two arrays? (★☆☆)"
   ]
  },
  {
   "cell_type": "code",
   "execution_count": null,
   "id": "54399cbe",
   "metadata": {},
   "outputs": [],
   "source": [
    "array1 = np.array([1, 2, 3, 4, 5])\n",
    "array2 = np.array([3, 4, 5, 6, 7])\n",
    "\n",
    "common_values = np.intersect1d(array1, array2)\n",
    "print(common_values)"
   ]
  },
  {
   "cell_type": "markdown",
   "id": "b7f38e21",
   "metadata": {},
   "source": [
    "#### 31. How to ignore all numpy warnings (not recommended)? (★☆☆)"
   ]
  },
  {
   "cell_type": "code",
   "execution_count": null,
   "id": "2ca3289c",
   "metadata": {},
   "outputs": [],
   "source": [
    "import warnings\n",
    "\n",
    "# Ignore all NumPy warnings\n",
    "warnings.filterwarnings(\"ignore\", category=np.VisibleDeprecationWarning)"
   ]
  },
  {
   "cell_type": "markdown",
   "id": "2d850aab",
   "metadata": {},
   "source": [
    "#### 32. Is the following expressions true? (★☆☆)\n",
    "```python\n",
    "np.sqrt(-1) == np.emath.sqrt(-1)\n",
    "```"
   ]
  },
  {
   "cell_type": "code",
   "execution_count": null,
   "id": "5c83ffce",
   "metadata": {},
   "outputs": [],
   "source": [
    "x1 = np.sqrt(-1)\n",
    "x2 = np.emath.sqrt(-1)\n",
    "\n",
    "print(x1)\n",
    "print(x2)\n",
    "print(x1 == x2)"
   ]
  },
  {
   "cell_type": "markdown",
   "id": "5c4a556f",
   "metadata": {},
   "source": [
    "#### 33. How to get the dates of yesterday, today and tomorrow? (★☆☆)"
   ]
  },
  {
   "cell_type": "code",
   "execution_count": null,
   "id": "c3b683a0",
   "metadata": {},
   "outputs": [],
   "source": [
    "from datetime import datetime, timedelta\n",
    "\n",
    "# Get today's date\n",
    "today = datetime.now().date()\n",
    "\n",
    "# Create a NumPy array with yesterday, today, and tomorrow\n",
    "dates = np.array([today - timedelta(days=1), today, today + timedelta(days=1)])\n",
    "\n",
    "print(\"Yesterday:\", dates[0])\n",
    "print(\"Today:\", dates[1])\n",
    "print(\"Tomorrow:\", dates[2])"
   ]
  },
  {
   "cell_type": "markdown",
   "id": "453cdd64",
   "metadata": {},
   "source": [
    "#### 34. How to get all the dates corresponding to the month of July 2016? (★★☆)"
   ]
  },
  {
   "cell_type": "code",
   "execution_count": null,
   "id": "4ba4d37c",
   "metadata": {},
   "outputs": [],
   "source": [
    "# Define the start and end dates of July 2016\n",
    "start_date = np.datetime64('2016-07-01')\n",
    "end_date = np.datetime64('2016-08-01')\n",
    "\n",
    "# Generate an array of dates for the month of July 2016\n",
    "dates = np.arange(start_date, end_date, np.timedelta64(1, 'D'))\n",
    "\n",
    "print(dates)"
   ]
  },
  {
   "cell_type": "markdown",
   "id": "52667b6e",
   "metadata": {},
   "source": [
    "#### 35. How to compute ((A+B)*(-A/2)) in place (without copy)? (★★☆)"
   ]
  },
  {
   "cell_type": "code",
   "execution_count": null,
   "id": "e6e7c030",
   "metadata": {},
   "outputs": [],
   "source": [
    "# Create arrays A and B\n",
    "A = np.array([1, 2, 3], dtype=float)\n",
    "B = np.array([4, 5, 6], dtype=float)\n",
    "\n",
    "# Perform the operation in place\n",
    "np.multiply(np.add(A, B, out=A), np.negative(np.divide(A, 2, out=A), out=A), out=A)\n",
    "\n",
    "print(A)"
   ]
  },
  {
   "cell_type": "markdown",
   "id": "9a8f3738",
   "metadata": {},
   "source": [
    "#### 36. Extract the integer part of a random array of positive numbers using 4 different methods (★★☆)"
   ]
  },
  {
   "cell_type": "code",
   "execution_count": null,
   "id": "368a801a",
   "metadata": {},
   "outputs": [],
   "source": [
    "# Create a random array of positive numbers\n",
    "random_array = np.random.rand(5) * 10  # Example array of length 5\n",
    "\n",
    "# Method 1: Using np.floor\n",
    "method_1_result = np.floor(random_array)\n",
    "\n",
    "# Method 2: Using np.ceil\n",
    "method_2_result = np.ceil(random_array)\n",
    "\n",
    "# Method 3: Using astype(int)\n",
    "method_3_result = random_array.astype(int)\n",
    "\n",
    "# Method 4: Using np.trunc\n",
    "method_4_result = np.trunc(random_array)\n",
    "\n",
    "# Print the results\n",
    "print(\"Original Array:\", random_array)\n",
    "print(\"Method 1 (np.floor):\", method_1_result)\n",
    "print(\"Method 2 (np.ceil):\", method_2_result)\n",
    "print(\"Method 3 (astype(int)):\", method_3_result)\n",
    "print(\"Method 4 (np.trunc):\", method_4_result)"
   ]
  },
  {
   "cell_type": "markdown",
   "id": "cab1eed1",
   "metadata": {},
   "source": [
    "#### 37. Create a 5x5 matrix with row values ranging from 0 to 4 (★★☆)"
   ]
  },
  {
   "cell_type": "code",
   "execution_count": null,
   "id": "f1b579ba",
   "metadata": {},
   "outputs": [],
   "source": [
    "# Create a 5x5 matrix with row values ranging from 0 to 4\n",
    "matrix4 = np.zeros((5, 5))\n",
    "matrix4 += np.arange(5)\n",
    "\n",
    "print(matrix4)"
   ]
  },
  {
   "cell_type": "markdown",
   "id": "cd0ce6b1",
   "metadata": {},
   "source": [
    "#### 38. Consider a generator function that generates 10 integers and use it to build an array (★☆☆)"
   ]
  },
  {
   "cell_type": "code",
   "execution_count": null,
   "id": "aab193a6",
   "metadata": {},
   "outputs": [],
   "source": [
    "# Define a generator function that yields 10 integers\n",
    "def generate_integers():\n",
    "    for i in range(10):\n",
    "        yield i\n",
    "\n",
    "# Use the generator function to build an array\n",
    "array_from_generator = np.fromiter(generate_integers(), dtype=int)\n",
    "\n",
    "print(array_from_generator)"
   ]
  },
  {
   "cell_type": "markdown",
   "id": "c4c942d1",
   "metadata": {},
   "source": [
    "#### 39. Create a vector of size 10 with values ranging from 0 to 1, both excluded (★★☆)"
   ]
  },
  {
   "cell_type": "code",
   "execution_count": null,
   "id": "e42eaa4b",
   "metadata": {},
   "outputs": [],
   "source": [
    "# Create a vector of size 10 with values ranging from 0 to 1 (excluding both)\n",
    "vector3 = np.linspace(0, 1, 12)[1:-1]\n",
    "\n",
    "print(vector3)"
   ]
  },
  {
   "cell_type": "markdown",
   "id": "9b3cb8d2",
   "metadata": {},
   "source": [
    "#### 40. Create a random vector of size 10 and sort it (★★☆)"
   ]
  },
  {
   "cell_type": "code",
   "execution_count": null,
   "id": "37d2b341",
   "metadata": {},
   "outputs": [],
   "source": [
    "# Create a random vector of size 10\n",
    "vector4 = np.random.rand(10)\n",
    "\n",
    "# Sort the random vector\n",
    "sorted_vector = np.sort(vector4)\n",
    "\n",
    "print(\"Original Vector:\", vector4)\n",
    "print(\"Sorted Vector:\", sorted_vector)"
   ]
  },
  {
   "cell_type": "markdown",
   "id": "2facfddc",
   "metadata": {},
   "source": [
    "#### 41. How to sum a small array faster than np.sum? (★★☆)"
   ]
  },
  {
   "cell_type": "code",
   "execution_count": null,
   "id": "4bb8864f",
   "metadata": {},
   "outputs": [],
   "source": [
    "# Create a small array\n",
    "small_array = np.array([1, 2, 3, 4, 5])\n",
    "\n",
    "# Use Python's built-in sum function\n",
    "sum_result = sum(small_array)\n",
    "\n",
    "print(\"Sum using built-in sum function:\", sum_result)"
   ]
  },
  {
   "cell_type": "markdown",
   "id": "539cd2a5",
   "metadata": {},
   "source": [
    "#### 42. Consider two random array A and B, check if they are equal (★★☆)"
   ]
  },
  {
   "cell_type": "code",
   "execution_count": null,
   "id": "5246d7bf",
   "metadata": {},
   "outputs": [],
   "source": [
    "# Create two random arrays A and B\n",
    "A = np.random.rand(5)\n",
    "B = np.random.rand(5)\n",
    "\n",
    "# Check if arrays A and B are equal\n",
    "are_equal = np.array_equal(A, B)\n",
    "\n",
    "print(\"Array A:\", A)\n",
    "print(\"Array B:\", B)\n",
    "print(\"Are arrays A and B equal?\", are_equal)"
   ]
  },
  {
   "cell_type": "markdown",
   "id": "448f8274",
   "metadata": {},
   "source": [
    "#### 43. Make an array immutable (read-only) (★★☆)"
   ]
  },
  {
   "cell_type": "code",
   "execution_count": null,
   "id": "7cf2b3dd",
   "metadata": {},
   "outputs": [],
   "source": [
    "# Create a mutable array\n",
    "mutable_array = np.array([1, 2, 3, 4, 5])\n",
    "\n",
    "# Make the array read-only\n",
    "immutable_array = np.array([1, 2, 3, 4, 5])\n",
    "immutable_array.flags.writeable = False\n",
    "\n",
    "# Try to modify the elements in both arrays\n",
    "mutable_array[0] = 10  # This is allowed\n",
    "# immutable_array[0] = 10  # This will raise a ValueError\n",
    "\n",
    "print(\"Mutable Array:\", mutable_array)\n",
    "print(\"Immutable Array:\", immutable_array)"
   ]
  },
  {
   "cell_type": "markdown",
   "id": "d7b7aaf3",
   "metadata": {},
   "source": [
    "#### 44. Consider a random 10x2 matrix representing cartesian coordinates, convert them to polar coordinates (★★☆)"
   ]
  },
  {
   "cell_type": "code",
   "execution_count": null,
   "id": "e2337585",
   "metadata": {},
   "outputs": [],
   "source": [
    "# Create a random 10x2 matrix of cartesian coordinates\n",
    "cartesian_coordinates = np.random.rand(10, 2)\n",
    "\n",
    "# Extract x and y coordinates\n",
    "x = cartesian_coordinates[:, 0]\n",
    "y = cartesian_coordinates[:, 1]\n",
    "\n",
    "# Convert cartesian to polar coordinates\n",
    "radius = np.sqrt(x**2 + y**2)\n",
    "angle = np.arctan2(y, x)\n",
    "\n",
    "# Combine radius and angle to get polar coordinates\n",
    "polar_coordinates = np.column_stack((radius, angle))\n",
    "\n",
    "print(\"Cartesian Coordinates:\")\n",
    "print(cartesian_coordinates)\n",
    "print(\"\\nPolar Coordinates:\")\n",
    "print(polar_coordinates)"
   ]
  },
  {
   "cell_type": "markdown",
   "id": "a556027a",
   "metadata": {},
   "source": [
    "#### 45. Create random vector of size 10 and replace the maximum value by 0 (★★☆)"
   ]
  },
  {
   "cell_type": "code",
   "execution_count": null,
   "id": "9e07cb87",
   "metadata": {},
   "outputs": [],
   "source": [
    "\n",
    "# Create a random vector of size 10\n",
    "vector5 = np.random.rand(10)\n",
    "\n",
    "print(\"Original Vector:\", vector4)\n",
    "\n",
    "# Find the index of the maximum value\n",
    "max_index = np.argmax(vector4)\n",
    "\n",
    "# Replace the maximum value with 0\n",
    "vector4[max_index] = 0\n",
    "\n",
    "print(\"Vector after replacing the maximum value with 0:\", vector4)"
   ]
  },
  {
   "cell_type": "markdown",
   "id": "004f3da1",
   "metadata": {},
   "source": [
    "#### 46. Create a structured array with `x` and `y` coordinates covering the [0,1]x[0,1] area (★★☆)"
   ]
  },
  {
   "cell_type": "code",
   "execution_count": null,
   "id": "b3824741",
   "metadata": {},
   "outputs": [],
   "source": [
    "# Create a structured array with 'x' and 'y' coordinates\n",
    "structured_array = np.zeros((10, 10), dtype=[('x', float), ('y', float)])\n",
    "\n",
    "# Fill 'x' and 'y' coordinates with values covering [0, 1]x[0, 1]\n",
    "structured_array['x'], structured_array['y'] = np.meshgrid(np.linspace(0, 1, 10), np.linspace(0, 1, 10))\n",
    "\n",
    "print(structured_array)"
   ]
  },
  {
   "cell_type": "markdown",
   "id": "1c0adc0d",
   "metadata": {},
   "source": [
    "#### 47. Given two arrays, X and Y, construct the Cauchy matrix C (Cij =1/(xi - yj)) (★★☆)"
   ]
  },
  {
   "cell_type": "code",
   "execution_count": null,
   "id": "01b3bbb7",
   "metadata": {},
   "outputs": [],
   "source": [
    "# Given arrays X and Y\n",
    "X = np.array([1, 2, 3])\n",
    "Y = np.array([4, 5, 6])\n",
    "\n",
    "# Construct the Cauchy matrix C\n",
    "C = 1.0 / (X[:, np.newaxis] - Y)\n",
    "\n",
    "print(C)"
   ]
  },
  {
   "cell_type": "markdown",
   "id": "c8a2f65a",
   "metadata": {},
   "source": [
    "#### 48. Print the minimum and maximum representable value for each numpy scalar type (★★☆)"
   ]
  },
  {
   "cell_type": "code",
   "execution_count": null,
   "id": "35d844d6",
   "metadata": {},
   "outputs": [],
   "source": [
    "# Integer types\n",
    "print(\"Integer types:\\n\")\n",
    "for dtype in [np.int8, np.int16, np.int32, np.int64]:\n",
    "    info = np.iinfo(dtype)\n",
    "    print(f\"Minimum representable value for {dtype}: {info.min}\")\n",
    "    print(f\"Maximum representable value for {dtype}: {info.max}\\n\")\n",
    "\n",
    "# Floating-point types\n",
    "print(\"Floating-point types:\\n\")\n",
    "for dtype in [np.float16, np.float32, np.float64]:\n",
    "    info = np.finfo(dtype)\n",
    "    print(f\"Minimum representable value for {dtype}: {info.min}\")\n",
    "    print(f\"Maximum representable value for {dtype}: {info.max}\")\n",
    "    print(f\"Epsilon for {dtype}: {info.eps}\\n\")"
   ]
  },
  {
   "cell_type": "markdown",
   "id": "11727a69",
   "metadata": {},
   "source": [
    "#### 49. How to print all the values of an array? (★★☆)"
   ]
  },
  {
   "cell_type": "code",
   "execution_count": null,
   "id": "47e98473",
   "metadata": {},
   "outputs": [],
   "source": [
    "# Create an example array\n",
    "arr7 = np.array([[1, 2, 3], [4, 5, 6], [7, 8, 9]])\n",
    "\n",
    "# Method 1: Using a loop\n",
    "print(\"Method 1:\")\n",
    "for row in arr7:\n",
    "    for value in row:\n",
    "        print(value, end=' ')\n",
    "print(\"\\n\")\n",
    "\n",
    "# Method 2: Using print with the array directly\n",
    "print(\"Method 2:\")\n",
    "print(arr7)"
   ]
  },
  {
   "cell_type": "markdown",
   "id": "e0e7d741",
   "metadata": {},
   "source": [
    "#### 50. How to find the closest value (to a given scalar) in a vector? (★★☆)"
   ]
  },
  {
   "cell_type": "code",
   "execution_count": null,
   "id": "62cabf6f",
   "metadata": {},
   "outputs": [],
   "source": [
    "# Create a vector\n",
    "vector6 = np.array([1.2, 2.5, 3.8, 4.1, 5.7])\n",
    "\n",
    "# Given scalar value\n",
    "scalar = 3.0\n",
    "\n",
    "# Find the index of the closest value\n",
    "index_closest = np.abs(vector6 - scalar).argmin()\n",
    "\n",
    "# Get the closest value\n",
    "closest_value = vector6[index_closest]\n",
    "\n",
    "print(\"Vector:\", vector6)\n",
    "print(\"Scalar:\", scalar)\n",
    "print(\"Closest Value:\", closest_value)"
   ]
  },
  {
   "cell_type": "markdown",
   "id": "c5611b9e",
   "metadata": {},
   "source": [
    "#### 51. Create a structured array representing a position (x,y) and a color (r,g,b) (★★☆)"
   ]
  },
  {
   "cell_type": "code",
   "execution_count": null,
   "id": "f622939d",
   "metadata": {},
   "outputs": [],
   "source": [
    "\n",
    "# Create a structured array with fields 'position' and 'color'\n",
    "# 'position' has fields 'x' and 'y', and 'color' has fields 'r', 'g', and 'b'\n",
    "structured_array = np.zeros(5, dtype=[('position', [('x', float), ('y', float)]),\n",
    "                                     ('color', [('r', int), ('g', int), ('b', int)])])\n",
    "\n",
    "# Fill the structured array with example values\n",
    "structured_array['position']['x'] = np.random.rand(5)\n",
    "structured_array['position']['y'] = np.random.rand(5)\n",
    "structured_array['color']['r'] = np.random.randint(0, 256, 5)\n",
    "structured_array['color']['g'] = np.random.randint(0, 256, 5)\n",
    "structured_array['color']['b'] = np.random.randint(0, 256, 5)\n",
    "\n",
    "print(structured_array)"
   ]
  },
  {
   "cell_type": "markdown",
   "id": "d22b8574",
   "metadata": {},
   "source": [
    "#### 52. Consider a random vector with shape (100,2) representing coordinates, find point by point distances (★★☆)"
   ]
  },
  {
   "cell_type": "code",
   "execution_count": null,
   "id": "d5c9cdf8",
   "metadata": {},
   "outputs": [],
   "source": [
    "# Create a random vector with shape (100, 2)\n",
    "coordinates = np.random.rand(100, 2)\n",
    "\n",
    "# Calculate point-to-point distances\n",
    "distances = np.sqrt(np.sum((coordinates - coordinates[:, np.newaxis]) ** 2, axis=2))\n",
    "\n",
    "print(distances)"
   ]
  },
  {
   "cell_type": "markdown",
   "id": "f5c164f2",
   "metadata": {},
   "source": [
    "#### 53. How to convert a float (32 bits) array into an integer (32 bits) in place?"
   ]
  },
  {
   "cell_type": "code",
   "execution_count": null,
   "id": "ea262de8",
   "metadata": {},
   "outputs": [],
   "source": [
    "\n",
    "# Create a float (32 bits) array\n",
    "float_array = np.array([1.5, 2.7, 3.9], dtype=np.float32)\n",
    "\n",
    "# Convert the float array to an integer (32 bits) array in place\n",
    "int_array = float_array.view(dtype=np.int32)\n",
    "\n",
    "print(\"Float Array:\", float_array)\n",
    "print(\"Integer Array:\", int_array)"
   ]
  },
  {
   "cell_type": "markdown",
   "id": "a8b7e6f5",
   "metadata": {},
   "source": [
    "#### 54. How to read the following file? (★★☆)\n",
    "```\n",
    "1, 2, 3, 4, 5\n",
    "6,  ,  , 7, 8\n",
    " ,  , 9,10,11\n",
    "```"
   ]
  },
  {
   "cell_type": "code",
   "execution_count": null,
   "id": "bde0538a",
   "metadata": {},
   "outputs": [],
   "source": [
    "from io import StringIO\n",
    "\n",
    "# Your file content\n",
    "file_content = \"\"\"1, 2, 3, 4, 5\n",
    "6,  ,  , 7, 8\n",
    " ,  , 9,10,11\"\"\"\n",
    "\n",
    "# Convert the string content to a NumPy array\n",
    "data_array = np.genfromtxt(StringIO(file_content), delimiter=',', filling_values=np.nan)\n",
    "\n",
    "print(data_array)"
   ]
  },
  {
   "cell_type": "markdown",
   "id": "c6b32834",
   "metadata": {},
   "source": [
    "#### 55. What is the equivalent of enumerate for numpy arrays? (★★☆)"
   ]
  },
  {
   "cell_type": "code",
   "execution_count": null,
   "id": "ab02472a",
   "metadata": {},
   "outputs": [],
   "source": [
    "# Create a NumPy array\n",
    "arr8 = np.array([[1, 2, 3], [4, 5, 6], [7, 8, 9]])\n",
    "\n",
    "# Use numpy.ndenumerate to iterate over the array along with indices\n",
    "for index, value in np.ndenumerate(arr8):\n",
    "    print(f\"Index: {index}, Value: {value}\")"
   ]
  },
  {
   "cell_type": "markdown",
   "id": "a2121a05",
   "metadata": {},
   "source": [
    "#### 56. Generate a generic 2D Gaussian-like array (★★☆)"
   ]
  },
  {
   "cell_type": "code",
   "execution_count": null,
   "id": "18507102",
   "metadata": {},
   "outputs": [],
   "source": [
    "def gaussian_2d(shape, sigma=1.0):\n",
    "    m, n = [(ss-1.)/2. for ss in shape]\n",
    "    y, x = np.ogrid[-m:m+1, -n:n+1]\n",
    "    h = np.exp(-(x*x + y*y) / (2.*sigma*sigma))\n",
    "    h[h < np.finfo(h.dtype).eps*h.max()] = 0\n",
    "    return h / h.sum()\n",
    "\n",
    "# Specify the shape and sigma value\n",
    "shape = (5, 5)\n",
    "sigma = 1.0\n",
    "\n",
    "# Generate the Gaussian-like array\n",
    "gaussian_array = gaussian_2d(shape, sigma)\n",
    "\n",
    "print(\"Gaussian-like Array:\")\n",
    "print(gaussian_array)"
   ]
  },
  {
   "cell_type": "markdown",
   "id": "97055efa",
   "metadata": {},
   "source": [
    "#### 57. How to randomly place p elements in a 2D array? (★★☆)"
   ]
  },
  {
   "cell_type": "code",
   "execution_count": null,
   "id": "292e842f",
   "metadata": {},
   "outputs": [],
   "source": [
    "def place_random_elements(arr, p):\n",
    "    # Flatten the array to make it 1D\n",
    "    flattened_arr = arr.flatten()\n",
    "\n",
    "    # Get the total number of elements in the array\n",
    "    total_elements = flattened_arr.size\n",
    "\n",
    "    # Randomly select p indices\n",
    "    random_indices = np.random.choice(total_elements, p, replace=False)\n",
    "\n",
    "    # Place random elements at the selected indices\n",
    "    flattened_arr[random_indices] = 1  # You can replace '1' with any value you want to place\n",
    "\n",
    "    # Reshape the array back to its original shape\n",
    "    result = flattened_arr.reshape(arr.shape)\n",
    "\n",
    "    return result\n",
    "\n",
    "# Create a 2D array\n",
    "array_2d = np.zeros((5, 5))\n",
    "\n",
    "# Specify the number of random elements to place (p)\n",
    "p = 6\n",
    "\n",
    "# Place random elements in the 2D array\n",
    "result_array = place_random_elements(array_2d, p)\n",
    "\n",
    "print(\"Original 2D Array:\")\n",
    "print(array_2d)\n",
    "print(\"\\nResulting 2D Array with Random Elements:\")\n",
    "print(result_array)"
   ]
  },
  {
   "cell_type": "markdown",
   "id": "bfd2513c",
   "metadata": {},
   "source": [
    "#### 58. Subtract the mean of each row of a matrix (★★☆)"
   ]
  },
  {
   "cell_type": "code",
   "execution_count": null,
   "id": "f306ab72",
   "metadata": {},
   "outputs": [],
   "source": [
    "# Create a sample matrix\n",
    "matrix5 = np.array([[1, 2, 3], [4, 5, 6], [7, 8, 9]])\n",
    "\n",
    "# Subtract the mean of each row\n",
    "result_matrix = matrix5 - np.mean(matrix5, axis=1, keepdims=True)\n",
    "\n",
    "print(\"Original Matrix:\")\n",
    "print(matrix5)\n",
    "print(\"\\nResult Matrix (Mean of each row subtracted):\")\n",
    "print(result_matrix)"
   ]
  },
  {
   "cell_type": "markdown",
   "id": "da9f2f9b",
   "metadata": {},
   "source": [
    "#### 59. How to sort an array by the nth column? (★★☆)"
   ]
  },
  {
   "cell_type": "code",
   "execution_count": null,
   "id": "68cde57f",
   "metadata": {},
   "outputs": [],
   "source": [
    "# Create a sample 2D array\n",
    "array_2d = np.array([[4, 2, 6],\n",
    "                     [1, 7, 5],\n",
    "                     [3, 8, 9]])\n",
    "\n",
    "# Specify the column index to sort by (e.g., sort by the first column, n=0)\n",
    "n = 0\n",
    "\n",
    "# Get the indices that would sort the array along the specified column\n",
    "sorted_indices = np.argsort(array_2d[:, n])\n",
    "\n",
    "# Use the sorted indices to rearrange the rows of the array\n",
    "sorted_array = array_2d[sorted_indices]\n",
    "\n",
    "print(\"Original 2D Array:\")\n",
    "print(array_2d)\n",
    "print(\"\\nSorted 2D Array by the nth column:\")\n",
    "print(sorted_array)"
   ]
  },
  {
   "cell_type": "markdown",
   "id": "5b7be45c",
   "metadata": {},
   "source": [
    "#### 60. How to tell if a given 2D array has null columns? (★★☆)"
   ]
  },
  {
   "cell_type": "code",
   "execution_count": null,
   "id": "7dbe2c27",
   "metadata": {},
   "outputs": [],
   "source": [
    "def has_null_columns(array_2d):\n",
    "    # Check if any column has all zero values\n",
    "    null_columns = np.all(array_2d == 0, axis=0)\n",
    "    \n",
    "    # Return True if there is at least one null column, False otherwise\n",
    "    return np.any(null_columns)\n",
    "\n",
    "# Create a sample 2D array\n",
    "array_2d = np.array([[1, 0, 3],\n",
    "                     [0, 0, 0],\n",
    "                     [4, 0, 6]])\n",
    "\n",
    "# Check if the array has null columns\n",
    "result = has_null_columns(array_2d)\n",
    "\n",
    "print(\"Original 2D Array:\")\n",
    "print(array_2d)\n",
    "print(\"\\nDoes the array have null columns?\", result)"
   ]
  },
  {
   "cell_type": "markdown",
   "id": "7c18c02e",
   "metadata": {},
   "source": [
    "#### 61. Find the nearest value from a given value in an array (★★☆)"
   ]
  },
  {
   "cell_type": "code",
   "execution_count": null,
   "id": "b78ae9c4",
   "metadata": {},
   "outputs": [],
   "source": [
    "def find_nearest_value(array, value):\n",
    "    # Find the index of the element with the nearest value\n",
    "    index = np.abs(array - value).argmin()\n",
    "    \n",
    "    # Get the nearest value\n",
    "    nearest_value = array[index]\n",
    "    \n",
    "    return nearest_value\n",
    "\n",
    "# Create a sample array\n",
    "array = np.array([1.2, 2.5, 3.8, 4.1, 5.7])\n",
    "\n",
    "# Given value\n",
    "given_value = 3.0\n",
    "\n",
    "# Find the nearest value in the array\n",
    "result = find_nearest_value(array, given_value)\n",
    "\n",
    "print(\"Array:\", array)\n",
    "print(\"Given Value:\", given_value)\n",
    "print(\"Nearest Value:\", result)"
   ]
  },
  {
   "cell_type": "markdown",
   "id": "8174ba2c",
   "metadata": {},
   "source": [
    "#### 62. Considering two arrays with shape (1,3) and (3,1), how to compute their sum using an iterator? (★★☆)"
   ]
  },
  {
   "cell_type": "code",
   "execution_count": null,
   "id": "8a18fe57",
   "metadata": {},
   "outputs": [],
   "source": [
    "# Create two arrays with shapes (1,3) and (3,1)\n",
    "array1 = np.array([[1, 2, 3]])\n",
    "array2 = np.array([[4], [5], [6]])\n",
    "\n",
    "# Flatten the arrays\n",
    "flat_array1 = array1.flatten()\n",
    "flat_array2 = array2.flatten()\n",
    "\n",
    "# Compute the sum using an iterator\n",
    "sum_result = [a + b for a, b in zip(flat_array1, flat_array2)]\n",
    "\n",
    "# Reshape the result to the original shape (1,3)\n",
    "sum_result = np.array(sum_result).reshape(array1.shape)\n",
    "\n",
    "print(\"Array 1:\")\n",
    "print(array1)\n",
    "print(\"\\nArray 2:\")\n",
    "print(array2)\n",
    "print(\"\\nSum Result:\")\n",
    "print(sum_result)"
   ]
  },
  {
   "cell_type": "markdown",
   "id": "9189bd7c",
   "metadata": {},
   "source": [
    "#### 63. Create an array class that has a name attribute (★★☆)"
   ]
  },
  {
   "cell_type": "code",
   "execution_count": null,
   "id": "1c01ed42",
   "metadata": {},
   "outputs": [],
   "source": [
    "class NamedArray(np.ndarray):\n",
    "    def __new__(cls, input_array, name=\"Unnamed\"):\n",
    "        obj = np.asarray(input_array).view(cls)\n",
    "        obj.name = name\n",
    "        return obj\n",
    "\n",
    "    def __array_finalize__(self, obj):\n",
    "        if obj is None:\n",
    "            return\n",
    "        self.name = getattr(obj, 'name', \"Unnamed\")\n",
    "\n",
    "# Create an instance of the NamedArray class\n",
    "arr = NamedArray([[1, 2], [3, 4]], name=\"MyArray\")\n",
    "\n",
    "# Access the array and its name attribute\n",
    "print(\"Array:\")\n",
    "print(arr)\n",
    "print(\"\\nArray Name:\", arr.name)"
   ]
  },
  {
   "cell_type": "markdown",
   "id": "f30162d2",
   "metadata": {},
   "source": [
    "#### 64. Consider a given vector, how to add 1 to each element indexed by a second vector (be careful with repeated indices)? (★★★)"
   ]
  },
  {
   "cell_type": "code",
   "execution_count": null,
   "id": "093ba36f",
   "metadata": {},
   "outputs": [],
   "source": [
    "# Given vector\n",
    "main_vector = np.array([1, 2, 3, 4, 5])\n",
    "\n",
    "# Indices vector\n",
    "indices_vector = np.array([0, 1, 3, 1, 4])\n",
    "\n",
    "# Create a unique set of indices and count their occurrences\n",
    "unique_indices, counts = np.unique(indices_vector, return_counts=True)\n",
    "\n",
    "# Add 1 to each element at the unique indices\n",
    "main_vector[unique_indices] += counts\n",
    "\n",
    "print(\"Original Vector:\", main_vector)"
   ]
  },
  {
   "cell_type": "markdown",
   "id": "f5b1c584",
   "metadata": {},
   "source": [
    "#### 65. How to accumulate elements of a vector (X) to an array (F) based on an index list (I)? (★★★)"
   ]
  },
  {
   "cell_type": "code",
   "execution_count": null,
   "id": "c9d92a75",
   "metadata": {},
   "outputs": [],
   "source": [
    "# Given vector X\n",
    "X = np.array([0, 1, 2, 3, 4])\n",
    "\n",
    "# Given index list I\n",
    "I = np.array([3, 2, 2, 1, 3])\n",
    "\n",
    "# Initialize an array F with zeros, making sure it's large enough to accommodate the indices\n",
    "F = np.zeros(np.max(I) + 1)\n",
    "\n",
    "# Accumulate elements of X into F based on the index list I\n",
    "np.add.at(X, I, F)\n",
    "\n",
    "print(\"Vector X:\", X)\n",
    "print(\"Index List I:\", I)\n",
    "print(\"Accumulated Array F:\", F)"
   ]
  },
  {
   "cell_type": "markdown",
   "id": "994c452d",
   "metadata": {},
   "source": [
    "#### 66. Considering a (w,h,3) image of (dtype=ubyte), compute the number of unique colors (★★☆)"
   ]
  },
  {
   "cell_type": "code",
   "execution_count": null,
   "id": "269cdaea",
   "metadata": {},
   "outputs": [],
   "source": [
    "# Assuming img is your image array\n",
    "# Replace this with your actual image data\n",
    "img = np.random.randint(0, 256, (100, 100, 3), dtype=np.uint8)\n",
    "\n",
    "# Reshape the image to (w * h, 3) to treat each pixel as a separate color\n",
    "reshaped_img = img.reshape((-1, 3))\n",
    "\n",
    "# Convert the reshaped image to a 1D array of unique colors\n",
    "unique_colors = np.unique(reshaped_img, axis=0)\n",
    "\n",
    "# Get the number of unique colors\n",
    "num_unique_colors = unique_colors.shape[0]\n",
    "\n",
    "print(\"Number of Unique Colors:\", num_unique_colors)"
   ]
  },
  {
   "cell_type": "markdown",
   "id": "4bddeb31",
   "metadata": {},
   "source": [
    "#### 67. Considering a four dimensions array, how to get sum over the last two axis at once? (★★★)"
   ]
  },
  {
   "cell_type": "code",
   "execution_count": null,
   "id": "32af15f5",
   "metadata": {},
   "outputs": [],
   "source": [
    "# Create a sample 4D array\n",
    "four_dim_array = np.random.randint(0, 10, size=(2, 3, 4, 5))\n",
    "\n",
    "# Sum over the last two axes (axis=(2, 3))\n",
    "sum_result = np.sum(four_dim_array, axis=(2, 3))\n",
    "\n",
    "print(\"Original 4D Array:\")\n",
    "print(four_dim_array)\n",
    "print(\"\\nSum Over the Last Two Axes:\")\n",
    "print(sum_result)"
   ]
  },
  {
   "cell_type": "markdown",
   "id": "c4cf083c",
   "metadata": {},
   "source": [
    "#### 68. Considering a one-dimensional vector D, how to compute means of subsets of D using a vector S of same size describing subset  indices? (★★★)"
   ]
  },
  {
   "cell_type": "code",
   "execution_count": null,
   "id": "9600a2dd",
   "metadata": {},
   "outputs": [],
   "source": [
    "# Assuming D is your one-dimensional vector\n",
    "D = np.array([1, 2, 3, 4, 5, 6])\n",
    "\n",
    "# Assuming S is your subset indices vector\n",
    "S = np.array([0, 1, 0, 1, 1, 0])\n",
    "\n",
    "# Use np.bincount to accumulate sum and count for each subset\n",
    "subset_sums = np.bincount(S, weights=D)\n",
    "subset_counts = np.bincount(S)\n",
    "\n",
    "# Avoid division by zero and compute means\n",
    "subset_means = subset_sums / subset_counts\n",
    "\n",
    "print(\"One-dimensional Vector D:\")\n",
    "print(D)\n",
    "print(\"\\nSubset Indices Vector S:\")\n",
    "print(S)\n",
    "print(\"\\nSubset Means:\")\n",
    "print(subset_means)"
   ]
  },
  {
   "cell_type": "markdown",
   "id": "a5e316db",
   "metadata": {},
   "source": [
    "#### 69. How to get the diagonal of a dot product? (★★★)"
   ]
  },
  {
   "cell_type": "code",
   "execution_count": null,
   "id": "94735dbd",
   "metadata": {},
   "outputs": [],
   "source": [
    "# Create two matrices\n",
    "A = np.array([[1, 2], [3, 4]])\n",
    "B = np.array([[5, 6], [7, 8]])\n",
    "\n",
    "# Compute the dot product of A and B\n",
    "dot_product = np.dot(A, B)\n",
    "\n",
    "# Get the diagonal of the dot product using numpy.einsum\n",
    "diagonal = np.einsum('ii->i', dot_product)\n",
    "\n",
    "print(\"Matrix A:\")\n",
    "print(A)\n",
    "print(\"\\nMatrix B:\")\n",
    "print(B)\n",
    "print(\"\\nDot Product:\")\n",
    "print(dot_product)\n",
    "print(\"\\nDiagonal of the Dot Product:\")\n",
    "print(diagonal)"
   ]
  },
  {
   "cell_type": "markdown",
   "id": "de727a7b",
   "metadata": {},
   "source": [
    "#### 70. Consider the vector [1, 2, 3, 4, 5], how to build a new vector with 3 consecutive zeros interleaved between each value? (★★★)"
   ]
  },
  {
   "cell_type": "code",
   "execution_count": null,
   "id": "982be812",
   "metadata": {},
   "outputs": [],
   "source": [
    "# Given vector\n",
    "original_vector = np.array([1, 2, 3, 4, 5])\n",
    "\n",
    "# Number of consecutive zeros to insert between each value\n",
    "consecutive_zeros = 3\n",
    "\n",
    "# Build the new vector with interleaved zeros\n",
    "new_vector = np.zeros(len(original_vector) + (len(original_vector) - 1) * consecutive_zeros)\n",
    "new_vector[::consecutive_zeros + 1] = original_vector\n",
    "\n",
    "print(\"Original Vector:\")\n",
    "print(original_vector)\n",
    "print(\"\\nNew Vector with 3 Consecutive Zeros Interleaved:\")\n",
    "print(new_vector)"
   ]
  },
  {
   "cell_type": "markdown",
   "id": "a9a73d6b",
   "metadata": {},
   "source": [
    "#### 71. Consider an array of dimension (5,5,3), how to mulitply it by an array with dimensions (5,5)? (★★★)"
   ]
  },
  {
   "cell_type": "code",
   "execution_count": null,
   "id": "282a90cc",
   "metadata": {},
   "outputs": [],
   "source": [
    "# Create a 3D array of shape (5, 5, 3)\n",
    "array_3d = np.random.rand(5, 5, 3)\n",
    "\n",
    "# Create a 2D array of shape (5, 5)\n",
    "array_2d = np.random.rand(5, 5)\n",
    "\n",
    "# Multiply the 3D array by the 2D array using broadcasting\n",
    "result = array_3d * array_2d[:, :, np.newaxis]\n",
    "\n",
    "print(\"3D Array (shape 5x5x3):\")\n",
    "print(array_3d)\n",
    "print(\"\\n2D Array (shape 5x5):\")\n",
    "print(array_2d)\n",
    "print(\"\\nResult after multiplication (shape 5x5x3):\")\n",
    "print(result)"
   ]
  },
  {
   "cell_type": "markdown",
   "id": "a951c78f",
   "metadata": {},
   "source": [
    "#### 72. How to swap two rows of an array? (★★★)"
   ]
  },
  {
   "cell_type": "code",
   "execution_count": null,
   "id": "e29b3fde",
   "metadata": {},
   "outputs": [],
   "source": [
    "# Create a sample 2D array\n",
    "array_2d = np.array([[1, 2, 3],\n",
    "                     [4, 5, 6],\n",
    "                     [7, 8, 9]])\n",
    "\n",
    "# Swap rows 1 and 2\n",
    "array_2d[1], array_2d[2] = array_2d[2].copy(), array_2d[1].copy()\n",
    "\n",
    "print(\"Original 2D Array:\")\n",
    "print(array_2d)"
   ]
  },
  {
   "cell_type": "markdown",
   "id": "43b639e8",
   "metadata": {},
   "source": [
    "#### 73. Consider a set of 10 triplets describing 10 triangles (with shared vertices), find the set of unique line segments composing all the  triangles (★★★)"
   ]
  },
  {
   "cell_type": "code",
   "execution_count": null,
   "id": "147e1034",
   "metadata": {},
   "outputs": [],
   "source": [
    "# Set of 10 triplets describing triangles (example data)\n",
    "triangles = np.random.randint(1, 10, size=(10, 3))\n",
    "\n",
    "# Reshape the triangles array to (30, 1) to easily create line segments\n",
    "lines = triangles.reshape(-1, 1)\n",
    "\n",
    "# Use numpy.unique to find unique line segments\n",
    "unique_lines = np.unique(lines, axis=0)\n",
    "\n",
    "print(\"Set of 10 Triplets (Triangles):\")\n",
    "print(triangles)\n",
    "print(\"\\nSet of Unique Line Segments:\")\n",
    "print(unique_lines)"
   ]
  },
  {
   "cell_type": "markdown",
   "id": "d41de585",
   "metadata": {},
   "source": [
    "#### 74. Given a sorted array C that corresponds to a bincount, how to produce an array A such that np.bincount(A) == C? (★★★)"
   ]
  },
  {
   "cell_type": "code",
   "execution_count": null,
   "id": "5f5d6e36",
   "metadata": {},
   "outputs": [],
   "source": [
    "# Given sorted array C\n",
    "C = np.array([0, 1, 2, 0, 1, 3, 2, 1, 1, 2, 2])\n",
    "\n",
    "# Generate array A based on C\n",
    "A = np.repeat(np.arange(len(C)), C)\n",
    "\n",
    "print(\"Given Sorted Array C:\")\n",
    "print(C)\n",
    "print(\"\\nGenerated Array A:\")\n",
    "print(A)\n",
    "\n",
    "# Verify that np.bincount(A) equals C\n",
    "print(\"\\nVerify np.bincount(A) == C:\", np.array_equal(np.bincount(A), C))"
   ]
  },
  {
   "cell_type": "markdown",
   "id": "b50adf7c",
   "metadata": {},
   "source": [
    "#### 75. How to compute averages using a sliding window over an array? (★★★)"
   ]
  },
  {
   "cell_type": "code",
   "execution_count": null,
   "id": "e631a9d2",
   "metadata": {},
   "outputs": [],
   "source": [
    "def sliding_window_average(arr, window_size):\n",
    "    cumsum = np.cumsum(arr)\n",
    "    cumsum[window_size:] = cumsum[window_size:] - cumsum[:-window_size]\n",
    "    return cumsum[window_size - 1:] / window_size\n",
    "\n",
    "# Example array\n",
    "arr = np.array([1, 2, 3, 4, 5, 6, 7, 8, 9, 10])\n",
    "\n",
    "# Window size\n",
    "window_size = 3\n",
    "\n",
    "# Compute sliding window averages\n",
    "averages = sliding_window_average(arr, window_size)\n",
    "\n",
    "print(\"Original Array:\")\n",
    "print(arr)\n",
    "print(\"\\nSliding Window Averages (Window Size =\", window_size, \"):\")\n",
    "print(averages)"
   ]
  },
  {
   "cell_type": "markdown",
   "id": "1ab4c50d",
   "metadata": {},
   "source": [
    "#### 76. Consider a one-dimensional array Z, build a two-dimensional array whose first row is (Z[0],Z[1],Z[2]) and each subsequent row is  shifted by 1 (last row should be (Z[-3],Z[-2],Z[-1]) (★★★)"
   ]
  },
  {
   "cell_type": "code",
   "execution_count": null,
   "id": "3ccfe2c0",
   "metadata": {},
   "outputs": [],
   "source": [
    "def shift_rows(arr, num_shifts):\n",
    "    shape = (len(arr) - num_shifts + 1, num_shifts)\n",
    "    strides = (arr.strides[0], arr.strides[0])\n",
    "    return np.lib.stride_tricks.as_strided(arr, shape=shape, strides=strides)\n",
    "\n",
    "# Example one-dimensional array\n",
    "Z = np.array([1, 2, 3, 4, 5, 6, 7])\n",
    "\n",
    "# Number of shifts\n",
    "num_shifts = 3\n",
    "\n",
    "# Build the two-dimensional array\n",
    "result = shift_rows(Z, num_shifts)\n",
    "\n",
    "print(\"One-dimensional Array Z:\")\n",
    "print(Z)\n",
    "print(\"\\nTwo-dimensional Array:\")\n",
    "print(result)"
   ]
  },
  {
   "cell_type": "markdown",
   "id": "5b4fe59d",
   "metadata": {},
   "source": [
    "#### 77. How to negate a boolean, or to change the sign of a float inplace? (★★★)"
   ]
  },
  {
   "cell_type": "code",
   "execution_count": null,
   "id": "3c2373ff",
   "metadata": {},
   "outputs": [],
   "source": [
    "\n",
    "# Example boolean array\n",
    "bool_array = np.array([True, False, True, False])\n",
    "\n",
    "# Negate the boolean array in place\n",
    "bool_array ^= True\n",
    "\n",
    "print(\"Negated Boolean Array:\")\n",
    "print(bool_array)\n",
    "\n",
    "# Example float array\n",
    "float_array = np.array([1.0, -2.5, 3.7, -4.2])\n",
    "\n",
    "# Change the sign of the float array in place\n",
    "float_array *= -1\n",
    "\n",
    "print(\"\\nFloat Array with Changed Sign:\")\n",
    "print(float_array)"
   ]
  },
  {
   "cell_type": "markdown",
   "id": "119ab5af",
   "metadata": {},
   "source": [
    "#### 78. Consider 2 sets of points P0,P1 describing lines (2d) and a point p, how to compute distance from p to each line i (P0[i],P1[i])? (★★★)"
   ]
  },
  {
   "cell_type": "code",
   "execution_count": null,
   "id": "1d8d06dc",
   "metadata": {},
   "outputs": [],
   "source": [
    "def distance_point_to_line(p, P0, P1):\n",
    "    x0, y0 = p\n",
    "    x1, y1 = P0\n",
    "    x2, y2 = P1\n",
    "    \n",
    "    numerator = np.abs((y2-y1)*x0 - (x2-x1)*y0 + x2*y1 - y2*x1)\n",
    "    denominator = np.sqrt((y2-y1)**2 + (x2-x1)**2)\n",
    "    \n",
    "    distance = numerator / denominator\n",
    "    return distance\n",
    "\n",
    "# Example points for lines P0 and P1\n",
    "P0 = np.array([[1, 1], [2, 3], [4, 5]])\n",
    "P1 = np.array([[4, 5], [7, 8], [10, 12]])"
   ]
  },
  {
   "cell_type": "markdown",
   "id": "e5e7f323",
   "metadata": {},
   "source": [
    "#### 79. Consider 2 sets of points P0,P1 describing lines (2d) and a set of points P, how to compute distance from each point j (P[j]) to each line i (P0[i],P1[i])? (★★★)"
   ]
  },
  {
   "cell_type": "code",
   "execution_count": null,
   "id": "d0ce77e2",
   "metadata": {},
   "outputs": [],
   "source": [
    "def distance_point_to_line(point, P0, P1):\n",
    "    x0, y0 = point\n",
    "    x1, y1 = P0\n",
    "    x2, y2 = P1\n",
    "    \n",
    "    numerator = np.abs((y2-y1)*x0 - (x2-x1)*y0 + x2*y1 - y2*x1)\n",
    "    denominator = np.sqrt((y2-y1)**2 + (x2-x1)**2)\n",
    "    \n",
    "    distance = numerator / denominator\n",
    "    return distance\n",
    "\n",
    "def distances_from_points_to_lines(points, P0, P1):\n",
    "    distances = np.zeros((len(points), len(P0)))\n",
    "    \n",
    "    for i in range(len(points)):\n",
    "        for j in range(len(P0)):\n",
    "            distances[i, j] = distance_point_to_line(points[i], P0[j], P1[j])\n",
    "    \n",
    "    return distances\n",
    "\n",
    "# Example points for lines P0 and P1\n",
    "P0 = np.array([[1, 1], [2, 3], [4, 5]])\n",
    "P1 = np.array([[4, 5], [7, 8], [10, 12]])\n",
    "\n",
    "# Example set of points P\n",
    "points = np.array([[2, 4], [5, 7], [8, 10]])\n",
    "\n",
    "# Compute distances from each point to each line\n",
    "distances = distances_from_points_to_lines(points, P0, P1)\n",
    "\n",
    "print(\"Set of Points P:\")\n",
    "print(points)\n",
    "print(\"\\nLines (P0, P1):\")\n",
    "for i in range(len(P0)):\n",
    "    print(f\"\\nLine {i+1}:\")\n",
    "    for j in range(len(points)):\n",
    "        print(f\"  Point {j+1}: Distance = {distances[j, i]}\")"
   ]
  },
  {
   "cell_type": "markdown",
   "id": "9b9d03eb",
   "metadata": {},
   "source": [
    "#### 80. Consider an arbitrary array, write a function that extract a subpart with a fixed shape and centered on a given element (pad with a `fill` value when necessary) (★★★)"
   ]
  },
  {
   "cell_type": "code",
   "execution_count": null,
   "id": "ec2b7ae3",
   "metadata": {},
   "outputs": [],
   "source": [
    "def extract_subpart(arr, center, subpart_shape, fill_value=0):\n",
    "    \"\"\"\n",
    "    Extract a subpart from the array centered on the given element.\n",
    "\n",
    "    Parameters:\n",
    "    - arr: Input array.\n",
    "    - center: Coordinates of the center element.\n",
    "    - subpart_shape: Shape of the subpart to be extracted.\n",
    "    - fill_value: Value used to fill the missing parts.\n",
    "\n",
    "    Returns:\n",
    "    - subpart: Extracted subpart.\n",
    "    \"\"\"\n",
    "    subpart_half_shape = np.array(subpart_shape) // 2\n",
    "\n",
    "    start_idx = np.maximum(center - subpart_half_shape, 0)\n",
    "    end_idx = start_idx + subpart_shape\n",
    "\n",
    "    pad_before = np.maximum(subpart_half_shape - center, 0)\n",
    "    pad_after = np.maximum(center + subpart_half_shape - np.array(arr.shape) - 1, 0)\n",
    "\n",
    "    subpart = np.pad(\n",
    "        arr[start_idx[0]:end_idx[0], start_idx[1]:end_idx[1]],\n",
    "        ((pad_before[0], pad_after[0]), (pad_before[1], pad_after[1])),\n",
    "        constant_values=fill_value\n",
    "    )\n",
    "\n",
    "    return subpart\n",
    "\n",
    "# Example\n",
    "array = np.arange(25).reshape(5, 5)\n",
    "center_element = (2, 2)\n",
    "subpart_shape = (3, 3)\n",
    "\n",
    "result = extract_subpart(array, center_element, subpart_shape, fill_value=-1)\n",
    "\n",
    "print(\"Original Array:\")\n",
    "print(array)\n",
    "print(\"\\nExtracted Subpart:\")\n",
    "print(result)"
   ]
  },
  {
   "cell_type": "markdown",
   "id": "27794913",
   "metadata": {},
   "source": [
    "#### 81. Consider an array Z = [1,2,3,4,5,6,7,8,9,10,11,12,13,14], how to generate an array R = [[1,2,3,4], [2,3,4,5], [3,4,5,6], ..., [11,12,13,14]]? (★★★)"
   ]
  },
  {
   "cell_type": "code",
   "execution_count": null,
   "id": "f3e7878b",
   "metadata": {},
   "outputs": [],
   "source": [
    "# Given array Z\n",
    "Z = np.array([1, 2, 3, 4, 5, 6, 7, 8, 9, 10, 11, 12, 13, 14])\n",
    "\n",
    "# Define the shape of the desired subarrays\n",
    "subarray_shape = (4,)\n",
    "\n",
    "# Calculate the number of subarrays\n",
    "num_subarrays = len(Z) - subarray_shape[0] + 1\n",
    "\n",
    "# Use numpy.lib.stride_tricks.as_strided to create the desired array R\n",
    "R = np.lib.stride_tricks.as_strided(Z, shape=(num_subarrays, *subarray_shape), strides=(Z.itemsize, Z.itemsize))\n",
    "\n",
    "print(\"Array Z:\")\n",
    "print(Z)\n",
    "print(\"\\nGenerated Array R:\")\n",
    "print(R)"
   ]
  },
  {
   "cell_type": "markdown",
   "id": "fae786f5",
   "metadata": {},
   "source": [
    "#### 82. Compute a matrix rank (★★★)"
   ]
  },
  {
   "cell_type": "code",
   "execution_count": null,
   "id": "64b9615b",
   "metadata": {},
   "outputs": [],
   "source": [
    "# Example matrix\n",
    "matrix = np.array([[1, 2, 3],\n",
    "                   [4, 5, 6],\n",
    "                   [7, 8, 9]])\n",
    "\n",
    "# Compute the rank of the matrix\n",
    "rank = np.linalg.matrix_rank(matrix)\n",
    "\n",
    "print(\"Matrix:\")\n",
    "print(matrix)\n",
    "print(\"\\nRank of the Matrix:\", rank)"
   ]
  },
  {
   "cell_type": "markdown",
   "id": "c85aa0b9",
   "metadata": {},
   "source": [
    "#### 83. How to find the most frequent value in an array?"
   ]
  },
  {
   "cell_type": "code",
   "execution_count": null,
   "id": "056be85b",
   "metadata": {},
   "outputs": [],
   "source": [
    "# Example array\n",
    "arr = np.array([1, 2, 3, 1, 2, 2, 4, 5, 1, 1, 2, 5, 5, 5])\n",
    "\n",
    "# Find the most frequent value\n",
    "most_frequent_value = np.argmax(np.bincount(arr))\n",
    "\n",
    "print(\"Array:\")\n",
    "print(arr)\n",
    "print(\"\\nMost Frequent Value:\", most_frequent_value)"
   ]
  },
  {
   "cell_type": "markdown",
   "id": "0ff2344d",
   "metadata": {},
   "source": [
    "#### 84. Extract all the contiguous 3x3 blocks from a random 10x10 matrix (★★★)"
   ]
  },
  {
   "cell_type": "code",
   "execution_count": null,
   "id": "d58b1318",
   "metadata": {},
   "outputs": [],
   "source": [
    "# Create a random 10x10 matrix\n",
    "matrix = np.random.randint(0, 10, (10, 10))\n",
    "\n",
    "# Define the block size\n",
    "block_size = 3\n",
    "\n",
    "# Extract all contiguous 3x3 blocks\n",
    "blocks = [matrix[i:i+block_size, j:j+block_size] for i in range(8) for j in range(8)]\n",
    "\n",
    "# Print the original matrix and extracted blocks\n",
    "print(\"Original Matrix:\")\n",
    "print(matrix)\n",
    "\n",
    "print(\"\\nExtracted 3x3 Blocks:\")\n",
    "for block in blocks:\n",
    "    print(block)\n",
    "    print()"
   ]
  },
  {
   "cell_type": "markdown",
   "id": "1a18b263",
   "metadata": {},
   "source": [
    "#### 85. Create a 2D array subclass such that Z[i,j] == Z[j,i] (★★★)"
   ]
  },
  {
   "cell_type": "code",
   "execution_count": null,
   "id": "87f17adc",
   "metadata": {},
   "outputs": [],
   "source": [
    "class SymmetricArray(np.ndarray):\n",
    "    def __setitem__(self, index, value):\n",
    "        i, j = index\n",
    "        super(SymmetricArray, self).__setitem__((i, j), value)\n",
    "        super(SymmetricArray, self).__setitem__((j, i), value)\n",
    "\n",
    "# Create a symmetric 2D array\n",
    "size = 5\n",
    "symmetric_array = SymmetricArray((size, size), dtype=int)\n",
    "\n",
    "# Set some values to demonstrate symmetry\n",
    "symmetric_array[1, 2] = 42\n",
    "symmetric_array[3, 4] = 77\n",
    "\n",
    "# Verify symmetry\n",
    "print(\"Original Symmetric Array:\")\n",
    "print(symmetric_array)"
   ]
  },
  {
   "cell_type": "markdown",
   "id": "f85f2cad",
   "metadata": {},
   "source": [
    "#### 86. Consider a set of p matrices wich shape (n,n) and a set of p vectors with shape (n,1). How to compute the sum of of the p matrix products at once? (result has shape (n,1)) (★★★)"
   ]
  },
  {
   "cell_type": "code",
   "execution_count": null,
   "id": "8d230557",
   "metadata": {},
   "outputs": [],
   "source": [
    "# Number of matrices and vectors\n",
    "p = 3\n",
    "n = 4\n",
    "\n",
    "# Generate random matrices and vectors\n",
    "matrices = [np.random.rand(n, n) for _ in range(p)]\n",
    "vectors = [np.random.rand(n, 1) for _ in range(p)]\n",
    "\n",
    "# Compute the sum of matrix products\n",
    "result = np.einsum('...ij,...jk->...ik', matrices, vectors)\n",
    "\n",
    "print(\"Matrices:\")\n",
    "for matrix in matrices:\n",
    "    print(matrix)\n",
    "    print()\n",
    "\n",
    "print(\"Vectors:\")\n",
    "for vector in vectors:\n",
    "    print(vector)\n",
    "    print()\n",
    "\n",
    "print(\"Result (Sum of Matrix Products):\")\n",
    "print(result)"
   ]
  },
  {
   "cell_type": "markdown",
   "id": "5afb72c8",
   "metadata": {},
   "source": [
    "#### 87. Consider a 16x16 array, how to get the block-sum (block size is 4x4)? (★★★)"
   ]
  },
  {
   "cell_type": "code",
   "execution_count": null,
   "id": "e86f47a9",
   "metadata": {},
   "outputs": [],
   "source": [
    "# Create a 16x16 array\n",
    "array = np.arange(1, 257).reshape(16, 16)\n",
    "\n",
    "# Define the block size\n",
    "block_size = 4\n",
    "\n",
    "# Calculate the number of blocks\n",
    "num_blocks = array.shape[0] // block_size\n",
    "\n",
    "# Reshape the array to create overlapping blocks\n",
    "blocked_array = array.reshape(num_blocks, block_size, num_blocks, block_size).swapaxes(1, 2)\n",
    "\n",
    "# Sum along the last two axes to get the block-sum\n",
    "block_sum = blocked_array.sum(axis=(-1, -2))\n",
    "\n",
    "print(\"Original Array:\")\n",
    "print(array)\n",
    "print(\"\\nBlock-Sum (Block Size = 4x4):\")\n",
    "print(block_sum)"
   ]
  },
  {
   "cell_type": "markdown",
   "id": "6094d37c",
   "metadata": {},
   "source": [
    "#### 88. How to implement the Game of Life using numpy arrays? (★★★)"
   ]
  },
  {
   "cell_type": "code",
   "execution_count": null,
   "id": "a93e715f",
   "metadata": {},
   "outputs": [],
   "source": [
    "import matplotlib.pyplot as plt\n",
    "import matplotlib.animation as animation\n",
    "\n",
    "def update(frameNum, img, grid, N):\n",
    "    # Copy the grid to apply the rules\n",
    "    newGrid = grid.copy()\n",
    "\n",
    "    for i in range(N):\n",
    "        for j in range(N):\n",
    "            # Compute the sum of the neighbors using toroidal (wrap-around) boundary conditions\n",
    "            total = int((grid[i, (j-1)%N] + grid[i, (j+1)%N] +\n",
    "                         grid[(i-1)%N, j] + grid[(i+1)%N, j] +\n",
    "                         grid[(i-1)%N, (j-1)%N] + grid[(i-1)%N, (j+1)%N] +\n",
    "                         grid[(i+1)%N, (j-1)%N] + grid[(i+1)%N, (j+1)%N])/255)\n",
    "\n",
    "            # Apply the rules of the Game of Life\n",
    "            if grid[i, j] == ON:\n",
    "                if (total < 2) or (total > 3):\n",
    "                    newGrid[i, j] = OFF\n",
    "            else:\n",
    "                if total == 3:\n",
    "                    newGrid[i, j] = ON\n",
    "\n",
    "    # Update the data of the image plot\n",
    "    img.set_data(newGrid)\n",
    "    grid[:] = newGrid[:]\n",
    "    return img\n",
    "\n",
    "# Define constants\n",
    "ON = 255\n",
    "OFF = 0\n",
    "N = 100\n",
    "updateInterval = 50  # milliseconds\n",
    "\n",
    "# Create a random initial grid\n",
    "grid = np.random.choice([ON, OFF], N*N, p=[0.2, 0.8]).reshape(N, N)\n",
    "\n",
    "# Set up the animation\n",
    "fig, ax = plt.subplots()\n",
    "img = ax.imshow(grid, interpolation='nearest')\n",
    "ani = animation.FuncAnimation(fig, update, fargs=(img, grid, N),\n",
    "                              frames=10, interval=updateInterval,\n",
    "                              save_count=50)\n",
    "\n",
    "plt.show()"
   ]
  },
  {
   "cell_type": "markdown",
   "id": "a173cf96",
   "metadata": {},
   "source": [
    "#### 89. How to get the n largest values of an array (★★★)"
   ]
  },
  {
   "cell_type": "code",
   "execution_count": null,
   "id": "b7c2ff35",
   "metadata": {},
   "outputs": [],
   "source": [
    "# Example array\n",
    "arr = np.array([3, 1, 4, 1, 5, 9, 2, 6, 5, 3, 5])\n",
    "\n",
    "# Specify the value of n\n",
    "n = 3\n",
    "\n",
    "# Use numpy.partition to get the n largest values\n",
    "largest_values = np.partition(arr, -n)[-n:]\n",
    "\n",
    "print(\"Original Array:\", arr)\n",
    "print(f\"{n} Largest Values:\", largest_values)"
   ]
  },
  {
   "cell_type": "markdown",
   "id": "15db2d01",
   "metadata": {},
   "source": [
    "#### 90. Given an arbitrary number of vectors, build the cartesian product (every combinations of every item) (★★★)"
   ]
  },
  {
   "cell_type": "code",
   "execution_count": null,
   "id": "a9a4633d",
   "metadata": {},
   "outputs": [],
   "source": [
    "def cartesian_product(*arrays):\n",
    "    # Create a meshgrid from the vectors\n",
    "    grids = np.meshgrid(*arrays, indexing='ij')\n",
    "\n",
    "    # Stack the grids to obtain all combinations\n",
    "    stacked = np.vstack([grid.ravel() for grid in grids]).T\n",
    "\n",
    "    return stacked\n",
    "\n",
    "# Example vectors\n",
    "vec1 = np.array([1, 2])\n",
    "vec2 = np.array(['A', 'B'])\n",
    "vec3 = np.array([0.1, 0.2, 0.3])\n",
    "\n",
    "# Build the Cartesian product\n",
    "result = cartesian_product(vec1, vec2, vec3)\n",
    "\n",
    "print(\"Vector 1:\", vec1)\n",
    "print(\"Vector 2:\", vec2)\n",
    "print(\"Vector 3:\", vec3)\n",
    "print(\"\\nCartesian Product:\")\n",
    "print(result)"
   ]
  },
  {
   "cell_type": "markdown",
   "id": "5d94d1ef",
   "metadata": {},
   "source": [
    "#### 91. How to create a record array from a regular array? (★★★)"
   ]
  },
  {
   "cell_type": "code",
   "execution_count": null,
   "id": "b1dae380",
   "metadata": {},
   "outputs": [],
   "source": [
    "# Regular array\n",
    "regular_array = np.array([[1, 'John', 25],\n",
    "                          [2, 'Alice', 30],\n",
    "                          [3, 'Bob', 22]],\n",
    "                         dtype=object)\n",
    "\n",
    "# Create a record array\n",
    "record_array = np.core.records.fromarrays(regular_array.T,\n",
    "                                          names='ID,Name,Age',\n",
    "                                          formats='i4,U10,i4')\n",
    "\n",
    "print(\"Regular Array:\")\n",
    "print(regular_array)\n",
    "\n",
    "print(\"\\nRecord Array:\")\n",
    "print(record_array)"
   ]
  },
  {
   "cell_type": "markdown",
   "id": "114ccc36",
   "metadata": {},
   "source": [
    "#### 92. Consider a large vector Z, compute Z to the power of 3 using 3 different methods (★★★)"
   ]
  },
  {
   "cell_type": "code",
   "execution_count": null,
   "id": "877c65d6",
   "metadata": {},
   "outputs": [],
   "source": [
    "# Generate a large vector Z\n",
    "Z = np.random.rand(1000000)\n",
    "\n",
    "# Method 1: Using the ** operator\n",
    "result1 = Z ** 3\n",
    "\n",
    "# Method 2: Using np.power function\n",
    "result2 = np.power(Z, 3)\n",
    "\n",
    "# Method 3: Using np.einsum function\n",
    "result3 = np.einsum('i,i,i->i', Z, Z, Z)\n",
    "\n",
    "# Verify that all methods produce the same result\n",
    "print(np.allclose(result1, result2) and np.allclose(result1, result3))"
   ]
  },
  {
   "cell_type": "markdown",
   "id": "d614fee4",
   "metadata": {},
   "source": [
    "#### 93. Consider two arrays A and B of shape (8,3) and (2,2). How to find rows of A that contain elements of each row of B regardless of the order of the elements in B? (★★★)"
   ]
  },
  {
   "cell_type": "code",
   "execution_count": null,
   "id": "e6807a84",
   "metadata": {},
   "outputs": [],
   "source": [
    "# Create arrays A and B\n",
    "A = np.random.randint(0, 10, size=(8, 3))\n",
    "B = np.random.randint(0, 10, size=(2, 2))\n",
    "\n",
    "# Convert the rows of B to sets for easy comparison\n",
    "B_sets = [set(row) for row in B]\n",
    "\n",
    "# Find rows of A that contain elements of each row of B\n",
    "result_rows = [i for i, row in enumerate(A) if all(set(row).intersection(B_row) for B_row in B_sets)]\n",
    "\n",
    "print(\"Array A:\")\n",
    "print(A)\n",
    "\n",
    "print(\"\\nArray B:\")\n",
    "print(B)\n",
    "\n",
    "print(\"\\nRows of A containing elements of each row of B:\")\n",
    "print(result_rows)"
   ]
  },
  {
   "cell_type": "markdown",
   "id": "b0eedca6",
   "metadata": {},
   "source": [
    "#### 94. Considering a 10x3 matrix, extract rows with unequal values (e.g. [2,2,3]) (★★★)"
   ]
  },
  {
   "cell_type": "code",
   "execution_count": null,
   "id": "fc136ce2",
   "metadata": {},
   "outputs": [],
   "source": [
    "# Create a 10x3 matrix\n",
    "matrix = np.random.randint(0, 3, size=(10, 3))\n",
    "\n",
    "# Find rows with unequal values\n",
    "unequal_rows = matrix[~np.all(matrix == matrix[0], axis=1)]\n",
    "\n",
    "print(\"Original Matrix:\")\n",
    "print(matrix)\n",
    "\n",
    "print(\"\\nRows with Unequal Values:\")\n",
    "print(unequal_rows)"
   ]
  },
  {
   "cell_type": "markdown",
   "id": "a65ec1cf",
   "metadata": {},
   "source": [
    "#### 95. Convert a vector of ints into a matrix binary representation (★★★)"
   ]
  },
  {
   "cell_type": "code",
   "execution_count": null,
   "id": "323cdf4c",
   "metadata": {},
   "outputs": [],
   "source": [
    "# Create a vector of integers\n",
    "vector_of_ints = np.array([5, 12, 7, 15], dtype=np.uint8)\n",
    "\n",
    "# Convert the vector to its binary representation\n",
    "binary_matrix = np.unpackbits(vector_of_ints[:, np.newaxis], axis=1)\n",
    "\n",
    "print(\"Vector of Integers:\")\n",
    "print(vector_of_ints)\n",
    "\n",
    "print(\"\\nBinary Matrix Representation:\")\n",
    "print(binary_matrix)"
   ]
  },
  {
   "cell_type": "markdown",
   "id": "75b9397f",
   "metadata": {},
   "source": [
    "#### 96. Given a two dimensional array, how to extract unique rows? (★★★)"
   ]
  },
  {
   "cell_type": "code",
   "execution_count": null,
   "id": "9bb56a47",
   "metadata": {},
   "outputs": [],
   "source": [
    "# Create a two-dimensional array\n",
    "two_d_array = np.array([[1, 2, 3],\n",
    "                        [4, 5, 6],\n",
    "                        [1, 2, 3],\n",
    "                        [7, 8, 9]])\n",
    "\n",
    "# Extract unique rows\n",
    "unique_rows = np.unique(two_d_array, axis=0)\n",
    "\n",
    "print(\"Original Array:\")\n",
    "print(two_d_array)\n",
    "\n",
    "print(\"\\nUnique Rows:\")\n",
    "print(unique_rows)"
   ]
  },
  {
   "cell_type": "markdown",
   "id": "82aaf21b",
   "metadata": {},
   "source": [
    "#### 97. Considering 2 vectors A & B, write the einsum equivalent of inner, outer, sum, and mul function (★★★)"
   ]
  },
  {
   "cell_type": "code",
   "execution_count": null,
   "id": "cedcefd9",
   "metadata": {},
   "outputs": [],
   "source": [
    "# Two vectors A and B\n",
    "A = np.array([1, 2, 3])\n",
    "B = np.array([4, 5, 6])\n",
    "\n",
    "# Equivalent of inner function: np.inner(A, B)\n",
    "inner_result = np.einsum('i,i->', A, B)\n",
    "\n",
    "# Equivalent of outer function: np.outer(A, B)\n",
    "outer_result = np.einsum('i,j->ij', A, B)\n",
    "\n",
    "# Equivalent of sum function: np.sum(A * B)\n",
    "sum_result = np.einsum('i,i->', A, B)\n",
    "\n",
    "# Equivalent of mul function: A * B\n",
    "mul_result = np.einsum('i,i->i', A, B)\n",
    "\n",
    "print(\"Vector A:\", A)\n",
    "print(\"Vector B:\", B)\n",
    "\n",
    "print(\"\\nEquivalent of inner function:\")\n",
    "print(inner_result)\n",
    "\n",
    "print(\"\\nEquivalent of outer function:\")\n",
    "print(outer_result)\n",
    "\n",
    "print(\"\\nEquivalent of sum function:\")\n",
    "print(sum_result)\n",
    "\n",
    "print(\"\\nEquivalent of mul function:\")\n",
    "print(mul_result)"
   ]
  },
  {
   "cell_type": "markdown",
   "id": "7741e17f",
   "metadata": {},
   "source": [
    "#### 98. Considering a path described by two vectors (X,Y), how to sample it using equidistant samples (★★★)?"
   ]
  },
  {
   "cell_type": "code",
   "execution_count": null,
   "id": "0b2432fe",
   "metadata": {},
   "outputs": [],
   "source": [
    "import matplotlib.pyplot as plt\n",
    "\n",
    "# Two vectors describing the path (X, Y)\n",
    "X = np.array([1, 2, 3, 4, 5])\n",
    "Y = np.array([2, 3, 5, 6, 8])\n",
    "\n",
    "# Number of equidistant samples\n",
    "num_samples = 10\n",
    "\n",
    "# Generate equidistant samples along the path\n",
    "X_samples = np.linspace(X.min(), X.max(), num_samples)\n",
    "Y_samples = np.interp(X_samples, X, Y)\n",
    "\n",
    "# Plot the original path and the sampled points\n",
    "plt.plot(X, Y, marker='o', label='Original Path')\n",
    "plt.scatter(X_samples, Y_samples, color='red', label='Equidistant Samples')\n",
    "plt.xlabel('X')\n",
    "plt.ylabel('Y')\n",
    "plt.legend()\n",
    "plt.show()"
   ]
  },
  {
   "cell_type": "markdown",
   "id": "340d6f36",
   "metadata": {},
   "source": [
    "#### 99. Given an integer n and a 2D array X, select from X the rows which can be interpreted as draws from a multinomial distribution with n degrees, i.e., the rows which only contain integers and which sum to n. (★★★)"
   ]
  },
  {
   "cell_type": "code",
   "execution_count": null,
   "id": "a75323ae",
   "metadata": {},
   "outputs": [],
   "source": [
    "# Given integer n\n",
    "n = 5\n",
    "\n",
    "# 2D array X\n",
    "X = np.array([[1, 2, 2],\n",
    "              [3, 1, 1],\n",
    "              [0, 5, 0],\n",
    "              [2, 2, 1]])\n",
    "\n",
    "# Select rows that are draws from a multinomial distribution with n degrees\n",
    "selected_rows = X[(X.sum(axis=1) == n) & np.all(X.astype(int) == X, axis=1)]\n",
    "\n",
    "print(\"Original 2D Array:\")\n",
    "print(X)\n",
    "\n",
    "print(\"\\nSelected Rows for Multinomial Distribution with n =\", n)\n",
    "print(selected_rows)"
   ]
  },
  {
   "cell_type": "markdown",
   "id": "19721849",
   "metadata": {},
   "source": [
    "#### 100. Compute bootstrapped 95% confidence intervals for the mean of a 1D array X (i.e., resample the elements of an array with replacement N times, compute the mean of each sample, and then compute percentiles over the means). (★★★)"
   ]
  },
  {
   "cell_type": "code",
   "execution_count": null,
   "id": "87309c6f",
   "metadata": {},
   "outputs": [],
   "source": [
    "# Set a random seed for reproducibility\n",
    "np.random.seed(42)\n",
    "\n",
    "# 1D array X\n",
    "X = np.array([1, 2, 3, 4, 5, 6, 7, 8, 9, 10])\n",
    "\n",
    "# Number of bootstrap samples\n",
    "N = 1000\n",
    "\n",
    "# Bootstrap resampling and computation of means\n",
    "bootstrap_means = [np.mean(np.random.choice(X, len(X), replace=True)) for _ in range(N)]\n",
    "\n",
    "# Compute the 95% confidence interval\n",
    "confidence_interval = np.percentile(bootstrap_means, [2.5, 97.5])\n",
    "\n",
    "print(\"1D Array X:\")\n",
    "print(X)\n",
    "\n",
    "print(\"\\n95% Confidence Interval for the Mean:\")\n",
    "print(confidence_interval)"
   ]
  }
 ],
 "metadata": {
  "kernelspec": {
   "display_name": "idaost",
   "language": "python",
   "name": "python3"
  },
  "language_info": {
   "codemirror_mode": {
    "name": "ipython",
    "version": 3
   },
   "file_extension": ".py",
   "mimetype": "text/x-python",
   "name": "python",
   "nbconvert_exporter": "python",
   "pygments_lexer": "ipython3",
   "version": "3.10.13"
  }
 },
 "nbformat": 4,
 "nbformat_minor": 5
}

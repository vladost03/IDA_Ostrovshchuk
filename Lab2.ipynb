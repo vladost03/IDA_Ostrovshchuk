{
 "cells": [
  {
   "cell_type": "markdown",
   "id": "f44a2f2b",
   "metadata": {},
   "source": [
    "# 100 numpy exercises\n",
    "\n",
    "This is a collection of exercises that have been collected in the numpy mailing list, on stack overflow\n",
    "and in the numpy documentation. The goal of this collection is to offer a quick reference for both old\n",
    "and new users but also to provide a set of exercises for those who teach."
   ]
  },
  {
   "cell_type": "markdown",
   "id": "96443564",
   "metadata": {},
   "source": [
    "#### 1. Import the numpy package under the name `np` (★☆☆)"
   ]
  },
  {
   "cell_type": "code",
   "execution_count": 1,
   "id": "ffe1047e",
   "metadata": {},
   "outputs": [],
   "source": [
    "import numpy as np"
   ]
  },
  {
   "cell_type": "markdown",
   "id": "c807bf1d",
   "metadata": {},
   "source": [
    "#### 2. Print the numpy version and the configuration (★☆☆)"
   ]
  },
  {
   "cell_type": "code",
   "execution_count": 5,
   "id": "f396b717",
   "metadata": {},
   "outputs": [
    {
     "name": "stdout",
     "output_type": "stream",
     "text": [
      "1.26.0\n"
     ]
    }
   ],
   "source": [
    "print(np.__version__)"
   ]
  },
  {
   "cell_type": "markdown",
   "id": "572c1bdb",
   "metadata": {},
   "source": [
    "#### 3. Create a null vector of size 10 (★☆☆)"
   ]
  },
  {
   "cell_type": "code",
   "execution_count": 6,
   "id": "31c9f6a5",
   "metadata": {},
   "outputs": [
    {
     "name": "stdout",
     "output_type": "stream",
     "text": [
      "[0. 0. 0. 0. 0. 0. 0. 0. 0. 0.]\n"
     ]
    }
   ],
   "source": [
    "null_vector = np.zeros(10)\n",
    "\n",
    "print(null_vector)"
   ]
  },
  {
   "cell_type": "markdown",
   "id": "337e6e36",
   "metadata": {},
   "source": [
    "#### 4. How to find the memory size of any array (★☆☆)"
   ]
  },
  {
   "cell_type": "code",
   "execution_count": 7,
   "id": "31e8ec2e",
   "metadata": {},
   "outputs": [
    {
     "name": "stdout",
     "output_type": "stream",
     "text": [
      "Memory size of the array: 20 bytes\n"
     ]
    }
   ],
   "source": [
    "# Create a NumPy array\n",
    "arr = np.array([1, 2, 3, 4, 5])\n",
    "\n",
    "# Find the memory size of the array in bytes\n",
    "memory_size = arr.nbytes\n",
    "\n",
    "print(f\"Memory size of the array: {memory_size} bytes\")"
   ]
  },
  {
   "cell_type": "markdown",
   "id": "166079c8",
   "metadata": {},
   "source": [
    "#### 5. How to get the documentation of the numpy add function from the command line? (★☆☆)"
   ]
  },
  {
   "cell_type": "code",
   "execution_count": 8,
   "id": "593cd80f",
   "metadata": {},
   "outputs": [
    {
     "name": "stdout",
     "output_type": "stream",
     "text": [
      "Help on ufunc:\n",
      "\n",
      "add = <ufunc 'add'>\n",
      "    add(x1, x2, /, out=None, *, where=True, casting='same_kind', order='K', dtype=None, subok=True[, signature, extobj])\n",
      "    \n",
      "    Add arguments element-wise.\n",
      "    \n",
      "    Parameters\n",
      "    ----------\n",
      "    x1, x2 : array_like\n",
      "        The arrays to be added.\n",
      "        If ``x1.shape != x2.shape``, they must be broadcastable to a common\n",
      "        shape (which becomes the shape of the output).\n",
      "    out : ndarray, None, or tuple of ndarray and None, optional\n",
      "        A location into which the result is stored. If provided, it must have\n",
      "        a shape that the inputs broadcast to. If not provided or None,\n",
      "        a freshly-allocated array is returned. A tuple (possible only as a\n",
      "        keyword argument) must have length equal to the number of outputs.\n",
      "    where : array_like, optional\n",
      "        This condition is broadcast over the input. At locations where the\n",
      "        condition is True, the `out` array will be set to the ufunc result.\n",
      "        Elsewhere, the `out` array will retain its original value.\n",
      "        Note that if an uninitialized `out` array is created via the default\n",
      "        ``out=None``, locations within it where the condition is False will\n",
      "        remain uninitialized.\n",
      "    **kwargs\n",
      "        For other keyword-only arguments, see the\n",
      "        :ref:`ufunc docs <ufuncs.kwargs>`.\n",
      "    \n",
      "    Returns\n",
      "    -------\n",
      "    add : ndarray or scalar\n",
      "        The sum of `x1` and `x2`, element-wise.\n",
      "        This is a scalar if both `x1` and `x2` are scalars.\n",
      "    \n",
      "    Notes\n",
      "    -----\n",
      "    Equivalent to `x1` + `x2` in terms of array broadcasting.\n",
      "    \n",
      "    Examples\n",
      "    --------\n",
      "    >>> np.add(1.0, 4.0)\n",
      "    5.0\n",
      "    >>> x1 = np.arange(9.0).reshape((3, 3))\n",
      "    >>> x2 = np.arange(3.0)\n",
      "    >>> np.add(x1, x2)\n",
      "    array([[  0.,   2.,   4.],\n",
      "           [  3.,   5.,   7.],\n",
      "           [  6.,   8.,  10.]])\n",
      "    \n",
      "    The ``+`` operator can be used as a shorthand for ``np.add`` on ndarrays.\n",
      "    \n",
      "    >>> x1 = np.arange(9.0).reshape((3, 3))\n",
      "    >>> x2 = np.arange(3.0)\n",
      "    >>> x1 + x2\n",
      "    array([[ 0.,  2.,  4.],\n",
      "           [ 3.,  5.,  7.],\n",
      "           [ 6.,  8., 10.]])\n",
      "\n"
     ]
    }
   ],
   "source": [
    "#From command line: python -c \"import numpy as np; help(np.add)\";\n",
    "#Inside Python interpreter:\n",
    "help(np.add)"
   ]
  },
  {
   "cell_type": "markdown",
   "id": "3add7101",
   "metadata": {},
   "source": [
    "#### 6. Create a null vector of size 10 but the fifth value which is 1 (★☆☆)"
   ]
  },
  {
   "cell_type": "code",
   "execution_count": 3,
   "id": "2edf3c42",
   "metadata": {},
   "outputs": [
    {
     "name": "stdout",
     "output_type": "stream",
     "text": [
      "[0. 0. 0. 0. 1. 0. 0. 0. 0. 0.]\n"
     ]
    }
   ],
   "source": [
    "# Create a null vector of size 10\n",
    "null_vector = np.zeros(10)\n",
    "\n",
    "# Set the fifth value to 1\n",
    "null_vector[4] = 1\n",
    "\n",
    "print(null_vector)"
   ]
  },
  {
   "cell_type": "markdown",
   "id": "cfc46304",
   "metadata": {},
   "source": [
    "#### 7. Create a vector with values ranging from 10 to 49 (★☆☆)"
   ]
  },
  {
   "cell_type": "code",
   "execution_count": 10,
   "id": "d8b86640",
   "metadata": {},
   "outputs": [
    {
     "name": "stdout",
     "output_type": "stream",
     "text": [
      "[10 11 12 13 14 15 16 17 18 19 20 21 22 23 24 25 26 27 28 29 30 31 32 33\n",
      " 34 35 36 37 38 39 40 41 42 43 44 45 46 47 48 49]\n"
     ]
    }
   ],
   "source": [
    "# Create a vector with values ranging from 10 to 49\n",
    "vector = np.arange(10, 50)\n",
    "\n",
    "print(vector)"
   ]
  },
  {
   "cell_type": "markdown",
   "id": "0cc200be",
   "metadata": {},
   "source": [
    "#### 8. Reverse a vector (first element becomes last) (★☆☆)"
   ]
  },
  {
   "cell_type": "code",
   "execution_count": 11,
   "id": "ec044bb5",
   "metadata": {},
   "outputs": [
    {
     "name": "stdout",
     "output_type": "stream",
     "text": [
      "[5 4 3 2 1]\n"
     ]
    }
   ],
   "source": [
    "reversed_vector = arr[::-1]\n",
    "\n",
    "print(reversed_vector)"
   ]
  },
  {
   "cell_type": "markdown",
   "id": "29d9ede4",
   "metadata": {},
   "source": [
    "#### 9. Create a 3x3 matrix with values ranging from 0 to 8 (★☆☆)"
   ]
  },
  {
   "cell_type": "code",
   "execution_count": 12,
   "id": "d9e39043",
   "metadata": {},
   "outputs": [
    {
     "name": "stdout",
     "output_type": "stream",
     "text": [
      "[[0 1 2]\n",
      " [3 4 5]\n",
      " [6 7 8]]\n"
     ]
    }
   ],
   "source": [
    "# Create a 1D array with values ranging from 0 to 8\n",
    "array = np.arange(9)\n",
    "\n",
    "# Reshape the 1D array into a 3x3 matrix\n",
    "matrix = array.reshape((3, 3))\n",
    "\n",
    "print(matrix)"
   ]
  },
  {
   "cell_type": "markdown",
   "id": "88905ceb",
   "metadata": {},
   "source": [
    "#### 10. Find indices of non-zero elements from [1,2,0,0,4,0] (★☆☆)"
   ]
  },
  {
   "cell_type": "code",
   "execution_count": 13,
   "id": "b2f3c90a",
   "metadata": {},
   "outputs": [
    {
     "name": "stdout",
     "output_type": "stream",
     "text": [
      "(array([0, 1, 4], dtype=int64),)\n"
     ]
    }
   ],
   "source": [
    "# Create an array\n",
    "arr2 = np.array([1, 2, 0, 0, 4, 0])\n",
    "\n",
    "# Find the indices of non-zero elements\n",
    "nonzero_indices = np.nonzero(arr2)\n",
    "\n",
    "print(nonzero_indices)"
   ]
  },
  {
   "cell_type": "markdown",
   "id": "49603e91",
   "metadata": {},
   "source": [
    "#### 11. Create a 3x3 identity matrix (★☆☆)"
   ]
  },
  {
   "cell_type": "code",
   "execution_count": 14,
   "id": "5b607b5c",
   "metadata": {},
   "outputs": [
    {
     "name": "stdout",
     "output_type": "stream",
     "text": [
      "[[1. 0. 0.]\n",
      " [0. 1. 0.]\n",
      " [0. 0. 1.]]\n"
     ]
    }
   ],
   "source": [
    "# Create a 3x3 identity matrix\n",
    "identity_matrix = np.eye(3)\n",
    "\n",
    "print(identity_matrix)\n"
   ]
  },
  {
   "cell_type": "markdown",
   "id": "e15c249a",
   "metadata": {},
   "source": [
    "#### 12. Create a 3x3x3 array with random values (★☆☆)"
   ]
  },
  {
   "cell_type": "code",
   "execution_count": 15,
   "id": "ab21ed50",
   "metadata": {},
   "outputs": [
    {
     "name": "stdout",
     "output_type": "stream",
     "text": [
      "[[[2 8 7]\n",
      "  [6 3 6]\n",
      "  [0 9 2]]\n",
      "\n",
      " [[7 6 8]\n",
      "  [1 6 5]\n",
      "  [2 1 3]]\n",
      "\n",
      " [[6 1 0]\n",
      "  [6 4 5]\n",
      "  [8 4 5]]]\n"
     ]
    }
   ],
   "source": [
    "# Create a 3x3x3 array with random integers between 0 and 9\n",
    "arr3d = np.random.randint(0, 10, size=(3, 3, 3))\n",
    "\n",
    "print(arr3d)"
   ]
  },
  {
   "cell_type": "markdown",
   "id": "157a129c",
   "metadata": {},
   "source": [
    "#### 13. Create a 10x10 array with random values and find the minimum and maximum values (★☆☆)"
   ]
  },
  {
   "cell_type": "code",
   "execution_count": 16,
   "id": "c0066de5",
   "metadata": {},
   "outputs": [
    {
     "name": "stdout",
     "output_type": "stream",
     "text": [
      "Minimum value: 22\n",
      "Maximum value: 221\n"
     ]
    }
   ],
   "source": [
    "# Create a 10x10 array with random values\n",
    "arr4 = np.random.randint(22, 222, size=(10, 10))\n",
    "\n",
    "# Find the minimum and maximum values\n",
    "min_value = np.min(arr4)\n",
    "max_value = np.max(arr4)\n",
    "\n",
    "print(\"Minimum value:\", min_value)\n",
    "print(\"Maximum value:\", max_value)"
   ]
  },
  {
   "cell_type": "markdown",
   "id": "d92d7b32",
   "metadata": {},
   "source": [
    "#### 14. Create a random vector of size 30 and find the mean value (★☆☆)"
   ]
  },
  {
   "cell_type": "code",
   "execution_count": 17,
   "id": "9672d023",
   "metadata": {},
   "outputs": [
    {
     "name": "stdout",
     "output_type": "stream",
     "text": [
      "Mean value: 18.733333333333334\n"
     ]
    }
   ],
   "source": [
    "# Create a random vector of size 30\n",
    "vector2 = np.random.randint(3, 33, size=30)\n",
    "\n",
    "# Find the mean value\n",
    "mean_value = np.mean(vector2)\n",
    "\n",
    "print(\"Mean value:\", mean_value)"
   ]
  },
  {
   "cell_type": "markdown",
   "id": "f361efc0",
   "metadata": {},
   "source": [
    "#### 15. Create a 2d array with 1 on the border and 0 inside (★☆☆)"
   ]
  },
  {
   "cell_type": "code",
   "execution_count": 18,
   "id": "a55b6666",
   "metadata": {},
   "outputs": [
    {
     "name": "stdout",
     "output_type": "stream",
     "text": [
      "[[1. 1. 1. 1. 1.]\n",
      " [1. 0. 0. 0. 1.]\n",
      " [1. 0. 0. 0. 1.]\n",
      " [1. 0. 0. 0. 1.]\n",
      " [1. 1. 1. 1. 1.]]\n"
     ]
    }
   ],
   "source": [
    "# Create a 5x5 array\n",
    "arr5 = np.ones((5, 5))\n",
    "\n",
    "# Set the inner values to 0\n",
    "arr5[1:-1, 1:-1] = 0\n",
    "\n",
    "print(arr5)"
   ]
  },
  {
   "cell_type": "markdown",
   "id": "475808cb",
   "metadata": {},
   "source": [
    "#### 16. How to add a border (filled with 0's) around an existing array? (★☆☆)"
   ]
  },
  {
   "cell_type": "code",
   "execution_count": 20,
   "id": "b2df3a8a",
   "metadata": {},
   "outputs": [
    {
     "name": "stdout",
     "output_type": "stream",
     "text": [
      "[[0. 0. 0. 0. 0. 0. 0.]\n",
      " [0. 1. 1. 1. 1. 1. 0.]\n",
      " [0. 1. 0. 0. 0. 1. 0.]\n",
      " [0. 1. 0. 0. 0. 1. 0.]\n",
      " [0. 1. 0. 0. 0. 1. 0.]\n",
      " [0. 1. 1. 1. 1. 1. 0.]\n",
      " [0. 0. 0. 0. 0. 0. 0.]]\n"
     ]
    }
   ],
   "source": [
    "# Add a border filled with 0's around the original array\n",
    "new_arr = np.zeros((arr5.shape[0] + 2, arr5.shape[1] + 2))\n",
    "new_arr[1:-1, 1:-1] = arr5\n",
    "\n",
    "print(new_arr)"
   ]
  },
  {
   "cell_type": "markdown",
   "id": "1af07d85",
   "metadata": {},
   "source": [
    "#### 17. What is the result of the following expression? (★☆☆)\n",
    "```python\n",
    "0 * np.nan\n",
    "np.nan == np.nan\n",
    "np.inf > np.nan\n",
    "np.nan - np.nan\n",
    "np.nan in set([np.nan])\n",
    "0.3 == 3 * 0.1\n",
    "```"
   ]
  },
  {
   "cell_type": "code",
   "execution_count": 21,
   "id": "109cf327",
   "metadata": {},
   "outputs": [
    {
     "name": "stdout",
     "output_type": "stream",
     "text": [
      "nan\n",
      "False\n",
      "False\n",
      "nan\n",
      "True\n",
      "False\n"
     ]
    }
   ],
   "source": [
    "print(0 * np.nan)\n",
    "print(np.nan == np.nan)\n",
    "print(np.inf > np.nan)\n",
    "print(np.nan - np.nan)\n",
    "print(np.nan in set([np.nan]))\n",
    "print(0.3 == 3 * 0.1)"
   ]
  },
  {
   "cell_type": "markdown",
   "id": "6a235316",
   "metadata": {},
   "source": [
    "#### 18. Create a 5x5 matrix with values 1,2,3,4 just below the diagonal (★☆☆)"
   ]
  },
  {
   "cell_type": "code",
   "execution_count": 22,
   "id": "f2e6cfa6",
   "metadata": {},
   "outputs": [
    {
     "name": "stdout",
     "output_type": "stream",
     "text": [
      "[[0 0 0 0 0]\n",
      " [1 0 0 0 0]\n",
      " [0 2 0 0 0]\n",
      " [0 0 3 0 0]\n",
      " [0 0 0 4 0]]\n"
     ]
    }
   ],
   "source": [
    "\n",
    "# Create a 5x5 matrix with values 1, 2, 3, 4 just below the diagonal\n",
    "matrix2 = np.diag([1, 2, 3, 4], k=-1)\n",
    "\n",
    "print(matrix2)"
   ]
  },
  {
   "cell_type": "markdown",
   "id": "25362e98",
   "metadata": {},
   "source": [
    "#### 19. Create a 8x8 matrix and fill it with a checkerboard pattern (★☆☆)"
   ]
  },
  {
   "cell_type": "code",
   "execution_count": 23,
   "id": "cabdf298",
   "metadata": {},
   "outputs": [
    {
     "name": "stdout",
     "output_type": "stream",
     "text": [
      "[[0 1 0 1 0 1 0 1]\n",
      " [1 0 1 0 1 0 1 0]\n",
      " [0 1 0 1 0 1 0 1]\n",
      " [1 0 1 0 1 0 1 0]\n",
      " [0 1 0 1 0 1 0 1]\n",
      " [1 0 1 0 1 0 1 0]\n",
      " [0 1 0 1 0 1 0 1]\n",
      " [1 0 1 0 1 0 1 0]]\n"
     ]
    }
   ],
   "source": [
    "# Create an 8x8 matrix with a checkerboard pattern\n",
    "checkerboard_matrix = np.zeros((8, 8), dtype=int)\n",
    "checkerboard_matrix[1::2, ::2] = 1  # Fill odd rows, even columns with 1\n",
    "checkerboard_matrix[::2, 1::2] = 1  # Fill even rows, odd columns with 1\n",
    "\n",
    "print(checkerboard_matrix)"
   ]
  },
  {
   "cell_type": "markdown",
   "id": "6431e977",
   "metadata": {},
   "source": [
    "#### 20. Consider a (6,7,8) shape array, what is the index (x,y,z) of the 100th element? (★☆☆)"
   ]
  },
  {
   "cell_type": "code",
   "execution_count": 24,
   "id": "de8b0245",
   "metadata": {},
   "outputs": [
    {
     "name": "stdout",
     "output_type": "stream",
     "text": [
      "Index of the 100th element: (1, 5, 3)\n"
     ]
    }
   ],
   "source": [
    "# Define the shape of the array\n",
    "shape = (6, 7, 8)\n",
    "\n",
    "# Flatten the array and find the index of the 100th element\n",
    "index_100 = np.unravel_index(99, shape)\n",
    "\n",
    "print(\"Index of the 100th element:\", index_100)"
   ]
  },
  {
   "cell_type": "markdown",
   "id": "31abe6fe",
   "metadata": {},
   "source": [
    "#### 21. Create a checkerboard 8x8 matrix using the tile function (★☆☆)"
   ]
  },
  {
   "cell_type": "code",
   "execution_count": 26,
   "id": "6da26fd3",
   "metadata": {},
   "outputs": [
    {
     "name": "stdout",
     "output_type": "stream",
     "text": [
      "[[0 1 0 1 0 1 0 1]\n",
      " [1 0 1 0 1 0 1 0]\n",
      " [0 1 0 1 0 1 0 1]\n",
      " [1 0 1 0 1 0 1 0]\n",
      " [0 1 0 1 0 1 0 1]\n",
      " [1 0 1 0 1 0 1 0]\n",
      " [0 1 0 1 0 1 0 1]\n",
      " [1 0 1 0 1 0 1 0]]\n"
     ]
    }
   ],
   "source": [
    "# Create a 2x2 matrix representing the checkerboard pattern\n",
    "checkerboard_tile = np.array([[0, 1], [1, 0]])\n",
    "\n",
    "# Use tile to create an 8x8 checkerboard matrix\n",
    "checkerboard_matrix2 = np.tile(checkerboard_tile, (4, 4))\n",
    "\n",
    "print(checkerboard_matrix2)"
   ]
  },
  {
   "cell_type": "markdown",
   "id": "fd88b3f4",
   "metadata": {},
   "source": [
    "#### 22. Normalize a 5x5 random matrix (★☆☆)"
   ]
  },
  {
   "cell_type": "code",
   "execution_count": 27,
   "id": "ee6ced60",
   "metadata": {},
   "outputs": [
    {
     "name": "stdout",
     "output_type": "stream",
     "text": [
      "Original Matrix:\n",
      "[[0.34492362 0.21555065 0.95888444 0.24241111 0.40489242]\n",
      " [0.87260315 0.18027198 0.83523394 0.54988006 0.84049264]\n",
      " [0.19638541 0.26553591 0.82782459 0.20749584 0.41529562]\n",
      " [0.65212451 0.4066928  0.5719845  0.45340959 0.44508379]\n",
      " [0.46930749 0.07665767 0.08371143 0.47852542 0.51491747]]\n",
      "\n",
      "Normalized Matrix:\n",
      "[[0.30407822 0.15743455 1.         0.18788076 0.37205258]\n",
      " [0.90220056 0.11744634 0.85984273 0.53639541 0.86580344]\n",
      " [0.13571084 0.21409262 0.85144426 0.14830446 0.38384456]\n",
      " [0.65228902 0.37409331 0.56145068 0.42704658 0.41760932]\n",
      " [0.44506677 0.         0.0079954  0.45551526 0.49676547]]\n"
     ]
    }
   ],
   "source": [
    "# Create a 5x5 random matrix\n",
    "matrix3 = np.random.rand(5, 5)\n",
    "\n",
    "# Normalize the matrix\n",
    "normalized_matrix = (matrix3 - np.min(matrix3)) / (np.max(matrix3) - np.min(matrix3))\n",
    "\n",
    "print(\"Original Matrix:\")\n",
    "print(matrix3)\n",
    "print(\"\\nNormalized Matrix:\")\n",
    "print(normalized_matrix)"
   ]
  },
  {
   "cell_type": "markdown",
   "id": "464d8590",
   "metadata": {},
   "source": [
    "#### 23. Create a custom dtype that describes a color as four unsigned bytes (RGBA) (★☆☆)"
   ]
  },
  {
   "cell_type": "code",
   "execution_count": 28,
   "id": "e2f9cfc6",
   "metadata": {},
   "outputs": [
    {
     "name": "stdout",
     "output_type": "stream",
     "text": [
      "RGBA Color Array:\n",
      "(255, 127, 63, 255)\n"
     ]
    }
   ],
   "source": [
    "# Define a custom dtype for RGBA color\n",
    "rgba_dtype = np.dtype([('R', np.uint8), ('G', np.uint8), ('B', np.uint8), ('A', np.uint8)])\n",
    "\n",
    "# Create an array with the custom dtype\n",
    "color_array = np.array((255, 127, 63, 255), dtype=rgba_dtype)\n",
    "\n",
    "print(\"RGBA Color Array:\")\n",
    "print(color_array)"
   ]
  },
  {
   "cell_type": "markdown",
   "id": "06c63bb3",
   "metadata": {},
   "source": [
    "#### 24. Multiply a 5x3 matrix by a 3x2 matrix (real matrix product) (★☆☆)"
   ]
  },
  {
   "cell_type": "code",
   "execution_count": 29,
   "id": "9fc0d553",
   "metadata": {},
   "outputs": [
    {
     "name": "stdout",
     "output_type": "stream",
     "text": [
      "Matrix A:\n",
      "[[9 6 0]\n",
      " [8 6 8]\n",
      " [6 6 1]\n",
      " [4 6 8]\n",
      " [8 1 1]]\n",
      "\n",
      "Matrix B:\n",
      "[[4 7]\n",
      " [2 7]\n",
      " [8 4]]\n",
      "\n",
      "Result Matrix:\n",
      "[[ 48 105]\n",
      " [108 130]\n",
      " [ 44  88]\n",
      " [ 92 102]\n",
      " [ 42  67]]\n"
     ]
    }
   ],
   "source": [
    "# Create a 5x3 matrix\n",
    "matrix_a = np.random.randint(0, 10, size=(5, 3))\n",
    "\n",
    "# Create a 3x2 matrix\n",
    "matrix_b = np.random.randint(0, 10, size=(3, 2))\n",
    "\n",
    "# Perform matrix multiplication\n",
    "result_matrix = np.dot(matrix_a, matrix_b)\n",
    "\n",
    "print(\"Matrix A:\")\n",
    "print(matrix_a)\n",
    "print(\"\\nMatrix B:\")\n",
    "print(matrix_b)\n",
    "print(\"\\nResult Matrix:\")\n",
    "print(result_matrix)"
   ]
  },
  {
   "cell_type": "markdown",
   "id": "76fa6285",
   "metadata": {},
   "source": [
    "#### 25. Given a 1D array, negate all elements which are between 3 and 8, in place. (★☆☆)"
   ]
  },
  {
   "cell_type": "code",
   "execution_count": 31,
   "id": "0e25eca7",
   "metadata": {},
   "outputs": [
    {
     "name": "stdout",
     "output_type": "stream",
     "text": [
      "[ 1 -5 -7  2  9  3 -6 -4  8]\n"
     ]
    }
   ],
   "source": [
    "# Create a 1D array\n",
    "arr6 = np.array([1, 5, 7, 2, 9, 3, 6, 4, 8])\n",
    "\n",
    "# Negate elements between 3 and 8 in place\n",
    "arr6[(arr6 > 3) & (arr6 < 8)] *= -1\n",
    "\n",
    "print(arr6)"
   ]
  },
  {
   "cell_type": "markdown",
   "id": "930ed8bb",
   "metadata": {},
   "source": [
    "#### 26. What is the output of the following script? (★☆☆)\n",
    "```python\n",
    "# Author: Jake VanderPlas\n",
    "\n",
    "print(sum(range(5),-1))\n",
    "from numpy import *\n",
    "print(sum(range(5),-1))\n",
    "```"
   ]
  },
  {
   "cell_type": "code",
   "execution_count": 32,
   "id": "f02eedba",
   "metadata": {},
   "outputs": [
    {
     "name": "stdout",
     "output_type": "stream",
     "text": [
      "9\n",
      "10\n"
     ]
    }
   ],
   "source": [
    "print(sum(range(5),-1))\n",
    "from numpy import *\n",
    "print(sum(range(5),-1))"
   ]
  },
  {
   "cell_type": "markdown",
   "id": "177120e7",
   "metadata": {},
   "source": [
    "#### 27. Consider an integer vector Z, which of these expressions are legal? (★☆☆)\n",
    "```python\n",
    "Z**Z\n",
    "2 << Z >> 2\n",
    "Z <- Z\n",
    "1j*Z\n",
    "Z/1/1\n",
    "Z<Z>Z\n",
    "```"
   ]
  },
  {
   "cell_type": "code",
   "execution_count": null,
   "id": "86d6cbef",
   "metadata": {},
   "outputs": [],
   "source": [
    "#Z**Z     Legal: Element-wise exponentiation\n",
    "#2 << Z >> 2     Legal: Bitwise left shift and right shift\n",
    "#Z <- Z     Legal: Element-wise less than comparison\n",
    "#1j*Z     Legal: Element-wise multiplication by a complex number\n",
    "#Z/1/1     Legal: Element-wise division\n",
    "#Z<Z>Z     Illegal: Chained comparisons"
   ]
  },
  {
   "cell_type": "markdown",
   "id": "a6eaf0e8",
   "metadata": {},
   "source": [
    "#### 28. What are the result of the following expressions? (★☆☆)\n",
    "```python\n",
    "np.array(0) / np.array(0)\n",
    "np.array(0) // np.array(0)\n",
    "np.array([np.nan]).astype(int).astype(float)\n",
    "```"
   ]
  },
  {
   "cell_type": "code",
   "execution_count": 4,
   "id": "93684068",
   "metadata": {},
   "outputs": [
    {
     "name": "stdout",
     "output_type": "stream",
     "text": [
      "nan\n",
      "0\n",
      "[-2.14748365e+09]\n"
     ]
    },
    {
     "name": "stderr",
     "output_type": "stream",
     "text": [
      "C:\\Users\\T14\\AppData\\Local\\Temp\\ipykernel_2592\\3912170336.py:1: RuntimeWarning: invalid value encountered in divide\n",
      "  print(np.array(0) / np.array(0))\n",
      "C:\\Users\\T14\\AppData\\Local\\Temp\\ipykernel_2592\\3912170336.py:2: RuntimeWarning: divide by zero encountered in floor_divide\n",
      "  print(np.array(0) // np.array(0))\n",
      "C:\\Users\\T14\\AppData\\Local\\Temp\\ipykernel_2592\\3912170336.py:3: RuntimeWarning: invalid value encountered in cast\n",
      "  print(np.array([np.nan]).astype(int).astype(float))\n"
     ]
    }
   ],
   "source": [
    "print(np.array(0) / np.array(0))\n",
    "print(np.array(0) // np.array(0))\n",
    "print(np.array([np.nan]).astype(int).astype(float))"
   ]
  },
  {
   "cell_type": "markdown",
   "id": "524b65f8",
   "metadata": {},
   "source": [
    "#### 29. How to round away from zero a float array ? (★☆☆)"
   ]
  },
  {
   "cell_type": "code",
   "execution_count": 5,
   "id": "61fbb78e",
   "metadata": {},
   "outputs": [
    {
     "name": "stdout",
     "output_type": "stream",
     "text": [
      "Original Float Array:\n",
      "[-2.3 -1.5  0.7  1.2  3.8]\n",
      "\n",
      "Rounded Array (Away from Zero):\n",
      "[-3. -2.  1.  2.  4.]\n"
     ]
    }
   ],
   "source": [
    "# Create a float array\n",
    "float_array = np.array([-2.3, -1.5, 0.7, 1.2, 3.8])\n",
    "\n",
    "# Round away from zero\n",
    "rounded_array = np.where(float_array >= 0, np.ceil(float_array), np.floor(float_array))\n",
    "\n",
    "print(\"Original Float Array:\")\n",
    "print(float_array)\n",
    "print(\"\\nRounded Array (Away from Zero):\")\n",
    "print(rounded_array)"
   ]
  },
  {
   "cell_type": "markdown",
   "id": "8dc40752",
   "metadata": {},
   "source": [
    "#### 30. How to find common values between two arrays? (★☆☆)"
   ]
  },
  {
   "cell_type": "code",
   "execution_count": 6,
   "id": "54399cbe",
   "metadata": {},
   "outputs": [
    {
     "name": "stdout",
     "output_type": "stream",
     "text": [
      "[3 4 5]\n"
     ]
    }
   ],
   "source": [
    "array1 = np.array([1, 2, 3, 4, 5])\n",
    "array2 = np.array([3, 4, 5, 6, 7])\n",
    "\n",
    "common_values = np.intersect1d(array1, array2)\n",
    "print(common_values)"
   ]
  },
  {
   "cell_type": "markdown",
   "id": "b7f38e21",
   "metadata": {},
   "source": [
    "#### 31. How to ignore all numpy warnings (not recommended)? (★☆☆)"
   ]
  },
  {
   "cell_type": "code",
   "execution_count": null,
   "id": "2ca3289c",
   "metadata": {},
   "outputs": [],
   "source": [
    "import warnings\n",
    "\n",
    "# Ignore all NumPy warnings\n",
    "warnings.filterwarnings(\"ignore\", category=np.VisibleDeprecationWarning)"
   ]
  },
  {
   "cell_type": "markdown",
   "id": "2d850aab",
   "metadata": {},
   "source": [
    "#### 32. Is the following expressions true? (★☆☆)\n",
    "```python\n",
    "np.sqrt(-1) == np.emath.sqrt(-1)\n",
    "```"
   ]
  },
  {
   "cell_type": "code",
   "execution_count": 9,
   "id": "5c83ffce",
   "metadata": {},
   "outputs": [
    {
     "name": "stdout",
     "output_type": "stream",
     "text": [
      "nan\n",
      "1j\n",
      "False\n"
     ]
    },
    {
     "name": "stderr",
     "output_type": "stream",
     "text": [
      "C:\\Users\\T14\\AppData\\Local\\Temp\\ipykernel_2592\\716945108.py:1: RuntimeWarning: invalid value encountered in sqrt\n",
      "  x1 = np.sqrt(-1)\n"
     ]
    }
   ],
   "source": [
    "x1 = np.sqrt(-1)\n",
    "x2 = np.emath.sqrt(-1)\n",
    "\n",
    "print(x1)\n",
    "print(x2)\n",
    "print(x1 == x2)"
   ]
  },
  {
   "cell_type": "markdown",
   "id": "5c4a556f",
   "metadata": {},
   "source": [
    "#### 33. How to get the dates of yesterday, today and tomorrow? (★☆☆)"
   ]
  },
  {
   "cell_type": "code",
   "execution_count": 10,
   "id": "c3b683a0",
   "metadata": {},
   "outputs": [
    {
     "name": "stdout",
     "output_type": "stream",
     "text": [
      "Yesterday: 2023-11-20\n",
      "Today: 2023-11-21\n",
      "Tomorrow: 2023-11-22\n"
     ]
    }
   ],
   "source": [
    "from datetime import datetime, timedelta\n",
    "\n",
    "# Get today's date\n",
    "today = datetime.now().date()\n",
    "\n",
    "# Create a NumPy array with yesterday, today, and tomorrow\n",
    "dates = np.array([today - timedelta(days=1), today, today + timedelta(days=1)])\n",
    "\n",
    "print(\"Yesterday:\", dates[0])\n",
    "print(\"Today:\", dates[1])\n",
    "print(\"Tomorrow:\", dates[2])"
   ]
  },
  {
   "cell_type": "markdown",
   "id": "453cdd64",
   "metadata": {},
   "source": [
    "#### 34. How to get all the dates corresponding to the month of July 2016? (★★☆)"
   ]
  },
  {
   "cell_type": "code",
   "execution_count": 11,
   "id": "4ba4d37c",
   "metadata": {},
   "outputs": [
    {
     "name": "stdout",
     "output_type": "stream",
     "text": [
      "['2016-07-01' '2016-07-02' '2016-07-03' '2016-07-04' '2016-07-05'\n",
      " '2016-07-06' '2016-07-07' '2016-07-08' '2016-07-09' '2016-07-10'\n",
      " '2016-07-11' '2016-07-12' '2016-07-13' '2016-07-14' '2016-07-15'\n",
      " '2016-07-16' '2016-07-17' '2016-07-18' '2016-07-19' '2016-07-20'\n",
      " '2016-07-21' '2016-07-22' '2016-07-23' '2016-07-24' '2016-07-25'\n",
      " '2016-07-26' '2016-07-27' '2016-07-28' '2016-07-29' '2016-07-30'\n",
      " '2016-07-31']\n"
     ]
    }
   ],
   "source": [
    "# Define the start and end dates of July 2016\n",
    "start_date = np.datetime64('2016-07-01')\n",
    "end_date = np.datetime64('2016-08-01')\n",
    "\n",
    "# Generate an array of dates for the month of July 2016\n",
    "dates = np.arange(start_date, end_date, np.timedelta64(1, 'D'))\n",
    "\n",
    "print(dates)"
   ]
  },
  {
   "cell_type": "markdown",
   "id": "52667b6e",
   "metadata": {},
   "source": [
    "#### 35. How to compute ((A+B)*(-A/2)) in place (without copy)? (★★☆)"
   ]
  },
  {
   "cell_type": "code",
   "execution_count": 14,
   "id": "e6e7c030",
   "metadata": {},
   "outputs": [
    {
     "name": "stdout",
     "output_type": "stream",
     "text": [
      "[ 6.25 12.25 20.25]\n"
     ]
    }
   ],
   "source": [
    "# Create arrays A and B\n",
    "A = np.array([1, 2, 3], dtype=float)\n",
    "B = np.array([4, 5, 6], dtype=float)\n",
    "\n",
    "# Perform the operation in place\n",
    "np.multiply(np.add(A, B, out=A), np.negative(np.divide(A, 2, out=A), out=A), out=A)\n",
    "\n",
    "print(A)"
   ]
  },
  {
   "cell_type": "markdown",
   "id": "9a8f3738",
   "metadata": {},
   "source": [
    "#### 36. Extract the integer part of a random array of positive numbers using 4 different methods (★★☆)"
   ]
  },
  {
   "cell_type": "code",
   "execution_count": 15,
   "id": "368a801a",
   "metadata": {},
   "outputs": [
    {
     "name": "stdout",
     "output_type": "stream",
     "text": [
      "Original Array: [4.76311996 4.50081565 8.9017486  4.91163877 5.26406226]\n",
      "Method 1 (np.floor): [4. 4. 8. 4. 5.]\n",
      "Method 2 (np.ceil): [5. 5. 9. 5. 6.]\n",
      "Method 3 (astype(int)): [4 4 8 4 5]\n",
      "Method 4 (np.trunc): [4. 4. 8. 4. 5.]\n"
     ]
    }
   ],
   "source": [
    "# Create a random array of positive numbers\n",
    "random_array = np.random.rand(5) * 10  # Example array of length 5\n",
    "\n",
    "# Method 1: Using np.floor\n",
    "method_1_result = np.floor(random_array)\n",
    "\n",
    "# Method 2: Using np.ceil\n",
    "method_2_result = np.ceil(random_array)\n",
    "\n",
    "# Method 3: Using astype(int)\n",
    "method_3_result = random_array.astype(int)\n",
    "\n",
    "# Method 4: Using np.trunc\n",
    "method_4_result = np.trunc(random_array)\n",
    "\n",
    "# Print the results\n",
    "print(\"Original Array:\", random_array)\n",
    "print(\"Method 1 (np.floor):\", method_1_result)\n",
    "print(\"Method 2 (np.ceil):\", method_2_result)\n",
    "print(\"Method 3 (astype(int)):\", method_3_result)\n",
    "print(\"Method 4 (np.trunc):\", method_4_result)"
   ]
  },
  {
   "cell_type": "markdown",
   "id": "cab1eed1",
   "metadata": {},
   "source": [
    "#### 37. Create a 5x5 matrix with row values ranging from 0 to 4 (★★☆)"
   ]
  },
  {
   "cell_type": "code",
   "execution_count": 16,
   "id": "f1b579ba",
   "metadata": {},
   "outputs": [
    {
     "name": "stdout",
     "output_type": "stream",
     "text": [
      "[[0. 1. 2. 3. 4.]\n",
      " [0. 1. 2. 3. 4.]\n",
      " [0. 1. 2. 3. 4.]\n",
      " [0. 1. 2. 3. 4.]\n",
      " [0. 1. 2. 3. 4.]]\n"
     ]
    }
   ],
   "source": [
    "# Create a 5x5 matrix with row values ranging from 0 to 4\n",
    "matrix4 = np.zeros((5, 5))\n",
    "matrix4 += np.arange(5)\n",
    "\n",
    "print(matrix4)"
   ]
  },
  {
   "cell_type": "markdown",
   "id": "cd0ce6b1",
   "metadata": {},
   "source": [
    "#### 38. Consider a generator function that generates 10 integers and use it to build an array (★☆☆)"
   ]
  },
  {
   "cell_type": "code",
   "execution_count": 17,
   "id": "aab193a6",
   "metadata": {},
   "outputs": [
    {
     "name": "stdout",
     "output_type": "stream",
     "text": [
      "[0 1 2 3 4 5 6 7 8 9]\n"
     ]
    }
   ],
   "source": [
    "# Define a generator function that yields 10 integers\n",
    "def generate_integers():\n",
    "    for i in range(10):\n",
    "        yield i\n",
    "\n",
    "# Use the generator function to build an array\n",
    "array_from_generator = np.fromiter(generate_integers(), dtype=int)\n",
    "\n",
    "print(array_from_generator)"
   ]
  },
  {
   "cell_type": "markdown",
   "id": "c4c942d1",
   "metadata": {},
   "source": [
    "#### 39. Create a vector of size 10 with values ranging from 0 to 1, both excluded (★★☆)"
   ]
  },
  {
   "cell_type": "code",
   "execution_count": 18,
   "id": "e42eaa4b",
   "metadata": {},
   "outputs": [
    {
     "name": "stdout",
     "output_type": "stream",
     "text": [
      "[0.09090909 0.18181818 0.27272727 0.36363636 0.45454545 0.54545455\n",
      " 0.63636364 0.72727273 0.81818182 0.90909091]\n"
     ]
    }
   ],
   "source": [
    "# Create a vector of size 10 with values ranging from 0 to 1 (excluding both)\n",
    "vector3 = np.linspace(0, 1, 12)[1:-1]\n",
    "\n",
    "print(vector3)"
   ]
  },
  {
   "cell_type": "markdown",
   "id": "9b3cb8d2",
   "metadata": {},
   "source": [
    "#### 40. Create a random vector of size 10 and sort it (★★☆)"
   ]
  },
  {
   "cell_type": "code",
   "execution_count": 19,
   "id": "37d2b341",
   "metadata": {},
   "outputs": [
    {
     "name": "stdout",
     "output_type": "stream",
     "text": [
      "Original Vector: [0.39738278 0.30734843 0.99985764 0.08031258 0.60715873 0.86270155\n",
      " 0.7169587  0.35438302 0.10628671 0.05640244]\n",
      "Sorted Vector: [0.05640244 0.08031258 0.10628671 0.30734843 0.35438302 0.39738278\n",
      " 0.60715873 0.7169587  0.86270155 0.99985764]\n"
     ]
    }
   ],
   "source": [
    "# Create a random vector of size 10\n",
    "vector4 = np.random.rand(10)\n",
    "\n",
    "# Sort the random vector\n",
    "sorted_vector = np.sort(vector4)\n",
    "\n",
    "print(\"Original Vector:\", vector4)\n",
    "print(\"Sorted Vector:\", sorted_vector)"
   ]
  },
  {
   "cell_type": "markdown",
   "id": "2facfddc",
   "metadata": {},
   "source": [
    "#### 41. How to sum a small array faster than np.sum? (★★☆)"
   ]
  },
  {
   "cell_type": "code",
   "execution_count": 20,
   "id": "4bb8864f",
   "metadata": {},
   "outputs": [
    {
     "name": "stdout",
     "output_type": "stream",
     "text": [
      "Sum using built-in sum function: 15\n"
     ]
    }
   ],
   "source": [
    "# Create a small array\n",
    "small_array = np.array([1, 2, 3, 4, 5])\n",
    "\n",
    "# Use Python's built-in sum function\n",
    "sum_result = sum(small_array)\n",
    "\n",
    "print(\"Sum using built-in sum function:\", sum_result)"
   ]
  },
  {
   "cell_type": "markdown",
   "id": "539cd2a5",
   "metadata": {},
   "source": [
    "#### 42. Consider two random array A and B, check if they are equal (★★☆)"
   ]
  },
  {
   "cell_type": "code",
   "execution_count": 21,
   "id": "5246d7bf",
   "metadata": {},
   "outputs": [
    {
     "name": "stdout",
     "output_type": "stream",
     "text": [
      "Array A: [0.30475587 0.28879803 0.1414709  0.04257176 0.49816413]\n",
      "Array B: [0.40537787 0.40206279 0.65288209 0.99729636 0.08721429]\n",
      "Are arrays A and B equal? False\n"
     ]
    }
   ],
   "source": [
    "# Create two random arrays A and B\n",
    "A = np.random.rand(5)\n",
    "B = np.random.rand(5)\n",
    "\n",
    "# Check if arrays A and B are equal\n",
    "are_equal = np.array_equal(A, B)\n",
    "\n",
    "print(\"Array A:\", A)\n",
    "print(\"Array B:\", B)\n",
    "print(\"Are arrays A and B equal?\", are_equal)"
   ]
  },
  {
   "cell_type": "markdown",
   "id": "448f8274",
   "metadata": {},
   "source": [
    "#### 43. Make an array immutable (read-only) (★★☆)"
   ]
  },
  {
   "cell_type": "code",
   "execution_count": 22,
   "id": "7cf2b3dd",
   "metadata": {},
   "outputs": [
    {
     "name": "stdout",
     "output_type": "stream",
     "text": [
      "Mutable Array: [10  2  3  4  5]\n",
      "Immutable Array: [1 2 3 4 5]\n"
     ]
    }
   ],
   "source": [
    "# Create a mutable array\n",
    "mutable_array = np.array([1, 2, 3, 4, 5])\n",
    "\n",
    "# Make the array read-only\n",
    "immutable_array = np.array([1, 2, 3, 4, 5])\n",
    "immutable_array.flags.writeable = False\n",
    "\n",
    "# Try to modify the elements in both arrays\n",
    "mutable_array[0] = 10  # This is allowed\n",
    "# immutable_array[0] = 10  # This will raise a ValueError\n",
    "\n",
    "print(\"Mutable Array:\", mutable_array)\n",
    "print(\"Immutable Array:\", immutable_array)"
   ]
  },
  {
   "cell_type": "markdown",
   "id": "d7b7aaf3",
   "metadata": {},
   "source": [
    "#### 44. Consider a random 10x2 matrix representing cartesian coordinates, convert them to polar coordinates (★★☆)"
   ]
  },
  {
   "cell_type": "code",
   "execution_count": 23,
   "id": "e2337585",
   "metadata": {},
   "outputs": [
    {
     "name": "stdout",
     "output_type": "stream",
     "text": [
      "Cartesian Coordinates:\n",
      "[[0.7656869  0.11174062]\n",
      " [0.02192445 0.61545087]\n",
      " [0.57391869 0.06168345]\n",
      " [0.70674716 0.16626515]\n",
      " [0.41773915 0.56089966]\n",
      " [0.94055961 0.61339575]\n",
      " [0.02987004 0.72133186]\n",
      " [0.0999776  0.94022614]\n",
      " [0.02869505 0.35827386]\n",
      " [0.72355488 0.48918095]]\n",
      "\n",
      "Polar Coordinates:\n",
      "[[0.77379738 0.14491218]\n",
      " [0.61584126 1.53518799]\n",
      " [0.57722397 0.10706669]\n",
      " [0.72604108 0.23105273]\n",
      " [0.69936716 0.93065323]\n",
      " [1.12290103 0.57789247]\n",
      " [0.72195004 1.5294104 ]\n",
      " [0.94552669 1.46486083]\n",
      " [0.35942115 1.49087443]\n",
      " [0.87340121 0.59449122]]\n"
     ]
    }
   ],
   "source": [
    "# Create a random 10x2 matrix of cartesian coordinates\n",
    "cartesian_coordinates = np.random.rand(10, 2)\n",
    "\n",
    "# Extract x and y coordinates\n",
    "x = cartesian_coordinates[:, 0]\n",
    "y = cartesian_coordinates[:, 1]\n",
    "\n",
    "# Convert cartesian to polar coordinates\n",
    "radius = np.sqrt(x**2 + y**2)\n",
    "angle = np.arctan2(y, x)\n",
    "\n",
    "# Combine radius and angle to get polar coordinates\n",
    "polar_coordinates = np.column_stack((radius, angle))\n",
    "\n",
    "print(\"Cartesian Coordinates:\")\n",
    "print(cartesian_coordinates)\n",
    "print(\"\\nPolar Coordinates:\")\n",
    "print(polar_coordinates)"
   ]
  },
  {
   "cell_type": "markdown",
   "id": "a556027a",
   "metadata": {},
   "source": [
    "#### 45. Create random vector of size 10 and replace the maximum value by 0 (★★☆)"
   ]
  },
  {
   "cell_type": "code",
   "execution_count": 24,
   "id": "9e07cb87",
   "metadata": {},
   "outputs": [
    {
     "name": "stdout",
     "output_type": "stream",
     "text": [
      "Original Vector: [0.39738278 0.30734843 0.99985764 0.08031258 0.60715873 0.86270155\n",
      " 0.7169587  0.35438302 0.10628671 0.05640244]\n",
      "Vector after replacing the maximum value with 0: [0.39738278 0.30734843 0.         0.08031258 0.60715873 0.86270155\n",
      " 0.7169587  0.35438302 0.10628671 0.05640244]\n"
     ]
    }
   ],
   "source": [
    "\n",
    "# Create a random vector of size 10\n",
    "vector5 = np.random.rand(10)\n",
    "\n",
    "print(\"Original Vector:\", vector4)\n",
    "\n",
    "# Find the index of the maximum value\n",
    "max_index = np.argmax(vector4)\n",
    "\n",
    "# Replace the maximum value with 0\n",
    "vector4[max_index] = 0\n",
    "\n",
    "print(\"Vector after replacing the maximum value with 0:\", vector4)"
   ]
  },
  {
   "cell_type": "markdown",
   "id": "004f3da1",
   "metadata": {},
   "source": [
    "#### 46. Create a structured array with `x` and `y` coordinates covering the [0,1]x[0,1] area (★★☆)"
   ]
  },
  {
   "cell_type": "code",
   "execution_count": null,
   "id": "b3824741",
   "metadata": {},
   "outputs": [],
   "source": [
    "# Create a structured array with 'x' and 'y' coordinates\n",
    "structured_array = np.zeros((10, 10), dtype=[('x', float), ('y', float)])\n",
    "\n",
    "# Fill 'x' and 'y' coordinates with values covering [0, 1]x[0, 1]\n",
    "structured_array['x'], structured_array['y'] = np.meshgrid(np.linspace(0, 1, 10), np.linspace(0, 1, 10))\n",
    "\n",
    "print(structured_array)"
   ]
  },
  {
   "cell_type": "markdown",
   "id": "1c0adc0d",
   "metadata": {},
   "source": [
    "#### 47. Given two arrays, X and Y, construct the Cauchy matrix C (Cij =1/(xi - yj)) (★★☆)"
   ]
  },
  {
   "cell_type": "code",
   "execution_count": 26,
   "id": "01b3bbb7",
   "metadata": {},
   "outputs": [
    {
     "name": "stdout",
     "output_type": "stream",
     "text": [
      "[[-0.33333333 -0.25       -0.2       ]\n",
      " [-0.5        -0.33333333 -0.25      ]\n",
      " [-1.         -0.5        -0.33333333]]\n"
     ]
    }
   ],
   "source": [
    "# Given arrays X and Y\n",
    "X = np.array([1, 2, 3])\n",
    "Y = np.array([4, 5, 6])\n",
    "\n",
    "# Construct the Cauchy matrix C\n",
    "C = 1.0 / (X[:, np.newaxis] - Y)\n",
    "\n",
    "print(C)"
   ]
  },
  {
   "cell_type": "markdown",
   "id": "c8a2f65a",
   "metadata": {},
   "source": [
    "#### 48. Print the minimum and maximum representable value for each numpy scalar type (★★☆)"
   ]
  },
  {
   "cell_type": "code",
   "execution_count": 29,
   "id": "35d844d6",
   "metadata": {},
   "outputs": [
    {
     "name": "stdout",
     "output_type": "stream",
     "text": [
      "Integer types:\n",
      "\n",
      "Minimum representable value for <class 'numpy.int8'>: -128\n",
      "Maximum representable value for <class 'numpy.int8'>: 127\n",
      "\n",
      "Minimum representable value for <class 'numpy.int16'>: -32768\n",
      "Maximum representable value for <class 'numpy.int16'>: 32767\n",
      "\n",
      "Minimum representable value for <class 'numpy.int32'>: -2147483648\n",
      "Maximum representable value for <class 'numpy.int32'>: 2147483647\n",
      "\n",
      "Minimum representable value for <class 'numpy.int64'>: -9223372036854775808\n",
      "Maximum representable value for <class 'numpy.int64'>: 9223372036854775807\n",
      "\n",
      "Floating-point types:\n",
      "\n",
      "Minimum representable value for <class 'numpy.float16'>: -65504.0\n",
      "Maximum representable value for <class 'numpy.float16'>: 65504.0\n",
      "Epsilon for <class 'numpy.float16'>: 0.0009765625\n",
      "\n",
      "Minimum representable value for <class 'numpy.float32'>: -3.4028234663852886e+38\n",
      "Maximum representable value for <class 'numpy.float32'>: 3.4028234663852886e+38\n",
      "Epsilon for <class 'numpy.float32'>: 1.1920928955078125e-07\n",
      "\n",
      "Minimum representable value for <class 'numpy.float64'>: -1.7976931348623157e+308\n",
      "Maximum representable value for <class 'numpy.float64'>: 1.7976931348623157e+308\n",
      "Epsilon for <class 'numpy.float64'>: 2.220446049250313e-16\n",
      "\n"
     ]
    }
   ],
   "source": [
    "# Integer types\n",
    "print(\"Integer types:\\n\")\n",
    "for dtype in [np.int8, np.int16, np.int32, np.int64]:\n",
    "    info = np.iinfo(dtype)\n",
    "    print(f\"Minimum representable value for {dtype}: {info.min}\")\n",
    "    print(f\"Maximum representable value for {dtype}: {info.max}\\n\")\n",
    "\n",
    "# Floating-point types\n",
    "print(\"Floating-point types:\\n\")\n",
    "for dtype in [np.float16, np.float32, np.float64]:\n",
    "    info = np.finfo(dtype)\n",
    "    print(f\"Minimum representable value for {dtype}: {info.min}\")\n",
    "    print(f\"Maximum representable value for {dtype}: {info.max}\")\n",
    "    print(f\"Epsilon for {dtype}: {info.eps}\\n\")"
   ]
  },
  {
   "cell_type": "markdown",
   "id": "11727a69",
   "metadata": {},
   "source": [
    "#### 49. How to print all the values of an array? (★★☆)"
   ]
  },
  {
   "cell_type": "code",
   "execution_count": 30,
   "id": "47e98473",
   "metadata": {},
   "outputs": [
    {
     "name": "stdout",
     "output_type": "stream",
     "text": [
      "Method 1:\n",
      "1 2 3 4 5 6 7 8 9 \n",
      "\n",
      "Method 2:\n",
      "[[1 2 3]\n",
      " [4 5 6]\n",
      " [7 8 9]]\n"
     ]
    }
   ],
   "source": [
    "# Create an example array\n",
    "arr7 = np.array([[1, 2, 3], [4, 5, 6], [7, 8, 9]])\n",
    "\n",
    "# Method 1: Using a loop\n",
    "print(\"Method 1:\")\n",
    "for row in arr7:\n",
    "    for value in row:\n",
    "        print(value, end=' ')\n",
    "print(\"\\n\")\n",
    "\n",
    "# Method 2: Using print with the array directly\n",
    "print(\"Method 2:\")\n",
    "print(arr7)"
   ]
  },
  {
   "cell_type": "markdown",
   "id": "e0e7d741",
   "metadata": {},
   "source": [
    "#### 50. How to find the closest value (to a given scalar) in a vector? (★★☆)"
   ]
  },
  {
   "cell_type": "code",
   "execution_count": 32,
   "id": "62cabf6f",
   "metadata": {},
   "outputs": [
    {
     "name": "stdout",
     "output_type": "stream",
     "text": [
      "Vector: [1.2 2.5 3.8 4.1 5.7]\n",
      "Scalar: 3.0\n",
      "Closest Value: 2.5\n"
     ]
    }
   ],
   "source": [
    "# Create a vector\n",
    "vector6 = np.array([1.2, 2.5, 3.8, 4.1, 5.7])\n",
    "\n",
    "# Given scalar value\n",
    "scalar = 3.0\n",
    "\n",
    "# Find the index of the closest value\n",
    "index_closest = np.abs(vector6 - scalar).argmin()\n",
    "\n",
    "# Get the closest value\n",
    "closest_value = vector6[index_closest]\n",
    "\n",
    "print(\"Vector:\", vector6)\n",
    "print(\"Scalar:\", scalar)\n",
    "print(\"Closest Value:\", closest_value)"
   ]
  },
  {
   "cell_type": "markdown",
   "id": "c5611b9e",
   "metadata": {},
   "source": [
    "#### 51. Create a structured array representing a position (x,y) and a color (r,g,b) (★★☆)"
   ]
  },
  {
   "cell_type": "code",
   "execution_count": 33,
   "id": "f622939d",
   "metadata": {},
   "outputs": [
    {
     "name": "stdout",
     "output_type": "stream",
     "text": [
      "[((0.66327419, 0.34360087), ( 33, 183, 134))\n",
      " ((0.92324179, 0.95403762), ( 59, 143, 195))\n",
      " ((0.97724799, 0.11433394), ( 81,   6, 130))\n",
      " ((0.42443301, 0.35070339), ( 40, 115, 168))\n",
      " ((0.53465269, 0.03918866), (236, 242, 153))]\n"
     ]
    }
   ],
   "source": [
    "\n",
    "# Create a structured array with fields 'position' and 'color'\n",
    "# 'position' has fields 'x' and 'y', and 'color' has fields 'r', 'g', and 'b'\n",
    "structured_array = np.zeros(5, dtype=[('position', [('x', float), ('y', float)]),\n",
    "                                     ('color', [('r', int), ('g', int), ('b', int)])])\n",
    "\n",
    "# Fill the structured array with example values\n",
    "structured_array['position']['x'] = np.random.rand(5)\n",
    "structured_array['position']['y'] = np.random.rand(5)\n",
    "structured_array['color']['r'] = np.random.randint(0, 256, 5)\n",
    "structured_array['color']['g'] = np.random.randint(0, 256, 5)\n",
    "structured_array['color']['b'] = np.random.randint(0, 256, 5)\n",
    "\n",
    "print(structured_array)"
   ]
  },
  {
   "cell_type": "markdown",
   "id": "d22b8574",
   "metadata": {},
   "source": [
    "#### 52. Consider a random vector with shape (100,2) representing coordinates, find point by point distances (★★☆)"
   ]
  },
  {
   "cell_type": "code",
   "execution_count": 34,
   "id": "d5c9cdf8",
   "metadata": {},
   "outputs": [
    {
     "name": "stdout",
     "output_type": "stream",
     "text": [
      "[[0.         0.63499191 0.49944565 ... 0.87710192 0.4644433  0.54121815]\n",
      " [0.63499191 0.         0.24917074 ... 0.4580025  0.72256055 0.12610149]\n",
      " [0.49944565 0.24917074 0.         ... 0.39107426 0.47675391 0.12616714]\n",
      " ...\n",
      " [0.87710192 0.4580025  0.39107426 ... 0.         0.68205317 0.42618657]\n",
      " [0.4644433  0.72256055 0.47675391 ... 0.68205317 0.         0.59650151]\n",
      " [0.54121815 0.12610149 0.12616714 ... 0.42618657 0.59650151 0.        ]]\n"
     ]
    }
   ],
   "source": [
    "# Create a random vector with shape (100, 2)\n",
    "coordinates = np.random.rand(100, 2)\n",
    "\n",
    "# Calculate point-to-point distances\n",
    "distances = np.sqrt(np.sum((coordinates - coordinates[:, np.newaxis]) ** 2, axis=2))\n",
    "\n",
    "print(distances)"
   ]
  },
  {
   "cell_type": "markdown",
   "id": "f5c164f2",
   "metadata": {},
   "source": [
    "#### 53. How to convert a float (32 bits) array into an integer (32 bits) in place?"
   ]
  },
  {
   "cell_type": "code",
   "execution_count": 35,
   "id": "ea262de8",
   "metadata": {},
   "outputs": [
    {
     "name": "stdout",
     "output_type": "stream",
     "text": [
      "Float Array: [1.5 2.7 3.9]\n",
      "Integer Array: [1069547520 1076677837 1081711002]\n"
     ]
    }
   ],
   "source": [
    "\n",
    "# Create a float (32 bits) array\n",
    "float_array = np.array([1.5, 2.7, 3.9], dtype=np.float32)\n",
    "\n",
    "# Convert the float array to an integer (32 bits) array in place\n",
    "int_array = float_array.view(dtype=np.int32)\n",
    "\n",
    "print(\"Float Array:\", float_array)\n",
    "print(\"Integer Array:\", int_array)"
   ]
  },
  {
   "cell_type": "markdown",
   "id": "a8b7e6f5",
   "metadata": {},
   "source": [
    "#### 54. How to read the following file? (★★☆)\n",
    "```\n",
    "1, 2, 3, 4, 5\n",
    "6,  ,  , 7, 8\n",
    " ,  , 9,10,11\n",
    "```"
   ]
  },
  {
   "cell_type": "code",
   "execution_count": 38,
   "id": "bde0538a",
   "metadata": {},
   "outputs": [
    {
     "name": "stdout",
     "output_type": "stream",
     "text": [
      "[[ 1.  2.  3.  4.  5.]\n",
      " [ 6. nan nan  7.  8.]\n",
      " [nan nan  9. 10. 11.]]\n"
     ]
    }
   ],
   "source": [
    "from io import StringIO\n",
    "\n",
    "# Your file content\n",
    "file_content = \"\"\"1, 2, 3, 4, 5\n",
    "6,  ,  , 7, 8\n",
    " ,  , 9,10,11\"\"\"\n",
    "\n",
    "# Convert the string content to a NumPy array\n",
    "data_array = np.genfromtxt(StringIO(file_content), delimiter=',', filling_values=np.nan)\n",
    "\n",
    "print(data_array)"
   ]
  },
  {
   "cell_type": "markdown",
   "id": "c6b32834",
   "metadata": {},
   "source": [
    "#### 55. What is the equivalent of enumerate for numpy arrays? (★★☆)"
   ]
  },
  {
   "cell_type": "code",
   "execution_count": 39,
   "id": "ab02472a",
   "metadata": {},
   "outputs": [
    {
     "name": "stdout",
     "output_type": "stream",
     "text": [
      "Index: (0, 0), Value: 1\n",
      "Index: (0, 1), Value: 2\n",
      "Index: (0, 2), Value: 3\n",
      "Index: (1, 0), Value: 4\n",
      "Index: (1, 1), Value: 5\n",
      "Index: (1, 2), Value: 6\n",
      "Index: (2, 0), Value: 7\n",
      "Index: (2, 1), Value: 8\n",
      "Index: (2, 2), Value: 9\n"
     ]
    }
   ],
   "source": [
    "# Create a NumPy array\n",
    "arr8 = np.array([[1, 2, 3], [4, 5, 6], [7, 8, 9]])\n",
    "\n",
    "# Use numpy.ndenumerate to iterate over the array along with indices\n",
    "for index, value in np.ndenumerate(arr8):\n",
    "    print(f\"Index: {index}, Value: {value}\")"
   ]
  },
  {
   "cell_type": "markdown",
   "id": "a2121a05",
   "metadata": {},
   "source": [
    "#### 56. Generate a generic 2D Gaussian-like array (★★☆)"
   ]
  },
  {
   "cell_type": "code",
   "execution_count": 40,
   "id": "18507102",
   "metadata": {},
   "outputs": [
    {
     "name": "stdout",
     "output_type": "stream",
     "text": [
      "Gaussian-like Array:\n",
      "[[0.00296902 0.01330621 0.02193823 0.01330621 0.00296902]\n",
      " [0.01330621 0.0596343  0.09832033 0.0596343  0.01330621]\n",
      " [0.02193823 0.09832033 0.16210282 0.09832033 0.02193823]\n",
      " [0.01330621 0.0596343  0.09832033 0.0596343  0.01330621]\n",
      " [0.00296902 0.01330621 0.02193823 0.01330621 0.00296902]]\n"
     ]
    }
   ],
   "source": [
    "def gaussian_2d(shape, sigma=1.0):\n",
    "    m, n = [(ss-1.)/2. for ss in shape]\n",
    "    y, x = np.ogrid[-m:m+1, -n:n+1]\n",
    "    h = np.exp(-(x*x + y*y) / (2.*sigma*sigma))\n",
    "    h[h < np.finfo(h.dtype).eps*h.max()] = 0\n",
    "    return h / h.sum()\n",
    "\n",
    "# Specify the shape and sigma value\n",
    "shape = (5, 5)\n",
    "sigma = 1.0\n",
    "\n",
    "# Generate the Gaussian-like array\n",
    "gaussian_array = gaussian_2d(shape, sigma)\n",
    "\n",
    "print(\"Gaussian-like Array:\")\n",
    "print(gaussian_array)"
   ]
  },
  {
   "cell_type": "markdown",
   "id": "97055efa",
   "metadata": {},
   "source": [
    "#### 57. How to randomly place p elements in a 2D array? (★★☆)"
   ]
  },
  {
   "cell_type": "code",
   "execution_count": 41,
   "id": "292e842f",
   "metadata": {},
   "outputs": [
    {
     "name": "stdout",
     "output_type": "stream",
     "text": [
      "Original 2D Array:\n",
      "[[0. 0. 0. 0. 0.]\n",
      " [0. 0. 0. 0. 0.]\n",
      " [0. 0. 0. 0. 0.]\n",
      " [0. 0. 0. 0. 0.]\n",
      " [0. 0. 0. 0. 0.]]\n",
      "\n",
      "Resulting 2D Array with Random Elements:\n",
      "[[0. 0. 0. 0. 0.]\n",
      " [0. 0. 0. 1. 1.]\n",
      " [0. 1. 0. 0. 1.]\n",
      " [0. 0. 0. 0. 0.]\n",
      " [0. 1. 0. 0. 1.]]\n"
     ]
    }
   ],
   "source": [
    "def place_random_elements(arr, p):\n",
    "    # Flatten the array to make it 1D\n",
    "    flattened_arr = arr.flatten()\n",
    "\n",
    "    # Get the total number of elements in the array\n",
    "    total_elements = flattened_arr.size\n",
    "\n",
    "    # Randomly select p indices\n",
    "    random_indices = np.random.choice(total_elements, p, replace=False)\n",
    "\n",
    "    # Place random elements at the selected indices\n",
    "    flattened_arr[random_indices] = 1  # You can replace '1' with any value you want to place\n",
    "\n",
    "    # Reshape the array back to its original shape\n",
    "    result = flattened_arr.reshape(arr.shape)\n",
    "\n",
    "    return result\n",
    "\n",
    "# Create a 2D array\n",
    "array_2d = np.zeros((5, 5))\n",
    "\n",
    "# Specify the number of random elements to place (p)\n",
    "p = 6\n",
    "\n",
    "# Place random elements in the 2D array\n",
    "result_array = place_random_elements(array_2d, p)\n",
    "\n",
    "print(\"Original 2D Array:\")\n",
    "print(array_2d)\n",
    "print(\"\\nResulting 2D Array with Random Elements:\")\n",
    "print(result_array)"
   ]
  },
  {
   "cell_type": "markdown",
   "id": "bfd2513c",
   "metadata": {},
   "source": [
    "#### 58. Subtract the mean of each row of a matrix (★★☆)"
   ]
  },
  {
   "cell_type": "code",
   "execution_count": 42,
   "id": "f306ab72",
   "metadata": {},
   "outputs": [
    {
     "name": "stdout",
     "output_type": "stream",
     "text": [
      "Original Matrix:\n",
      "[[1 2 3]\n",
      " [4 5 6]\n",
      " [7 8 9]]\n",
      "\n",
      "Result Matrix (Mean of each row subtracted):\n",
      "[[-1.  0.  1.]\n",
      " [-1.  0.  1.]\n",
      " [-1.  0.  1.]]\n"
     ]
    }
   ],
   "source": [
    "# Create a sample matrix\n",
    "matrix5 = np.array([[1, 2, 3], [4, 5, 6], [7, 8, 9]])\n",
    "\n",
    "# Subtract the mean of each row\n",
    "result_matrix = matrix5 - np.mean(matrix5, axis=1, keepdims=True)\n",
    "\n",
    "print(\"Original Matrix:\")\n",
    "print(matrix5)\n",
    "print(\"\\nResult Matrix (Mean of each row subtracted):\")\n",
    "print(result_matrix)"
   ]
  },
  {
   "cell_type": "markdown",
   "id": "da9f2f9b",
   "metadata": {},
   "source": [
    "#### 59. How to sort an array by the nth column? (★★☆)"
   ]
  },
  {
   "cell_type": "code",
   "execution_count": 44,
   "id": "68cde57f",
   "metadata": {},
   "outputs": [
    {
     "name": "stdout",
     "output_type": "stream",
     "text": [
      "Original 2D Array:\n",
      "[[4 2 6]\n",
      " [1 7 5]\n",
      " [3 8 9]]\n",
      "\n",
      "Sorted 2D Array by the nth column:\n",
      "[[1 7 5]\n",
      " [3 8 9]\n",
      " [4 2 6]]\n"
     ]
    }
   ],
   "source": [
    "# Create a sample 2D array\n",
    "array_2d = np.array([[4, 2, 6],\n",
    "                     [1, 7, 5],\n",
    "                     [3, 8, 9]])\n",
    "\n",
    "# Specify the column index to sort by (e.g., sort by the first column, n=0)\n",
    "n = 0\n",
    "\n",
    "# Get the indices that would sort the array along the specified column\n",
    "sorted_indices = np.argsort(array_2d[:, n])\n",
    "\n",
    "# Use the sorted indices to rearrange the rows of the array\n",
    "sorted_array = array_2d[sorted_indices]\n",
    "\n",
    "print(\"Original 2D Array:\")\n",
    "print(array_2d)\n",
    "print(\"\\nSorted 2D Array by the nth column:\")\n",
    "print(sorted_array)"
   ]
  },
  {
   "cell_type": "markdown",
   "id": "5b7be45c",
   "metadata": {},
   "source": [
    "#### 60. How to tell if a given 2D array has null columns? (★★☆)"
   ]
  },
  {
   "cell_type": "code",
   "execution_count": 45,
   "id": "7dbe2c27",
   "metadata": {},
   "outputs": [
    {
     "name": "stdout",
     "output_type": "stream",
     "text": [
      "Original 2D Array:\n",
      "[[1 0 3]\n",
      " [0 0 0]\n",
      " [4 0 6]]\n",
      "\n",
      "Does the array have null columns? True\n"
     ]
    }
   ],
   "source": [
    "def has_null_columns(array_2d):\n",
    "    # Check if any column has all zero values\n",
    "    null_columns = np.all(array_2d == 0, axis=0)\n",
    "    \n",
    "    # Return True if there is at least one null column, False otherwise\n",
    "    return np.any(null_columns)\n",
    "\n",
    "# Create a sample 2D array\n",
    "array_2d = np.array([[1, 0, 3],\n",
    "                     [0, 0, 0],\n",
    "                     [4, 0, 6]])\n",
    "\n",
    "# Check if the array has null columns\n",
    "result = has_null_columns(array_2d)\n",
    "\n",
    "print(\"Original 2D Array:\")\n",
    "print(array_2d)\n",
    "print(\"\\nDoes the array have null columns?\", result)"
   ]
  },
  {
   "cell_type": "markdown",
   "id": "7c18c02e",
   "metadata": {},
   "source": [
    "#### 61. Find the nearest value from a given value in an array (★★☆)"
   ]
  },
  {
   "cell_type": "code",
   "execution_count": 46,
   "id": "b78ae9c4",
   "metadata": {},
   "outputs": [
    {
     "name": "stdout",
     "output_type": "stream",
     "text": [
      "Array: [1.2 2.5 3.8 4.1 5.7]\n",
      "Given Value: 3.0\n",
      "Nearest Value: 2.5\n"
     ]
    }
   ],
   "source": [
    "def find_nearest_value(array, value):\n",
    "    # Find the index of the element with the nearest value\n",
    "    index = np.abs(array - value).argmin()\n",
    "    \n",
    "    # Get the nearest value\n",
    "    nearest_value = array[index]\n",
    "    \n",
    "    return nearest_value\n",
    "\n",
    "# Create a sample array\n",
    "array = np.array([1.2, 2.5, 3.8, 4.1, 5.7])\n",
    "\n",
    "# Given value\n",
    "given_value = 3.0\n",
    "\n",
    "# Find the nearest value in the array\n",
    "result = find_nearest_value(array, given_value)\n",
    "\n",
    "print(\"Array:\", array)\n",
    "print(\"Given Value:\", given_value)\n",
    "print(\"Nearest Value:\", result)"
   ]
  },
  {
   "cell_type": "markdown",
   "id": "8174ba2c",
   "metadata": {},
   "source": [
    "#### 62. Considering two arrays with shape (1,3) and (3,1), how to compute their sum using an iterator? (★★☆)"
   ]
  },
  {
   "cell_type": "code",
   "execution_count": 47,
   "id": "8a18fe57",
   "metadata": {},
   "outputs": [
    {
     "name": "stdout",
     "output_type": "stream",
     "text": [
      "Array 1:\n",
      "[[1 2 3]]\n",
      "\n",
      "Array 2:\n",
      "[[4]\n",
      " [5]\n",
      " [6]]\n",
      "\n",
      "Sum Result:\n",
      "[[5 7 9]]\n"
     ]
    }
   ],
   "source": [
    "# Create two arrays with shapes (1,3) and (3,1)\n",
    "array1 = np.array([[1, 2, 3]])\n",
    "array2 = np.array([[4], [5], [6]])\n",
    "\n",
    "# Flatten the arrays\n",
    "flat_array1 = array1.flatten()\n",
    "flat_array2 = array2.flatten()\n",
    "\n",
    "# Compute the sum using an iterator\n",
    "sum_result = [a + b for a, b in zip(flat_array1, flat_array2)]\n",
    "\n",
    "# Reshape the result to the original shape (1,3)\n",
    "sum_result = np.array(sum_result).reshape(array1.shape)\n",
    "\n",
    "print(\"Array 1:\")\n",
    "print(array1)\n",
    "print(\"\\nArray 2:\")\n",
    "print(array2)\n",
    "print(\"\\nSum Result:\")\n",
    "print(sum_result)"
   ]
  },
  {
   "cell_type": "markdown",
   "id": "9189bd7c",
   "metadata": {},
   "source": [
    "#### 63. Create an array class that has a name attribute (★★☆)"
   ]
  },
  {
   "cell_type": "code",
   "execution_count": 48,
   "id": "1c01ed42",
   "metadata": {},
   "outputs": [
    {
     "name": "stdout",
     "output_type": "stream",
     "text": [
      "Array:\n",
      "[[1 2]\n",
      " [3 4]]\n",
      "\n",
      "Array Name: MyArray\n"
     ]
    }
   ],
   "source": [
    "class NamedArray(np.ndarray):\n",
    "    def __new__(cls, input_array, name=\"Unnamed\"):\n",
    "        obj = np.asarray(input_array).view(cls)\n",
    "        obj.name = name\n",
    "        return obj\n",
    "\n",
    "    def __array_finalize__(self, obj):\n",
    "        if obj is None:\n",
    "            return\n",
    "        self.name = getattr(obj, 'name', \"Unnamed\")\n",
    "\n",
    "# Create an instance of the NamedArray class\n",
    "arr = NamedArray([[1, 2], [3, 4]], name=\"MyArray\")\n",
    "\n",
    "# Access the array and its name attribute\n",
    "print(\"Array:\")\n",
    "print(arr)\n",
    "print(\"\\nArray Name:\", arr.name)"
   ]
  },
  {
   "cell_type": "markdown",
   "id": "f30162d2",
   "metadata": {},
   "source": [
    "#### 64. Consider a given vector, how to add 1 to each element indexed by a second vector (be careful with repeated indices)? (★★★)"
   ]
  },
  {
   "cell_type": "code",
   "execution_count": 49,
   "id": "093ba36f",
   "metadata": {},
   "outputs": [
    {
     "name": "stdout",
     "output_type": "stream",
     "text": [
      "Original Vector: [2 4 3 5 6]\n"
     ]
    }
   ],
   "source": [
    "# Given vector\n",
    "main_vector = np.array([1, 2, 3, 4, 5])\n",
    "\n",
    "# Indices vector\n",
    "indices_vector = np.array([0, 1, 3, 1, 4])\n",
    "\n",
    "# Create a unique set of indices and count their occurrences\n",
    "unique_indices, counts = np.unique(indices_vector, return_counts=True)\n",
    "\n",
    "# Add 1 to each element at the unique indices\n",
    "main_vector[unique_indices] += counts\n",
    "\n",
    "print(\"Original Vector:\", main_vector)"
   ]
  },
  {
   "cell_type": "markdown",
   "id": "f5b1c584",
   "metadata": {},
   "source": [
    "#### 65. How to accumulate elements of a vector (X) to an array (F) based on an index list (I)? (★★★)"
   ]
  },
  {
   "cell_type": "code",
   "execution_count": null,
   "id": "c9d92a75",
   "metadata": {},
   "outputs": [],
   "source": [
    "# Given vector X\n",
    "X = np.array([0, 1, 2, 3, 4])\n",
    "\n",
    "# Given index list I\n",
    "I = np.array([3, 2, 2, 1, 3])\n",
    "\n",
    "# Initialize an array F with zeros, making sure it's large enough to accommodate the indices\n",
    "F = np.zeros(np.max(I) + 1)\n",
    "\n",
    "# Accumulate elements of X into F based on the index list I\n",
    "np.add.at(X, I, F)\n",
    "\n",
    "print(\"Vector X:\", X)\n",
    "print(\"Index List I:\", I)\n",
    "print(\"Accumulated Array F:\", F)"
   ]
  },
  {
   "cell_type": "markdown",
   "id": "994c452d",
   "metadata": {},
   "source": [
    "#### 66. Considering a (w,h,3) image of (dtype=ubyte), compute the number of unique colors (★★☆)"
   ]
  },
  {
   "cell_type": "code",
   "execution_count": 55,
   "id": "269cdaea",
   "metadata": {},
   "outputs": [
    {
     "name": "stdout",
     "output_type": "stream",
     "text": [
      "Number of Unique Colors: 9998\n"
     ]
    }
   ],
   "source": [
    "# Assuming img is your image array\n",
    "# Replace this with your actual image data\n",
    "img = np.random.randint(0, 256, (100, 100, 3), dtype=np.uint8)\n",
    "\n",
    "# Reshape the image to (w * h, 3) to treat each pixel as a separate color\n",
    "reshaped_img = img.reshape((-1, 3))\n",
    "\n",
    "# Convert the reshaped image to a 1D array of unique colors\n",
    "unique_colors = np.unique(reshaped_img, axis=0)\n",
    "\n",
    "# Get the number of unique colors\n",
    "num_unique_colors = unique_colors.shape[0]\n",
    "\n",
    "print(\"Number of Unique Colors:\", num_unique_colors)"
   ]
  },
  {
   "cell_type": "markdown",
   "id": "4bddeb31",
   "metadata": {},
   "source": [
    "#### 67. Considering a four dimensions array, how to get sum over the last two axis at once? (★★★)"
   ]
  },
  {
   "cell_type": "code",
   "execution_count": 56,
   "id": "32af15f5",
   "metadata": {},
   "outputs": [
    {
     "name": "stdout",
     "output_type": "stream",
     "text": [
      "Original 4D Array:\n",
      "[[[[5 9 7 3 6]\n",
      "   [1 1 6 3 8]\n",
      "   [5 6 7 2 3]\n",
      "   [2 0 3 6 9]]\n",
      "\n",
      "  [[2 3 6 9 2]\n",
      "   [1 1 9 5 3]\n",
      "   [3 2 6 8 4]\n",
      "   [3 7 4 8 7]]\n",
      "\n",
      "  [[8 6 7 3 5]\n",
      "   [1 2 3 5 7]\n",
      "   [7 0 0 1 5]\n",
      "   [9 9 8 7 6]]]\n",
      "\n",
      "\n",
      " [[[4 9 6 4 5]\n",
      "   [3 8 5 9 2]\n",
      "   [5 5 3 3 5]\n",
      "   [1 3 9 0 8]]\n",
      "\n",
      "  [[3 0 8 7 1]\n",
      "   [8 3 1 4 1]\n",
      "   [1 2 8 9 4]\n",
      "   [1 9 6 8 3]]\n",
      "\n",
      "  [[8 2 4 3 3]\n",
      "   [8 2 1 8 4]\n",
      "   [3 3 8 7 6]\n",
      "   [8 9 2 4 6]]]]\n",
      "\n",
      "Sum Over the Last Two Axes:\n",
      "[[92 93 99]\n",
      " [97 87 99]]\n"
     ]
    }
   ],
   "source": [
    "# Create a sample 4D array\n",
    "four_dim_array = np.random.randint(0, 10, size=(2, 3, 4, 5))\n",
    "\n",
    "# Sum over the last two axes (axis=(2, 3))\n",
    "sum_result = np.sum(four_dim_array, axis=(2, 3))\n",
    "\n",
    "print(\"Original 4D Array:\")\n",
    "print(four_dim_array)\n",
    "print(\"\\nSum Over the Last Two Axes:\")\n",
    "print(sum_result)"
   ]
  },
  {
   "cell_type": "markdown",
   "id": "c4cf083c",
   "metadata": {},
   "source": [
    "#### 68. Considering a one-dimensional vector D, how to compute means of subsets of D using a vector S of same size describing subset  indices? (★★★)"
   ]
  },
  {
   "cell_type": "code",
   "execution_count": 57,
   "id": "9600a2dd",
   "metadata": {},
   "outputs": [
    {
     "name": "stdout",
     "output_type": "stream",
     "text": [
      "One-dimensional Vector D:\n",
      "[1 2 3 4 5 6]\n",
      "\n",
      "Subset Indices Vector S:\n",
      "[0 1 0 1 1 0]\n",
      "\n",
      "Subset Means:\n",
      "[3.33333333 3.66666667]\n"
     ]
    }
   ],
   "source": [
    "# Assuming D is your one-dimensional vector\n",
    "D = np.array([1, 2, 3, 4, 5, 6])\n",
    "\n",
    "# Assuming S is your subset indices vector\n",
    "S = np.array([0, 1, 0, 1, 1, 0])\n",
    "\n",
    "# Use np.bincount to accumulate sum and count for each subset\n",
    "subset_sums = np.bincount(S, weights=D)\n",
    "subset_counts = np.bincount(S)\n",
    "\n",
    "# Avoid division by zero and compute means\n",
    "subset_means = subset_sums / subset_counts\n",
    "\n",
    "print(\"One-dimensional Vector D:\")\n",
    "print(D)\n",
    "print(\"\\nSubset Indices Vector S:\")\n",
    "print(S)\n",
    "print(\"\\nSubset Means:\")\n",
    "print(subset_means)"
   ]
  },
  {
   "cell_type": "markdown",
   "id": "a5e316db",
   "metadata": {},
   "source": [
    "#### 69. How to get the diagonal of a dot product? (★★★)"
   ]
  },
  {
   "cell_type": "code",
   "execution_count": 58,
   "id": "94735dbd",
   "metadata": {},
   "outputs": [
    {
     "name": "stdout",
     "output_type": "stream",
     "text": [
      "Matrix A:\n",
      "[[1 2]\n",
      " [3 4]]\n",
      "\n",
      "Matrix B:\n",
      "[[5 6]\n",
      " [7 8]]\n",
      "\n",
      "Dot Product:\n",
      "[[19 22]\n",
      " [43 50]]\n",
      "\n",
      "Diagonal of the Dot Product:\n",
      "[19 50]\n"
     ]
    }
   ],
   "source": [
    "# Create two matrices\n",
    "A = np.array([[1, 2], [3, 4]])\n",
    "B = np.array([[5, 6], [7, 8]])\n",
    "\n",
    "# Compute the dot product of A and B\n",
    "dot_product = np.dot(A, B)\n",
    "\n",
    "# Get the diagonal of the dot product using numpy.einsum\n",
    "diagonal = np.einsum('ii->i', dot_product)\n",
    "\n",
    "print(\"Matrix A:\")\n",
    "print(A)\n",
    "print(\"\\nMatrix B:\")\n",
    "print(B)\n",
    "print(\"\\nDot Product:\")\n",
    "print(dot_product)\n",
    "print(\"\\nDiagonal of the Dot Product:\")\n",
    "print(diagonal)"
   ]
  },
  {
   "cell_type": "markdown",
   "id": "de727a7b",
   "metadata": {},
   "source": [
    "#### 70. Consider the vector [1, 2, 3, 4, 5], how to build a new vector with 3 consecutive zeros interleaved between each value? (★★★)"
   ]
  },
  {
   "cell_type": "code",
   "execution_count": 59,
   "id": "982be812",
   "metadata": {},
   "outputs": [
    {
     "name": "stdout",
     "output_type": "stream",
     "text": [
      "Original Vector:\n",
      "[1 2 3 4 5]\n",
      "\n",
      "New Vector with 3 Consecutive Zeros Interleaved:\n",
      "[1. 0. 0. 0. 2. 0. 0. 0. 3. 0. 0. 0. 4. 0. 0. 0. 5.]\n"
     ]
    }
   ],
   "source": [
    "# Given vector\n",
    "original_vector = np.array([1, 2, 3, 4, 5])\n",
    "\n",
    "# Number of consecutive zeros to insert between each value\n",
    "consecutive_zeros = 3\n",
    "\n",
    "# Build the new vector with interleaved zeros\n",
    "new_vector = np.zeros(len(original_vector) + (len(original_vector) - 1) * consecutive_zeros)\n",
    "new_vector[::consecutive_zeros + 1] = original_vector\n",
    "\n",
    "print(\"Original Vector:\")\n",
    "print(original_vector)\n",
    "print(\"\\nNew Vector with 3 Consecutive Zeros Interleaved:\")\n",
    "print(new_vector)"
   ]
  },
  {
   "cell_type": "markdown",
   "id": "a9a73d6b",
   "metadata": {},
   "source": [
    "#### 71. Consider an array of dimension (5,5,3), how to mulitply it by an array with dimensions (5,5)? (★★★)"
   ]
  },
  {
   "cell_type": "code",
   "execution_count": 60,
   "id": "282a90cc",
   "metadata": {},
   "outputs": [
    {
     "name": "stdout",
     "output_type": "stream",
     "text": [
      "3D Array (shape 5x5x3):\n",
      "[[[0.32691422 0.94930392 0.83811608]\n",
      "  [0.72439788 0.6139314  0.09796655]\n",
      "  [0.97394992 0.39023655 0.08811523]\n",
      "  [0.84388969 0.82471117 0.75365215]\n",
      "  [0.60638676 0.24956017 0.75727171]]\n",
      "\n",
      " [[0.18649685 0.65222455 0.78130724]\n",
      "  [0.83305636 0.42810461 0.30214174]\n",
      "  [0.84911072 0.31179732 0.76210623]\n",
      "  [0.76495382 0.05744744 0.31901885]\n",
      "  [0.42617754 0.62264053 0.38293521]]\n",
      "\n",
      " [[0.73763784 0.84164659 0.19504332]\n",
      "  [0.53647237 0.45035858 0.53158988]\n",
      "  [0.84403225 0.00527764 0.77759068]\n",
      "  [0.77673938 0.83507467 0.3733785 ]\n",
      "  [0.95442251 0.64523028 0.41382604]]\n",
      "\n",
      " [[0.50470862 0.15505566 0.69239477]\n",
      "  [0.7030607  0.62030507 0.70426355]\n",
      "  [0.44328968 0.19926988 0.55920675]\n",
      "  [0.41565524 0.51316141 0.79686582]\n",
      "  [0.12956907 0.57355425 0.02200465]]\n",
      "\n",
      " [[0.57231293 0.49216739 0.07002143]\n",
      "  [0.47606042 0.54788686 0.99075139]\n",
      "  [0.15176256 0.03260235 0.88459386]\n",
      "  [0.78933218 0.36168202 0.73481154]\n",
      "  [0.57243178 0.62834151 0.80770359]]]\n",
      "\n",
      "2D Array (shape 5x5):\n",
      "[[0.7864106  0.78696796 0.73224255 0.70846413 0.42094504]\n",
      " [0.85107743 0.18979121 0.10043998 0.77154742 0.84620046]\n",
      " [0.94554527 0.61817341 0.70206469 0.38419474 0.09521344]\n",
      " [0.20273346 0.32080876 0.80175395 0.03709634 0.75788977]\n",
      " [0.86714278 0.55165819 0.74314397 0.35019184 0.23912495]]\n",
      "\n",
      "Result after multiplication (shape 5x5x3):\n",
      "[[[0.25708881 0.74654266 0.65910337]\n",
      "  [0.57007792 0.48314434 0.07709653]\n",
      "  [0.71316757 0.2857478  0.06452172]\n",
      "  [0.59786557 0.58427828 0.53393551]\n",
      "  [0.2552555  0.10505111 0.31876977]]\n",
      "\n",
      " [[0.15872326 0.55509359 0.66495296]\n",
      "  [0.15810678 0.08125049 0.05734385]\n",
      "  [0.08528467 0.03131692 0.07654594]\n",
      "  [0.59019815 0.04432343 0.24613817]\n",
      "  [0.36063163 0.52687871 0.32403996]]\n",
      "\n",
      " [[0.69746996 0.79581495 0.18442228]\n",
      "  [0.33163295 0.2783997  0.32861473]\n",
      "  [0.59256524 0.00370524 0.54591896]\n",
      "  [0.29841919 0.3208313  0.14345006]\n",
      "  [0.09087385 0.06143459 0.0394018 ]]\n",
      "\n",
      " [[0.10232132 0.03143497 0.14037158]\n",
      "  [0.22554803 0.1989993  0.22593392]\n",
      "  [0.35540925 0.15976541 0.44834622]\n",
      "  [0.01541929 0.01903641 0.02956081]\n",
      "  [0.09819907 0.4346909  0.0166771 ]]\n",
      "\n",
      " [[0.49627702 0.42677939 0.06071858]\n",
      "  [0.26262263 0.30224627 0.54655613]\n",
      "  [0.11278143 0.02422824 0.65738059]\n",
      "  [0.27641769 0.12665809 0.257325  ]\n",
      "  [0.13688272 0.15025213 0.19314208]]]\n"
     ]
    }
   ],
   "source": [
    "# Create a 3D array of shape (5, 5, 3)\n",
    "array_3d = np.random.rand(5, 5, 3)\n",
    "\n",
    "# Create a 2D array of shape (5, 5)\n",
    "array_2d = np.random.rand(5, 5)\n",
    "\n",
    "# Multiply the 3D array by the 2D array using broadcasting\n",
    "result = array_3d * array_2d[:, :, np.newaxis]\n",
    "\n",
    "print(\"3D Array (shape 5x5x3):\")\n",
    "print(array_3d)\n",
    "print(\"\\n2D Array (shape 5x5):\")\n",
    "print(array_2d)\n",
    "print(\"\\nResult after multiplication (shape 5x5x3):\")\n",
    "print(result)"
   ]
  },
  {
   "cell_type": "markdown",
   "id": "a951c78f",
   "metadata": {},
   "source": [
    "#### 72. How to swap two rows of an array? (★★★)"
   ]
  },
  {
   "cell_type": "code",
   "execution_count": 2,
   "id": "e29b3fde",
   "metadata": {},
   "outputs": [
    {
     "name": "stdout",
     "output_type": "stream",
     "text": [
      "Original 2D Array:\n",
      "[[1 2 3]\n",
      " [7 8 9]\n",
      " [4 5 6]]\n"
     ]
    }
   ],
   "source": [
    "# Create a sample 2D array\n",
    "array_2d = np.array([[1, 2, 3],\n",
    "                     [4, 5, 6],\n",
    "                     [7, 8, 9]])\n",
    "\n",
    "# Swap rows 1 and 2\n",
    "array_2d[1], array_2d[2] = array_2d[2].copy(), array_2d[1].copy()\n",
    "\n",
    "print(\"Original 2D Array:\")\n",
    "print(array_2d)"
   ]
  },
  {
   "cell_type": "markdown",
   "id": "43b639e8",
   "metadata": {},
   "source": [
    "#### 73. Consider a set of 10 triplets describing 10 triangles (with shared vertices), find the set of unique line segments composing all the  triangles (★★★)"
   ]
  },
  {
   "cell_type": "code",
   "execution_count": 3,
   "id": "147e1034",
   "metadata": {},
   "outputs": [
    {
     "name": "stdout",
     "output_type": "stream",
     "text": [
      "Set of 10 Triplets (Triangles):\n",
      "[[7 3 6]\n",
      " [3 9 5]\n",
      " [5 5 2]\n",
      " [7 7 9]\n",
      " [5 6 7]\n",
      " [8 1 5]\n",
      " [5 9 3]\n",
      " [9 7 6]\n",
      " [2 1 3]\n",
      " [1 8 3]]\n",
      "\n",
      "Set of Unique Line Segments:\n",
      "[[1]\n",
      " [2]\n",
      " [3]\n",
      " [5]\n",
      " [6]\n",
      " [7]\n",
      " [8]\n",
      " [9]]\n"
     ]
    }
   ],
   "source": [
    "# Set of 10 triplets describing triangles (example data)\n",
    "triangles = np.random.randint(1, 10, size=(10, 3))\n",
    "\n",
    "# Reshape the triangles array to (30, 1) to easily create line segments\n",
    "lines = triangles.reshape(-1, 1)\n",
    "\n",
    "# Use numpy.unique to find unique line segments\n",
    "unique_lines = np.unique(lines, axis=0)\n",
    "\n",
    "print(\"Set of 10 Triplets (Triangles):\")\n",
    "print(triangles)\n",
    "print(\"\\nSet of Unique Line Segments:\")\n",
    "print(unique_lines)"
   ]
  },
  {
   "cell_type": "markdown",
   "id": "d41de585",
   "metadata": {},
   "source": [
    "#### 74. Given a sorted array C that corresponds to a bincount, how to produce an array A such that np.bincount(A) == C? (★★★)"
   ]
  },
  {
   "cell_type": "code",
   "execution_count": 5,
   "id": "5f5d6e36",
   "metadata": {},
   "outputs": [
    {
     "name": "stdout",
     "output_type": "stream",
     "text": [
      "Given Sorted Array C:\n",
      "[0 1 2 0 1 3 2 1 1 2 2]\n",
      "\n",
      "Generated Array A:\n",
      "[ 1  2  2  4  5  5  5  6  6  7  8  9  9 10 10]\n",
      "\n",
      "Verify np.bincount(A) == C: True\n"
     ]
    }
   ],
   "source": [
    "# Given sorted array C\n",
    "C = np.array([0, 1, 2, 0, 1, 3, 2, 1, 1, 2, 2])\n",
    "\n",
    "# Generate array A based on C\n",
    "A = np.repeat(np.arange(len(C)), C)\n",
    "\n",
    "print(\"Given Sorted Array C:\")\n",
    "print(C)\n",
    "print(\"\\nGenerated Array A:\")\n",
    "print(A)\n",
    "\n",
    "# Verify that np.bincount(A) equals C\n",
    "print(\"\\nVerify np.bincount(A) == C:\", np.array_equal(np.bincount(A), C))"
   ]
  },
  {
   "cell_type": "markdown",
   "id": "b50adf7c",
   "metadata": {},
   "source": [
    "#### 75. How to compute averages using a sliding window over an array? (★★★)"
   ]
  },
  {
   "cell_type": "code",
   "execution_count": 6,
   "id": "e631a9d2",
   "metadata": {},
   "outputs": [
    {
     "name": "stdout",
     "output_type": "stream",
     "text": [
      "Original Array:\n",
      "[ 1  2  3  4  5  6  7  8  9 10]\n",
      "\n",
      "Sliding Window Averages (Window Size = 3 ):\n",
      "[2. 3. 4. 5. 6. 7. 8. 9.]\n"
     ]
    }
   ],
   "source": [
    "def sliding_window_average(arr, window_size):\n",
    "    cumsum = np.cumsum(arr)\n",
    "    cumsum[window_size:] = cumsum[window_size:] - cumsum[:-window_size]\n",
    "    return cumsum[window_size - 1:] / window_size\n",
    "\n",
    "# Example array\n",
    "arr = np.array([1, 2, 3, 4, 5, 6, 7, 8, 9, 10])\n",
    "\n",
    "# Window size\n",
    "window_size = 3\n",
    "\n",
    "# Compute sliding window averages\n",
    "averages = sliding_window_average(arr, window_size)\n",
    "\n",
    "print(\"Original Array:\")\n",
    "print(arr)\n",
    "print(\"\\nSliding Window Averages (Window Size =\", window_size, \"):\")\n",
    "print(averages)"
   ]
  },
  {
   "cell_type": "markdown",
   "id": "1ab4c50d",
   "metadata": {},
   "source": [
    "#### 76. Consider a one-dimensional array Z, build a two-dimensional array whose first row is (Z[0],Z[1],Z[2]) and each subsequent row is  shifted by 1 (last row should be (Z[-3],Z[-2],Z[-1]) (★★★)"
   ]
  },
  {
   "cell_type": "code",
   "execution_count": 7,
   "id": "3ccfe2c0",
   "metadata": {},
   "outputs": [
    {
     "name": "stdout",
     "output_type": "stream",
     "text": [
      "One-dimensional Array Z:\n",
      "[1 2 3 4 5 6 7]\n",
      "\n",
      "Two-dimensional Array:\n",
      "[[1 2 3]\n",
      " [2 3 4]\n",
      " [3 4 5]\n",
      " [4 5 6]\n",
      " [5 6 7]]\n"
     ]
    }
   ],
   "source": [
    "def shift_rows(arr, num_shifts):\n",
    "    shape = (len(arr) - num_shifts + 1, num_shifts)\n",
    "    strides = (arr.strides[0], arr.strides[0])\n",
    "    return np.lib.stride_tricks.as_strided(arr, shape=shape, strides=strides)\n",
    "\n",
    "# Example one-dimensional array\n",
    "Z = np.array([1, 2, 3, 4, 5, 6, 7])\n",
    "\n",
    "# Number of shifts\n",
    "num_shifts = 3\n",
    "\n",
    "# Build the two-dimensional array\n",
    "result = shift_rows(Z, num_shifts)\n",
    "\n",
    "print(\"One-dimensional Array Z:\")\n",
    "print(Z)\n",
    "print(\"\\nTwo-dimensional Array:\")\n",
    "print(result)"
   ]
  },
  {
   "cell_type": "markdown",
   "id": "5b4fe59d",
   "metadata": {},
   "source": [
    "#### 77. How to negate a boolean, or to change the sign of a float inplace? (★★★)"
   ]
  },
  {
   "cell_type": "code",
   "execution_count": 9,
   "id": "3c2373ff",
   "metadata": {},
   "outputs": [
    {
     "name": "stdout",
     "output_type": "stream",
     "text": [
      "Negated Boolean Array:\n",
      "[False  True False  True]\n",
      "\n",
      "Float Array with Changed Sign:\n",
      "[-1.   2.5 -3.7  4.2]\n"
     ]
    }
   ],
   "source": [
    "\n",
    "# Example boolean array\n",
    "bool_array = np.array([True, False, True, False])\n",
    "\n",
    "# Negate the boolean array in place\n",
    "bool_array ^= True\n",
    "\n",
    "print(\"Negated Boolean Array:\")\n",
    "print(bool_array)\n",
    "\n",
    "# Example float array\n",
    "float_array = np.array([1.0, -2.5, 3.7, -4.2])\n",
    "\n",
    "# Change the sign of the float array in place\n",
    "float_array *= -1\n",
    "\n",
    "print(\"\\nFloat Array with Changed Sign:\")\n",
    "print(float_array)"
   ]
  },
  {
   "cell_type": "markdown",
   "id": "119ab5af",
   "metadata": {},
   "source": [
    "#### 78. Consider 2 sets of points P0,P1 describing lines (2d) and a point p, how to compute distance from p to each line i (P0[i],P1[i])? (★★★)"
   ]
  },
  {
   "cell_type": "code",
   "execution_count": null,
   "id": "1d8d06dc",
   "metadata": {},
   "outputs": [],
   "source": [
    "def distance_point_to_line(p, P0, P1):\n",
    "    x0, y0 = p\n",
    "    x1, y1 = P0\n",
    "    x2, y2 = P1\n",
    "    \n",
    "    numerator = np.abs((y2-y1)*x0 - (x2-x1)*y0 + x2*y1 - y2*x1)\n",
    "    denominator = np.sqrt((y2-y1)**2 + (x2-x1)**2)\n",
    "    \n",
    "    distance = numerator / denominator\n",
    "    return distance\n",
    "\n",
    "# Example points for lines P0 and P1\n",
    "P0 = np.array([[1, 1], [2, 3], [4, 5]])\n",
    "P1 = np.array([[4, 5], [7, 8], [10, 12]])"
   ]
  },
  {
   "cell_type": "markdown",
   "id": "e5e7f323",
   "metadata": {},
   "source": [
    "#### 79. Consider 2 sets of points P0,P1 describing lines (2d) and a set of points P, how to compute distance from each point j (P[j]) to each line i (P0[i],P1[i])? (★★★)"
   ]
  },
  {
   "cell_type": "code",
   "execution_count": 10,
   "id": "d0ce77e2",
   "metadata": {},
   "outputs": [
    {
     "name": "stdout",
     "output_type": "stream",
     "text": [
      "Set of Points P:\n",
      "[[ 2  4]\n",
      " [ 5  7]\n",
      " [ 8 10]]\n",
      "\n",
      "Lines (P0, P1):\n",
      "\n",
      "Line 1:\n",
      "  Point 1: Distance = 1.0\n",
      "  Point 2: Distance = 0.4\n",
      "  Point 3: Distance = 0.2\n",
      "\n",
      "Line 2:\n",
      "  Point 1: Distance = 0.7071067811865475\n",
      "  Point 2: Distance = 0.7071067811865475\n",
      "  Point 3: Distance = 0.7071067811865475\n",
      "\n",
      "Line 3:\n",
      "  Point 1: Distance = 0.8677218312746247\n",
      "  Point 2: Distance = 0.5423261445466404\n",
      "  Point 3: Distance = 0.21693045781865616\n"
     ]
    }
   ],
   "source": [
    "def distance_point_to_line(point, P0, P1):\n",
    "    x0, y0 = point\n",
    "    x1, y1 = P0\n",
    "    x2, y2 = P1\n",
    "    \n",
    "    numerator = np.abs((y2-y1)*x0 - (x2-x1)*y0 + x2*y1 - y2*x1)\n",
    "    denominator = np.sqrt((y2-y1)**2 + (x2-x1)**2)\n",
    "    \n",
    "    distance = numerator / denominator\n",
    "    return distance\n",
    "\n",
    "def distances_from_points_to_lines(points, P0, P1):\n",
    "    distances = np.zeros((len(points), len(P0)))\n",
    "    \n",
    "    for i in range(len(points)):\n",
    "        for j in range(len(P0)):\n",
    "            distances[i, j] = distance_point_to_line(points[i], P0[j], P1[j])\n",
    "    \n",
    "    return distances\n",
    "\n",
    "# Example points for lines P0 and P1\n",
    "P0 = np.array([[1, 1], [2, 3], [4, 5]])\n",
    "P1 = np.array([[4, 5], [7, 8], [10, 12]])\n",
    "\n",
    "# Example set of points P\n",
    "points = np.array([[2, 4], [5, 7], [8, 10]])\n",
    "\n",
    "# Compute distances from each point to each line\n",
    "distances = distances_from_points_to_lines(points, P0, P1)\n",
    "\n",
    "print(\"Set of Points P:\")\n",
    "print(points)\n",
    "print(\"\\nLines (P0, P1):\")\n",
    "for i in range(len(P0)):\n",
    "    print(f\"\\nLine {i+1}:\")\n",
    "    for j in range(len(points)):\n",
    "        print(f\"  Point {j+1}: Distance = {distances[j, i]}\")"
   ]
  },
  {
   "cell_type": "markdown",
   "id": "9b9d03eb",
   "metadata": {},
   "source": [
    "#### 80. Consider an arbitrary array, write a function that extract a subpart with a fixed shape and centered on a given element (pad with a `fill` value when necessary) (★★★)"
   ]
  },
  {
   "cell_type": "code",
   "execution_count": 12,
   "id": "ec2b7ae3",
   "metadata": {},
   "outputs": [
    {
     "name": "stdout",
     "output_type": "stream",
     "text": [
      "Original Array:\n",
      "[[ 0  1  2  3  4]\n",
      " [ 5  6  7  8  9]\n",
      " [10 11 12 13 14]\n",
      " [15 16 17 18 19]\n",
      " [20 21 22 23 24]]\n",
      "\n",
      "Extracted Subpart:\n",
      "[[ 6  7  8]\n",
      " [11 12 13]\n",
      " [16 17 18]]\n"
     ]
    }
   ],
   "source": [
    "def extract_subpart(arr, center, subpart_shape, fill_value=0):\n",
    "    \"\"\"\n",
    "    Extract a subpart from the array centered on the given element.\n",
    "\n",
    "    Parameters:\n",
    "    - arr: Input array.\n",
    "    - center: Coordinates of the center element.\n",
    "    - subpart_shape: Shape of the subpart to be extracted.\n",
    "    - fill_value: Value used to fill the missing parts.\n",
    "\n",
    "    Returns:\n",
    "    - subpart: Extracted subpart.\n",
    "    \"\"\"\n",
    "    subpart_half_shape = np.array(subpart_shape) // 2\n",
    "\n",
    "    start_idx = np.maximum(center - subpart_half_shape, 0)\n",
    "    end_idx = start_idx + subpart_shape\n",
    "\n",
    "    pad_before = np.maximum(subpart_half_shape - center, 0)\n",
    "    pad_after = np.maximum(center + subpart_half_shape - np.array(arr.shape) - 1, 0)\n",
    "\n",
    "    subpart = np.pad(\n",
    "        arr[start_idx[0]:end_idx[0], start_idx[1]:end_idx[1]],\n",
    "        ((pad_before[0], pad_after[0]), (pad_before[1], pad_after[1])),\n",
    "        constant_values=fill_value\n",
    "    )\n",
    "\n",
    "    return subpart\n",
    "\n",
    "# Example\n",
    "array = np.arange(25).reshape(5, 5)\n",
    "center_element = (2, 2)\n",
    "subpart_shape = (3, 3)\n",
    "\n",
    "result = extract_subpart(array, center_element, subpart_shape, fill_value=-1)\n",
    "\n",
    "print(\"Original Array:\")\n",
    "print(array)\n",
    "print(\"\\nExtracted Subpart:\")\n",
    "print(result)"
   ]
  },
  {
   "cell_type": "markdown",
   "id": "27794913",
   "metadata": {},
   "source": [
    "#### 81. Consider an array Z = [1,2,3,4,5,6,7,8,9,10,11,12,13,14], how to generate an array R = [[1,2,3,4], [2,3,4,5], [3,4,5,6], ..., [11,12,13,14]]? (★★★)"
   ]
  },
  {
   "cell_type": "code",
   "execution_count": 13,
   "id": "f3e7878b",
   "metadata": {},
   "outputs": [
    {
     "name": "stdout",
     "output_type": "stream",
     "text": [
      "Array Z:\n",
      "[ 1  2  3  4  5  6  7  8  9 10 11 12 13 14]\n",
      "\n",
      "Generated Array R:\n",
      "[[ 1  2  3  4]\n",
      " [ 2  3  4  5]\n",
      " [ 3  4  5  6]\n",
      " [ 4  5  6  7]\n",
      " [ 5  6  7  8]\n",
      " [ 6  7  8  9]\n",
      " [ 7  8  9 10]\n",
      " [ 8  9 10 11]\n",
      " [ 9 10 11 12]\n",
      " [10 11 12 13]\n",
      " [11 12 13 14]]\n"
     ]
    }
   ],
   "source": [
    "# Given array Z\n",
    "Z = np.array([1, 2, 3, 4, 5, 6, 7, 8, 9, 10, 11, 12, 13, 14])\n",
    "\n",
    "# Define the shape of the desired subarrays\n",
    "subarray_shape = (4,)\n",
    "\n",
    "# Calculate the number of subarrays\n",
    "num_subarrays = len(Z) - subarray_shape[0] + 1\n",
    "\n",
    "# Use numpy.lib.stride_tricks.as_strided to create the desired array R\n",
    "R = np.lib.stride_tricks.as_strided(Z, shape=(num_subarrays, *subarray_shape), strides=(Z.itemsize, Z.itemsize))\n",
    "\n",
    "print(\"Array Z:\")\n",
    "print(Z)\n",
    "print(\"\\nGenerated Array R:\")\n",
    "print(R)"
   ]
  },
  {
   "cell_type": "markdown",
   "id": "fae786f5",
   "metadata": {},
   "source": [
    "#### 82. Compute a matrix rank (★★★)"
   ]
  },
  {
   "cell_type": "code",
   "execution_count": 14,
   "id": "64b9615b",
   "metadata": {},
   "outputs": [
    {
     "name": "stdout",
     "output_type": "stream",
     "text": [
      "Matrix:\n",
      "[[1 2 3]\n",
      " [4 5 6]\n",
      " [7 8 9]]\n",
      "\n",
      "Rank of the Matrix: 2\n"
     ]
    }
   ],
   "source": [
    "# Example matrix\n",
    "matrix = np.array([[1, 2, 3],\n",
    "                   [4, 5, 6],\n",
    "                   [7, 8, 9]])\n",
    "\n",
    "# Compute the rank of the matrix\n",
    "rank = np.linalg.matrix_rank(matrix)\n",
    "\n",
    "print(\"Matrix:\")\n",
    "print(matrix)\n",
    "print(\"\\nRank of the Matrix:\", rank)"
   ]
  },
  {
   "cell_type": "markdown",
   "id": "c85aa0b9",
   "metadata": {},
   "source": [
    "#### 83. How to find the most frequent value in an array?"
   ]
  },
  {
   "cell_type": "code",
   "execution_count": 15,
   "id": "056be85b",
   "metadata": {},
   "outputs": [
    {
     "name": "stdout",
     "output_type": "stream",
     "text": [
      "Array:\n",
      "[1 2 3 1 2 2 4 5 1 1 2 5 5 5]\n",
      "\n",
      "Most Frequent Value: 1\n"
     ]
    }
   ],
   "source": [
    "# Example array\n",
    "arr = np.array([1, 2, 3, 1, 2, 2, 4, 5, 1, 1, 2, 5, 5, 5])\n",
    "\n",
    "# Find the most frequent value\n",
    "most_frequent_value = np.argmax(np.bincount(arr))\n",
    "\n",
    "print(\"Array:\")\n",
    "print(arr)\n",
    "print(\"\\nMost Frequent Value:\", most_frequent_value)"
   ]
  },
  {
   "cell_type": "markdown",
   "id": "0ff2344d",
   "metadata": {},
   "source": [
    "#### 84. Extract all the contiguous 3x3 blocks from a random 10x10 matrix (★★★)"
   ]
  },
  {
   "cell_type": "code",
   "execution_count": 16,
   "id": "d58b1318",
   "metadata": {},
   "outputs": [
    {
     "name": "stdout",
     "output_type": "stream",
     "text": [
      "Original Matrix:\n",
      "[[2 9 3 9 6 1 0 1 6 4]\n",
      " [2 1 2 2 5 5 7 1 6 3]\n",
      " [0 4 2 5 2 7 4 6 4 6]\n",
      " [4 0 1 4 6 0 3 4 6 1]\n",
      " [2 7 3 4 7 1 1 4 2 8]\n",
      " [1 0 9 6 6 2 2 2 4 8]\n",
      " [2 4 7 9 1 9 6 0 9 4]\n",
      " [1 7 6 7 5 7 2 4 2 4]\n",
      " [6 2 5 0 4 5 1 0 4 2]\n",
      " [7 9 0 5 7 9 9 9 9 1]]\n",
      "\n",
      "Extracted 3x3 Blocks:\n",
      "[[2 9 3]\n",
      " [2 1 2]\n",
      " [0 4 2]]\n",
      "\n",
      "[[9 3 9]\n",
      " [1 2 2]\n",
      " [4 2 5]]\n",
      "\n",
      "[[3 9 6]\n",
      " [2 2 5]\n",
      " [2 5 2]]\n",
      "\n",
      "[[9 6 1]\n",
      " [2 5 5]\n",
      " [5 2 7]]\n",
      "\n",
      "[[6 1 0]\n",
      " [5 5 7]\n",
      " [2 7 4]]\n",
      "\n",
      "[[1 0 1]\n",
      " [5 7 1]\n",
      " [7 4 6]]\n",
      "\n",
      "[[0 1 6]\n",
      " [7 1 6]\n",
      " [4 6 4]]\n",
      "\n",
      "[[1 6 4]\n",
      " [1 6 3]\n",
      " [6 4 6]]\n",
      "\n",
      "[[2 1 2]\n",
      " [0 4 2]\n",
      " [4 0 1]]\n",
      "\n",
      "[[1 2 2]\n",
      " [4 2 5]\n",
      " [0 1 4]]\n",
      "\n",
      "[[2 2 5]\n",
      " [2 5 2]\n",
      " [1 4 6]]\n",
      "\n",
      "[[2 5 5]\n",
      " [5 2 7]\n",
      " [4 6 0]]\n",
      "\n",
      "[[5 5 7]\n",
      " [2 7 4]\n",
      " [6 0 3]]\n",
      "\n",
      "[[5 7 1]\n",
      " [7 4 6]\n",
      " [0 3 4]]\n",
      "\n",
      "[[7 1 6]\n",
      " [4 6 4]\n",
      " [3 4 6]]\n",
      "\n",
      "[[1 6 3]\n",
      " [6 4 6]\n",
      " [4 6 1]]\n",
      "\n",
      "[[0 4 2]\n",
      " [4 0 1]\n",
      " [2 7 3]]\n",
      "\n",
      "[[4 2 5]\n",
      " [0 1 4]\n",
      " [7 3 4]]\n",
      "\n",
      "[[2 5 2]\n",
      " [1 4 6]\n",
      " [3 4 7]]\n",
      "\n",
      "[[5 2 7]\n",
      " [4 6 0]\n",
      " [4 7 1]]\n",
      "\n",
      "[[2 7 4]\n",
      " [6 0 3]\n",
      " [7 1 1]]\n",
      "\n",
      "[[7 4 6]\n",
      " [0 3 4]\n",
      " [1 1 4]]\n",
      "\n",
      "[[4 6 4]\n",
      " [3 4 6]\n",
      " [1 4 2]]\n",
      "\n",
      "[[6 4 6]\n",
      " [4 6 1]\n",
      " [4 2 8]]\n",
      "\n",
      "[[4 0 1]\n",
      " [2 7 3]\n",
      " [1 0 9]]\n",
      "\n",
      "[[0 1 4]\n",
      " [7 3 4]\n",
      " [0 9 6]]\n",
      "\n",
      "[[1 4 6]\n",
      " [3 4 7]\n",
      " [9 6 6]]\n",
      "\n",
      "[[4 6 0]\n",
      " [4 7 1]\n",
      " [6 6 2]]\n",
      "\n",
      "[[6 0 3]\n",
      " [7 1 1]\n",
      " [6 2 2]]\n",
      "\n",
      "[[0 3 4]\n",
      " [1 1 4]\n",
      " [2 2 2]]\n",
      "\n",
      "[[3 4 6]\n",
      " [1 4 2]\n",
      " [2 2 4]]\n",
      "\n",
      "[[4 6 1]\n",
      " [4 2 8]\n",
      " [2 4 8]]\n",
      "\n",
      "[[2 7 3]\n",
      " [1 0 9]\n",
      " [2 4 7]]\n",
      "\n",
      "[[7 3 4]\n",
      " [0 9 6]\n",
      " [4 7 9]]\n",
      "\n",
      "[[3 4 7]\n",
      " [9 6 6]\n",
      " [7 9 1]]\n",
      "\n",
      "[[4 7 1]\n",
      " [6 6 2]\n",
      " [9 1 9]]\n",
      "\n",
      "[[7 1 1]\n",
      " [6 2 2]\n",
      " [1 9 6]]\n",
      "\n",
      "[[1 1 4]\n",
      " [2 2 2]\n",
      " [9 6 0]]\n",
      "\n",
      "[[1 4 2]\n",
      " [2 2 4]\n",
      " [6 0 9]]\n",
      "\n",
      "[[4 2 8]\n",
      " [2 4 8]\n",
      " [0 9 4]]\n",
      "\n",
      "[[1 0 9]\n",
      " [2 4 7]\n",
      " [1 7 6]]\n",
      "\n",
      "[[0 9 6]\n",
      " [4 7 9]\n",
      " [7 6 7]]\n",
      "\n",
      "[[9 6 6]\n",
      " [7 9 1]\n",
      " [6 7 5]]\n",
      "\n",
      "[[6 6 2]\n",
      " [9 1 9]\n",
      " [7 5 7]]\n",
      "\n",
      "[[6 2 2]\n",
      " [1 9 6]\n",
      " [5 7 2]]\n",
      "\n",
      "[[2 2 2]\n",
      " [9 6 0]\n",
      " [7 2 4]]\n",
      "\n",
      "[[2 2 4]\n",
      " [6 0 9]\n",
      " [2 4 2]]\n",
      "\n",
      "[[2 4 8]\n",
      " [0 9 4]\n",
      " [4 2 4]]\n",
      "\n",
      "[[2 4 7]\n",
      " [1 7 6]\n",
      " [6 2 5]]\n",
      "\n",
      "[[4 7 9]\n",
      " [7 6 7]\n",
      " [2 5 0]]\n",
      "\n",
      "[[7 9 1]\n",
      " [6 7 5]\n",
      " [5 0 4]]\n",
      "\n",
      "[[9 1 9]\n",
      " [7 5 7]\n",
      " [0 4 5]]\n",
      "\n",
      "[[1 9 6]\n",
      " [5 7 2]\n",
      " [4 5 1]]\n",
      "\n",
      "[[9 6 0]\n",
      " [7 2 4]\n",
      " [5 1 0]]\n",
      "\n",
      "[[6 0 9]\n",
      " [2 4 2]\n",
      " [1 0 4]]\n",
      "\n",
      "[[0 9 4]\n",
      " [4 2 4]\n",
      " [0 4 2]]\n",
      "\n",
      "[[1 7 6]\n",
      " [6 2 5]\n",
      " [7 9 0]]\n",
      "\n",
      "[[7 6 7]\n",
      " [2 5 0]\n",
      " [9 0 5]]\n",
      "\n",
      "[[6 7 5]\n",
      " [5 0 4]\n",
      " [0 5 7]]\n",
      "\n",
      "[[7 5 7]\n",
      " [0 4 5]\n",
      " [5 7 9]]\n",
      "\n",
      "[[5 7 2]\n",
      " [4 5 1]\n",
      " [7 9 9]]\n",
      "\n",
      "[[7 2 4]\n",
      " [5 1 0]\n",
      " [9 9 9]]\n",
      "\n",
      "[[2 4 2]\n",
      " [1 0 4]\n",
      " [9 9 9]]\n",
      "\n",
      "[[4 2 4]\n",
      " [0 4 2]\n",
      " [9 9 1]]\n",
      "\n"
     ]
    }
   ],
   "source": [
    "# Create a random 10x10 matrix\n",
    "matrix = np.random.randint(0, 10, (10, 10))\n",
    "\n",
    "# Define the block size\n",
    "block_size = 3\n",
    "\n",
    "# Extract all contiguous 3x3 blocks\n",
    "blocks = [matrix[i:i+block_size, j:j+block_size] for i in range(8) for j in range(8)]\n",
    "\n",
    "# Print the original matrix and extracted blocks\n",
    "print(\"Original Matrix:\")\n",
    "print(matrix)\n",
    "\n",
    "print(\"\\nExtracted 3x3 Blocks:\")\n",
    "for block in blocks:\n",
    "    print(block)\n",
    "    print()"
   ]
  },
  {
   "cell_type": "markdown",
   "id": "1a18b263",
   "metadata": {},
   "source": [
    "#### 85. Create a 2D array subclass such that Z[i,j] == Z[j,i] (★★★)"
   ]
  },
  {
   "cell_type": "code",
   "execution_count": 17,
   "id": "87f17adc",
   "metadata": {},
   "outputs": [
    {
     "name": "stdout",
     "output_type": "stream",
     "text": [
      "Original Symmetric Array:\n",
      "[[2130595016        528         64          0          0]\n",
      " [         0          0         42          0         49]\n",
      " [ 942747954         42 1664704866  808727602 1664693554]\n",
      " [ 959800372  912404793  895706680  876033589         77]\n",
      " [ 895770981  879125089  859191092         77 1697932854]]\n"
     ]
    }
   ],
   "source": [
    "class SymmetricArray(np.ndarray):\n",
    "    def __setitem__(self, index, value):\n",
    "        i, j = index\n",
    "        super(SymmetricArray, self).__setitem__((i, j), value)\n",
    "        super(SymmetricArray, self).__setitem__((j, i), value)\n",
    "\n",
    "# Create a symmetric 2D array\n",
    "size = 5\n",
    "symmetric_array = SymmetricArray((size, size), dtype=int)\n",
    "\n",
    "# Set some values to demonstrate symmetry\n",
    "symmetric_array[1, 2] = 42\n",
    "symmetric_array[3, 4] = 77\n",
    "\n",
    "# Verify symmetry\n",
    "print(\"Original Symmetric Array:\")\n",
    "print(symmetric_array)"
   ]
  },
  {
   "cell_type": "markdown",
   "id": "f85f2cad",
   "metadata": {},
   "source": [
    "#### 86. Consider a set of p matrices wich shape (n,n) and a set of p vectors with shape (n,1). How to compute the sum of of the p matrix products at once? (result has shape (n,1)) (★★★)"
   ]
  },
  {
   "cell_type": "code",
   "execution_count": 19,
   "id": "8d230557",
   "metadata": {},
   "outputs": [
    {
     "name": "stdout",
     "output_type": "stream",
     "text": [
      "Matrices:\n",
      "[[0.80102914 0.20115244 0.46257833 0.06003971]\n",
      " [0.61882689 0.56473108 0.88851514 0.66511225]\n",
      " [0.0144204  0.79169513 0.79515101 0.95816408]\n",
      " [0.15561242 0.04650225 0.118959   0.74089755]]\n",
      "\n",
      "[[0.83113241 0.58253466 0.53843753 0.32874344]\n",
      " [0.28740048 0.67938673 0.41475287 0.28782316]\n",
      " [0.37794437 0.82419456 0.76599236 0.553479  ]\n",
      " [0.72707962 0.07029485 0.23667164 0.85921671]]\n",
      "\n",
      "[[0.71945567 0.73094132 0.1757168  0.86556316]\n",
      " [0.08530676 0.15048575 0.35372818 0.66978257]\n",
      " [0.30100028 0.78370421 0.63651979 0.53493753]\n",
      " [0.9811999  0.33625184 0.6591008  0.5090182 ]]\n",
      "\n",
      "Vectors:\n",
      "[[0.5315156 ]\n",
      " [0.51561035]\n",
      " [0.24432593]\n",
      " [0.20537821]]\n",
      "\n",
      "[[0.24547063]\n",
      " [0.86903023]\n",
      " [0.489596  ]\n",
      " [0.22398905]]\n",
      "\n",
      "[[0.98518491]\n",
      " [0.41990695]\n",
      " [0.05891687]\n",
      " [0.91732845]]\n",
      "\n",
      "Result (Sum of Matrix Products):\n",
      "[[[0.65482649]\n",
      "  [0.97378419]\n",
      "  [0.80693291]\n",
      "  [0.28791645]]\n",
      "\n",
      " [[1.04751062]\n",
      "  [0.92848657]\n",
      "  [1.30802426]\n",
      "  [0.54789366]]\n",
      "\n",
      " [[1.8200826 ]\n",
      "  [0.78248411]\n",
      "  [1.15383896]\n",
      "  [1.61362687]]]\n"
     ]
    }
   ],
   "source": [
    "# Number of matrices and vectors\n",
    "p = 3\n",
    "n = 4\n",
    "\n",
    "# Generate random matrices and vectors\n",
    "matrices = [np.random.rand(n, n) for _ in range(p)]\n",
    "vectors = [np.random.rand(n, 1) for _ in range(p)]\n",
    "\n",
    "# Compute the sum of matrix products\n",
    "result = np.einsum('...ij,...jk->...ik', matrices, vectors)\n",
    "\n",
    "print(\"Matrices:\")\n",
    "for matrix in matrices:\n",
    "    print(matrix)\n",
    "    print()\n",
    "\n",
    "print(\"Vectors:\")\n",
    "for vector in vectors:\n",
    "    print(vector)\n",
    "    print()\n",
    "\n",
    "print(\"Result (Sum of Matrix Products):\")\n",
    "print(result)"
   ]
  },
  {
   "cell_type": "markdown",
   "id": "5afb72c8",
   "metadata": {},
   "source": [
    "#### 87. Consider a 16x16 array, how to get the block-sum (block size is 4x4)? (★★★)"
   ]
  },
  {
   "cell_type": "code",
   "execution_count": 20,
   "id": "e86f47a9",
   "metadata": {},
   "outputs": [
    {
     "name": "stdout",
     "output_type": "stream",
     "text": [
      "Original Array:\n",
      "[[  1   2   3   4   5   6   7   8   9  10  11  12  13  14  15  16]\n",
      " [ 17  18  19  20  21  22  23  24  25  26  27  28  29  30  31  32]\n",
      " [ 33  34  35  36  37  38  39  40  41  42  43  44  45  46  47  48]\n",
      " [ 49  50  51  52  53  54  55  56  57  58  59  60  61  62  63  64]\n",
      " [ 65  66  67  68  69  70  71  72  73  74  75  76  77  78  79  80]\n",
      " [ 81  82  83  84  85  86  87  88  89  90  91  92  93  94  95  96]\n",
      " [ 97  98  99 100 101 102 103 104 105 106 107 108 109 110 111 112]\n",
      " [113 114 115 116 117 118 119 120 121 122 123 124 125 126 127 128]\n",
      " [129 130 131 132 133 134 135 136 137 138 139 140 141 142 143 144]\n",
      " [145 146 147 148 149 150 151 152 153 154 155 156 157 158 159 160]\n",
      " [161 162 163 164 165 166 167 168 169 170 171 172 173 174 175 176]\n",
      " [177 178 179 180 181 182 183 184 185 186 187 188 189 190 191 192]\n",
      " [193 194 195 196 197 198 199 200 201 202 203 204 205 206 207 208]\n",
      " [209 210 211 212 213 214 215 216 217 218 219 220 221 222 223 224]\n",
      " [225 226 227 228 229 230 231 232 233 234 235 236 237 238 239 240]\n",
      " [241 242 243 244 245 246 247 248 249 250 251 252 253 254 255 256]]\n",
      "\n",
      "Block-Sum (Block Size = 4x4):\n",
      "[[ 424  488  552  616]\n",
      " [1448 1512 1576 1640]\n",
      " [2472 2536 2600 2664]\n",
      " [3496 3560 3624 3688]]\n"
     ]
    }
   ],
   "source": [
    "# Create a 16x16 array\n",
    "array = np.arange(1, 257).reshape(16, 16)\n",
    "\n",
    "# Define the block size\n",
    "block_size = 4\n",
    "\n",
    "# Calculate the number of blocks\n",
    "num_blocks = array.shape[0] // block_size\n",
    "\n",
    "# Reshape the array to create overlapping blocks\n",
    "blocked_array = array.reshape(num_blocks, block_size, num_blocks, block_size).swapaxes(1, 2)\n",
    "\n",
    "# Sum along the last two axes to get the block-sum\n",
    "block_sum = blocked_array.sum(axis=(-1, -2))\n",
    "\n",
    "print(\"Original Array:\")\n",
    "print(array)\n",
    "print(\"\\nBlock-Sum (Block Size = 4x4):\")\n",
    "print(block_sum)"
   ]
  },
  {
   "cell_type": "markdown",
   "id": "6094d37c",
   "metadata": {},
   "source": [
    "#### 88. How to implement the Game of Life using numpy arrays? (★★★)"
   ]
  },
  {
   "cell_type": "code",
   "execution_count": 21,
   "id": "a93e715f",
   "metadata": {},
   "outputs": [
    {
     "name": "stderr",
     "output_type": "stream",
     "text": [
      "C:\\Users\\T14\\AppData\\Local\\Temp\\ipykernel_11660\\1710266543.py:41: UserWarning: You passed in an explicit save_count=50 which is being ignored in favor of frames=10.\n",
      "  ani = animation.FuncAnimation(fig, update, fargs=(img, grid, N),\n"
     ]
    },
    {
     "data": {
      "image/png": "[encoded data removed]",
      "text/plain": [
       "<Figure size 640x480 with 1 Axes>"
      ]
     },
     "metadata": {},
     "output_type": "display_data"
    }
   ],
   "source": [
    "import matplotlib.pyplot as plt\n",
    "import matplotlib.animation as animation\n",
    "\n",
    "def update(frameNum, img, grid, N):\n",
    "    # Copy the grid to apply the rules\n",
    "    newGrid = grid.copy()\n",
    "\n",
    "    for i in range(N):\n",
    "        for j in range(N):\n",
    "            # Compute the sum of the neighbors using toroidal (wrap-around) boundary conditions\n",
    "            total = int((grid[i, (j-1)%N] + grid[i, (j+1)%N] +\n",
    "                         grid[(i-1)%N, j] + grid[(i+1)%N, j] +\n",
    "                         grid[(i-1)%N, (j-1)%N] + grid[(i-1)%N, (j+1)%N] +\n",
    "                         grid[(i+1)%N, (j-1)%N] + grid[(i+1)%N, (j+1)%N])/255)\n",
    "\n",
    "            # Apply the rules of the Game of Life\n",
    "            if grid[i, j] == ON:\n",
    "                if (total < 2) or (total > 3):\n",
    "                    newGrid[i, j] = OFF\n",
    "            else:\n",
    "                if total == 3:\n",
    "                    newGrid[i, j] = ON\n",
    "\n",
    "    # Update the data of the image plot\n",
    "    img.set_data(newGrid)\n",
    "    grid[:] = newGrid[:]\n",
    "    return img\n",
    "\n",
    "# Define constants\n",
    "ON = 255\n",
    "OFF = 0\n",
    "N = 100\n",
    "updateInterval = 50  # milliseconds\n",
    "\n",
    "# Create a random initial grid\n",
    "grid = np.random.choice([ON, OFF], N*N, p=[0.2, 0.8]).reshape(N, N)\n",
    "\n",
    "# Set up the animation\n",
    "fig, ax = plt.subplots()\n",
    "img = ax.imshow(grid, interpolation='nearest')\n",
    "ani = animation.FuncAnimation(fig, update, fargs=(img, grid, N),\n",
    "                              frames=10, interval=updateInterval,\n",
    "                              save_count=50)\n",
    "\n",
    "plt.show()"
   ]
  },
  {
   "cell_type": "markdown",
   "id": "a173cf96",
   "metadata": {},
   "source": [
    "#### 89. How to get the n largest values of an array (★★★)"
   ]
  },
  {
   "cell_type": "code",
   "execution_count": 22,
   "id": "b7c2ff35",
   "metadata": {},
   "outputs": [
    {
     "name": "stdout",
     "output_type": "stream",
     "text": [
      "Original Array: [3 1 4 1 5 9 2 6 5 3 5]\n",
      "3 Largest Values: [5 6 9]\n"
     ]
    }
   ],
   "source": [
    "# Example array\n",
    "arr = np.array([3, 1, 4, 1, 5, 9, 2, 6, 5, 3, 5])\n",
    "\n",
    "# Specify the value of n\n",
    "n = 3\n",
    "\n",
    "# Use numpy.partition to get the n largest values\n",
    "largest_values = np.partition(arr, -n)[-n:]\n",
    "\n",
    "print(\"Original Array:\", arr)\n",
    "print(f\"{n} Largest Values:\", largest_values)"
   ]
  },
  {
   "cell_type": "markdown",
   "id": "15db2d01",
   "metadata": {},
   "source": [
    "#### 90. Given an arbitrary number of vectors, build the cartesian product (every combinations of every item) (★★★)"
   ]
  },
  {
   "cell_type": "code",
   "execution_count": 23,
   "id": "a9a4633d",
   "metadata": {},
   "outputs": [
    {
     "name": "stdout",
     "output_type": "stream",
     "text": [
      "Vector 1: [1 2]\n",
      "Vector 2: ['A' 'B']\n",
      "Vector 3: [0.1 0.2 0.3]\n",
      "\n",
      "Cartesian Product:\n",
      "[['1' 'A' '0.1']\n",
      " ['1' 'A' '0.2']\n",
      " ['1' 'A' '0.3']\n",
      " ['1' 'B' '0.1']\n",
      " ['1' 'B' '0.2']\n",
      " ['1' 'B' '0.3']\n",
      " ['2' 'A' '0.1']\n",
      " ['2' 'A' '0.2']\n",
      " ['2' 'A' '0.3']\n",
      " ['2' 'B' '0.1']\n",
      " ['2' 'B' '0.2']\n",
      " ['2' 'B' '0.3']]\n"
     ]
    }
   ],
   "source": [
    "def cartesian_product(*arrays):\n",
    "    # Create a meshgrid from the vectors\n",
    "    grids = np.meshgrid(*arrays, indexing='ij')\n",
    "\n",
    "    # Stack the grids to obtain all combinations\n",
    "    stacked = np.vstack([grid.ravel() for grid in grids]).T\n",
    "\n",
    "    return stacked\n",
    "\n",
    "# Example vectors\n",
    "vec1 = np.array([1, 2])\n",
    "vec2 = np.array(['A', 'B'])\n",
    "vec3 = np.array([0.1, 0.2, 0.3])\n",
    "\n",
    "# Build the Cartesian product\n",
    "result = cartesian_product(vec1, vec2, vec3)\n",
    "\n",
    "print(\"Vector 1:\", vec1)\n",
    "print(\"Vector 2:\", vec2)\n",
    "print(\"Vector 3:\", vec3)\n",
    "print(\"\\nCartesian Product:\")\n",
    "print(result)"
   ]
  },
  {
   "cell_type": "markdown",
   "id": "5d94d1ef",
   "metadata": {},
   "source": [
    "#### 91. How to create a record array from a regular array? (★★★)"
   ]
  },
  {
   "cell_type": "code",
   "execution_count": 26,
   "id": "b1dae380",
   "metadata": {},
   "outputs": [
    {
     "name": "stdout",
     "output_type": "stream",
     "text": [
      "Regular Array:\n",
      "[[1 'John' 25]\n",
      " [2 'Alice' 30]\n",
      " [3 'Bob' 22]]\n",
      "\n",
      "Record Array:\n",
      "[(1, 'John', 25) (2, 'Alice', 30) (3, 'Bob', 22)]\n"
     ]
    }
   ],
   "source": [
    "# Regular array\n",
    "regular_array = np.array([[1, 'John', 25],\n",
    "                          [2, 'Alice', 30],\n",
    "                          [3, 'Bob', 22]],\n",
    "                         dtype=object)\n",
    "\n",
    "# Create a record array\n",
    "record_array = np.core.records.fromarrays(regular_array.T,\n",
    "                                          names='ID,Name,Age',\n",
    "                                          formats='i4,U10,i4')\n",
    "\n",
    "print(\"Regular Array:\")\n",
    "print(regular_array)\n",
    "\n",
    "print(\"\\nRecord Array:\")\n",
    "print(record_array)"
   ]
  },
  {
   "cell_type": "markdown",
   "id": "114ccc36",
   "metadata": {},
   "source": [
    "#### 92. Consider a large vector Z, compute Z to the power of 3 using 3 different methods (★★★)"
   ]
  },
  {
   "cell_type": "code",
   "execution_count": 27,
   "id": "877c65d6",
   "metadata": {},
   "outputs": [
    {
     "name": "stdout",
     "output_type": "stream",
     "text": [
      "True\n"
     ]
    }
   ],
   "source": [
    "# Generate a large vector Z\n",
    "Z = np.random.rand(1000000)\n",
    "\n",
    "# Method 1: Using the ** operator\n",
    "result1 = Z ** 3\n",
    "\n",
    "# Method 2: Using np.power function\n",
    "result2 = np.power(Z, 3)\n",
    "\n",
    "# Method 3: Using np.einsum function\n",
    "result3 = np.einsum('i,i,i->i', Z, Z, Z)\n",
    "\n",
    "# Verify that all methods produce the same result\n",
    "print(np.allclose(result1, result2) and np.allclose(result1, result3))"
   ]
  },
  {
   "cell_type": "markdown",
   "id": "d614fee4",
   "metadata": {},
   "source": [
    "#### 93. Consider two arrays A and B of shape (8,3) and (2,2). How to find rows of A that contain elements of each row of B regardless of the order of the elements in B? (★★★)"
   ]
  },
  {
   "cell_type": "code",
   "execution_count": 28,
   "id": "e6807a84",
   "metadata": {},
   "outputs": [
    {
     "name": "stdout",
     "output_type": "stream",
     "text": [
      "Array A:\n",
      "[[4 3 5]\n",
      " [2 9 9]\n",
      " [1 2 8]\n",
      " [1 3 9]\n",
      " [2 7 5]\n",
      " [7 8 3]\n",
      " [9 9 4]\n",
      " [1 5 2]]\n",
      "\n",
      "Array B:\n",
      "[[1 3]\n",
      " [9 6]]\n",
      "\n",
      "Rows of A containing elements of each row of B:\n",
      "[3]\n"
     ]
    }
   ],
   "source": [
    "# Create arrays A and B\n",
    "A = np.random.randint(0, 10, size=(8, 3))\n",
    "B = np.random.randint(0, 10, size=(2, 2))\n",
    "\n",
    "# Convert the rows of B to sets for easy comparison\n",
    "B_sets = [set(row) for row in B]\n",
    "\n",
    "# Find rows of A that contain elements of each row of B\n",
    "result_rows = [i for i, row in enumerate(A) if all(set(row).intersection(B_row) for B_row in B_sets)]\n",
    "\n",
    "print(\"Array A:\")\n",
    "print(A)\n",
    "\n",
    "print(\"\\nArray B:\")\n",
    "print(B)\n",
    "\n",
    "print(\"\\nRows of A containing elements of each row of B:\")\n",
    "print(result_rows)"
   ]
  },
  {
   "cell_type": "markdown",
   "id": "b0eedca6",
   "metadata": {},
   "source": [
    "#### 94. Considering a 10x3 matrix, extract rows with unequal values (e.g. [2,2,3]) (★★★)"
   ]
  },
  {
   "cell_type": "code",
   "execution_count": 29,
   "id": "fc136ce2",
   "metadata": {},
   "outputs": [
    {
     "name": "stdout",
     "output_type": "stream",
     "text": [
      "Original Matrix:\n",
      "[[0 0 1]\n",
      " [0 0 2]\n",
      " [0 1 2]\n",
      " [2 0 2]\n",
      " [1 0 0]\n",
      " [1 0 1]\n",
      " [0 0 0]\n",
      " [0 1 2]\n",
      " [2 1 1]\n",
      " [2 1 1]]\n",
      "\n",
      "Rows with Unequal Values:\n",
      "[[0 0 2]\n",
      " [0 1 2]\n",
      " [2 0 2]\n",
      " [1 0 0]\n",
      " [1 0 1]\n",
      " [0 0 0]\n",
      " [0 1 2]\n",
      " [2 1 1]\n",
      " [2 1 1]]\n"
     ]
    }
   ],
   "source": [
    "# Create a 10x3 matrix\n",
    "matrix = np.random.randint(0, 3, size=(10, 3))\n",
    "\n",
    "# Find rows with unequal values\n",
    "unequal_rows = matrix[~np.all(matrix == matrix[0], axis=1)]\n",
    "\n",
    "print(\"Original Matrix:\")\n",
    "print(matrix)\n",
    "\n",
    "print(\"\\nRows with Unequal Values:\")\n",
    "print(unequal_rows)"
   ]
  },
  {
   "cell_type": "markdown",
   "id": "a65ec1cf",
   "metadata": {},
   "source": [
    "#### 95. Convert a vector of ints into a matrix binary representation (★★★)"
   ]
  },
  {
   "cell_type": "code",
   "execution_count": 30,
   "id": "323cdf4c",
   "metadata": {},
   "outputs": [
    {
     "name": "stdout",
     "output_type": "stream",
     "text": [
      "Vector of Integers:\n",
      "[ 5 12  7 15]\n",
      "\n",
      "Binary Matrix Representation:\n",
      "[[0 0 0 0 0 1 0 1]\n",
      " [0 0 0 0 1 1 0 0]\n",
      " [0 0 0 0 0 1 1 1]\n",
      " [0 0 0 0 1 1 1 1]]\n"
     ]
    }
   ],
   "source": [
    "# Create a vector of integers\n",
    "vector_of_ints = np.array([5, 12, 7, 15], dtype=np.uint8)\n",
    "\n",
    "# Convert the vector to its binary representation\n",
    "binary_matrix = np.unpackbits(vector_of_ints[:, np.newaxis], axis=1)\n",
    "\n",
    "print(\"Vector of Integers:\")\n",
    "print(vector_of_ints)\n",
    "\n",
    "print(\"\\nBinary Matrix Representation:\")\n",
    "print(binary_matrix)"
   ]
  },
  {
   "cell_type": "markdown",
   "id": "75b9397f",
   "metadata": {},
   "source": [
    "#### 96. Given a two dimensional array, how to extract unique rows? (★★★)"
   ]
  },
  {
   "cell_type": "code",
   "execution_count": 31,
   "id": "9bb56a47",
   "metadata": {},
   "outputs": [
    {
     "name": "stdout",
     "output_type": "stream",
     "text": [
      "Original Array:\n",
      "[[1 2 3]\n",
      " [4 5 6]\n",
      " [1 2 3]\n",
      " [7 8 9]]\n",
      "\n",
      "Unique Rows:\n",
      "[[1 2 3]\n",
      " [4 5 6]\n",
      " [7 8 9]]\n"
     ]
    }
   ],
   "source": [
    "# Create a two-dimensional array\n",
    "two_d_array = np.array([[1, 2, 3],\n",
    "                        [4, 5, 6],\n",
    "                        [1, 2, 3],\n",
    "                        [7, 8, 9]])\n",
    "\n",
    "# Extract unique rows\n",
    "unique_rows = np.unique(two_d_array, axis=0)\n",
    "\n",
    "print(\"Original Array:\")\n",
    "print(two_d_array)\n",
    "\n",
    "print(\"\\nUnique Rows:\")\n",
    "print(unique_rows)"
   ]
  },
  {
   "cell_type": "markdown",
   "id": "82aaf21b",
   "metadata": {},
   "source": [
    "#### 97. Considering 2 vectors A & B, write the einsum equivalent of inner, outer, sum, and mul function (★★★)"
   ]
  },
  {
   "cell_type": "code",
   "execution_count": 32,
   "id": "cedcefd9",
   "metadata": {},
   "outputs": [
    {
     "name": "stdout",
     "output_type": "stream",
     "text": [
      "Vector A: [1 2 3]\n",
      "Vector B: [4 5 6]\n",
      "\n",
      "Equivalent of inner function:\n",
      "32\n",
      "\n",
      "Equivalent of outer function:\n",
      "[[ 4  5  6]\n",
      " [ 8 10 12]\n",
      " [12 15 18]]\n",
      "\n",
      "Equivalent of sum function:\n",
      "32\n",
      "\n",
      "Equivalent of mul function:\n",
      "[ 4 10 18]\n"
     ]
    }
   ],
   "source": [
    "# Two vectors A and B\n",
    "A = np.array([1, 2, 3])\n",
    "B = np.array([4, 5, 6])\n",
    "\n",
    "# Equivalent of inner function: np.inner(A, B)\n",
    "inner_result = np.einsum('i,i->', A, B)\n",
    "\n",
    "# Equivalent of outer function: np.outer(A, B)\n",
    "outer_result = np.einsum('i,j->ij', A, B)\n",
    "\n",
    "# Equivalent of sum function: np.sum(A * B)\n",
    "sum_result = np.einsum('i,i->', A, B)\n",
    "\n",
    "# Equivalent of mul function: A * B\n",
    "mul_result = np.einsum('i,i->i', A, B)\n",
    "\n",
    "print(\"Vector A:\", A)\n",
    "print(\"Vector B:\", B)\n",
    "\n",
    "print(\"\\nEquivalent of inner function:\")\n",
    "print(inner_result)\n",
    "\n",
    "print(\"\\nEquivalent of outer function:\")\n",
    "print(outer_result)\n",
    "\n",
    "print(\"\\nEquivalent of sum function:\")\n",
    "print(sum_result)\n",
    "\n",
    "print(\"\\nEquivalent of mul function:\")\n",
    "print(mul_result)"
   ]
  },
  {
   "cell_type": "markdown",
   "id": "7741e17f",
   "metadata": {},
   "source": [
    "#### 98. Considering a path described by two vectors (X,Y), how to sample it using equidistant samples (★★★)?"
   ]
  },
  {
   "cell_type": "code",
   "execution_count": 33,
   "id": "0b2432fe",
   "metadata": {},
   "outputs": [
    {
     "data": {
      "image/png": "[encoded data removed]",
      "text/plain": [
       "<Figure size 640x480 with 1 Axes>"
      ]
     },
     "metadata": {},
     "output_type": "display_data"
    }
   ],
   "source": [
    "import matplotlib.pyplot as plt\n",
    "\n",
    "# Two vectors describing the path (X, Y)\n",
    "X = np.array([1, 2, 3, 4, 5])\n",
    "Y = np.array([2, 3, 5, 6, 8])\n",
    "\n",
    "# Number of equidistant samples\n",
    "num_samples = 10\n",
    "\n",
    "# Generate equidistant samples along the path\n",
    "X_samples = np.linspace(X.min(), X.max(), num_samples)\n",
    "Y_samples = np.interp(X_samples, X, Y)\n",
    "\n",
    "# Plot the original path and the sampled points\n",
    "plt.plot(X, Y, marker='o', label='Original Path')\n",
    "plt.scatter(X_samples, Y_samples, color='red', label='Equidistant Samples')\n",
    "plt.xlabel('X')\n",
    "plt.ylabel('Y')\n",
    "plt.legend()\n",
    "plt.show()"
   ]
  },
  {
   "cell_type": "markdown",
   "id": "340d6f36",
   "metadata": {},
   "source": [
    "#### 99. Given an integer n and a 2D array X, select from X the rows which can be interpreted as draws from a multinomial distribution with n degrees, i.e., the rows which only contain integers and which sum to n. (★★★)"
   ]
  },
  {
   "cell_type": "code",
   "execution_count": 34,
   "id": "a75323ae",
   "metadata": {},
   "outputs": [
    {
     "name": "stdout",
     "output_type": "stream",
     "text": [
      "Original 2D Array:\n",
      "[[1 2 2]\n",
      " [3 1 1]\n",
      " [0 5 0]\n",
      " [2 2 1]]\n",
      "\n",
      "Selected Rows for Multinomial Distribution with n = 5\n",
      "[[1 2 2]\n",
      " [3 1 1]\n",
      " [0 5 0]\n",
      " [2 2 1]]\n"
     ]
    }
   ],
   "source": [
    "# Given integer n\n",
    "n = 5\n",
    "\n",
    "# 2D array X\n",
    "X = np.array([[1, 2, 2],\n",
    "              [3, 1, 1],\n",
    "              [0, 5, 0],\n",
    "              [2, 2, 1]])\n",
    "\n",
    "# Select rows that are draws from a multinomial distribution with n degrees\n",
    "selected_rows = X[(X.sum(axis=1) == n) & np.all(X.astype(int) == X, axis=1)]\n",
    "\n",
    "print(\"Original 2D Array:\")\n",
    "print(X)\n",
    "\n",
    "print(\"\\nSelected Rows for Multinomial Distribution with n =\", n)\n",
    "print(selected_rows)"
   ]
  },
  {
   "cell_type": "markdown",
   "id": "19721849",
   "metadata": {},
   "source": [
    "#### 100. Compute bootstrapped 95% confidence intervals for the mean of a 1D array X (i.e., resample the elements of an array with replacement N times, compute the mean of each sample, and then compute percentiles over the means). (★★★)"
   ]
  },
  {
   "cell_type": "code",
   "execution_count": 35,
   "id": "87309c6f",
   "metadata": {},
   "outputs": [
    {
     "name": "stdout",
     "output_type": "stream",
     "text": [
      "1D Array X:\n",
      "[ 1  2  3  4  5  6  7  8  9 10]\n",
      "\n",
      "95% Confidence Interval for the Mean:\n",
      "[3.7 7.3]\n"
     ]
    }
   ],
   "source": [
    "# Set a random seed for reproducibility\n",
    "np.random.seed(42)\n",
    "\n",
    "# 1D array X\n",
    "X = np.array([1, 2, 3, 4, 5, 6, 7, 8, 9, 10])\n",
    "\n",
    "# Number of bootstrap samples\n",
    "N = 1000\n",
    "\n",
    "# Bootstrap resampling and computation of means\n",
    "bootstrap_means = [np.mean(np.random.choice(X, len(X), replace=True)) for _ in range(N)]\n",
    "\n",
    "# Compute the 95% confidence interval\n",
    "confidence_interval = np.percentile(bootstrap_means, [2.5, 97.5])\n",
    "\n",
    "print(\"1D Array X:\")\n",
    "print(X)\n",
    "\n",
    "print(\"\\n95% Confidence Interval for the Mean:\")\n",
    "print(confidence_interval)"
   ]
  }
 ],
 "metadata": {
  "kernelspec": {
   "display_name": "idaost",
   "language": "python",
   "name": "python3"
  },
  "language_info": {
   "codemirror_mode": {
    "name": "ipython",
    "version": 3
   },
   "file_extension": ".py",
   "mimetype": "text/x-python",
   "name": "python",
   "nbconvert_exporter": "python",
   "pygments_lexer": "ipython3",
   "version": "3.10.13"
  }
 },
 "nbformat": 4,
 "nbformat_minor": 5
}

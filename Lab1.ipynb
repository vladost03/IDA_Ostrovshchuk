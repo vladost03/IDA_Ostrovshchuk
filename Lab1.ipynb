{
 "cells": [
  {
   "cell_type": "code",
   "execution_count": 1,
   "metadata": {},
   "outputs": [],
   "source": [
    "import pandas as pd\n",
    "\n",
    "# Шлях до файлів\n",
    "movies_file = 'C:/IDA_Ostrovshchuk/ml-1m/movies.dat'\n",
    "ratings_file = 'C:/IDA_Ostrovshchuk/ml-1m/ratings.dat'\n",
    "users_file = 'C:/IDA_Ostrovshchuk/ml-1m/users.dat'\n",
    "\n",
    "# Назви стовпців для кожного файлу\n",
    "movies_columns = ['MovieID', 'Title', 'Genres']\n",
    "ratings_columns = ['UserID', 'MovieID', 'Rating', 'Timestamp']\n",
    "users_columns = ['UserID', 'Gender', 'Age', 'Occupation', 'Zip-code']\n",
    "\n",
    "# Завантаження файлів у змінні DataFrame\n",
    "movies = pd.read_csv(movies_file, sep='::', header=None, names=movies_columns, engine='python', encoding='latin1')\n",
    "ratings = pd.read_csv(ratings_file, sep='::', header=None, names=ratings_columns, engine='python', encoding='latin1')\n",
    "users = pd.read_csv(users_file, sep='::', header=None, names=users_columns, engine='python', encoding='latin1')\n"
   ]
  },
  {
   "cell_type": "code",
   "execution_count": 2,
   "metadata": {},
   "outputs": [],
   "source": [
    "# Злиття фреймів за допомогою MovieID та UserID\n",
    "merged_data = pd.merge(ratings, movies, on='MovieID')\n",
    "merged_data = pd.merge(merged_data, users, on='UserID')"
   ]
  },
  {
   "cell_type": "code",
   "execution_count": 3,
   "metadata": {},
   "outputs": [],
   "source": [
    "#F 1\n",
    "# Фільтрація користувачів за умовами\n",
    "filtered_data1f = merged_data[(merged_data['Gender'] == 'F') & (merged_data['Age'] == 1)]\n",
    "\n",
    "# Створення DataFrame з групуванням за MovieID та обчисленням середньої оцінки\n",
    "average_ratings1f = filtered_data1f.groupby('MovieID')['Rating'].mean()\n",
    "\n",
    "# Сортування фільмів за середньою оцінкою у спадаючому порядку\n",
    "sorted_movies1f = average_ratings1f.sort_values(ascending=False)\n",
    "\n",
    "# Вибір перших 10 фільмів\n",
    "top_10_movies1f = sorted_movies1f.head(10)\n",
    "\n",
    "# Отримання деталей про фільми (назва та жанри) за їхніми ідентифікаторами\n",
    "top_10_movies_details1f = pd.merge(top_10_movies1f, movies, left_index=True, right_on='MovieID')"
   ]
  },
  {
   "cell_type": "code",
   "execution_count": null,
   "metadata": {},
   "outputs": [],
   "source": [
    "import seaborn as sns\n",
    "import matplotlib.pyplot as plt\n",
    "\n",
    "# Встановлення стилю для графіку\n",
    "sns.set(style=\"whitegrid\")\n",
    "\n",
    "# Створення графіку, використовуючи seaborn\n",
    "plt.figure(figsize=(12, 6))\n",
    "barplot = sns.barplot(x=top_10_movies_details1f['Rating'], y=top_10_movies_details1f['Title'], palette='viridis')\n",
    "\n",
    "# Додавання назв та відзначення осей\n",
    "plt.title('Top 10 Movies with Highest Average Ratings (Female users with Age under 25)', fontsize=16)\n",
    "plt.xlabel('Average Rating', fontsize=14)\n",
    "plt.ylabel('Movie Title', fontsize=14)\n",
    "\n",
    "# Виведення графіку\n",
    "plt.show()"
   ]
  },
  {
   "cell_type": "code",
   "execution_count": null,
   "metadata": {},
   "outputs": [],
   "source": [
    "# F 18\n",
    "filtered_data18f = merged_data[(merged_data['Gender'] == 'F') & (merged_data['Age'] == 18)]\n",
    "\n",
    "average_ratings18f = filtered_data18f.groupby('MovieID')['Rating'].mean()\n",
    "\n",
    "sorted_movies18f = average_ratings18f.sort_values(ascending=False)\n",
    "\n",
    "top_10_movies18f = sorted_movies18f.head(10)\n",
    "\n",
    "top_10_movies_details18f = pd.merge(top_10_movies18f, movies, left_index=True, right_on='MovieID')"
   ]
  },
  {
   "cell_type": "code",
   "execution_count": null,
   "metadata": {},
   "outputs": [],
   "source": [
    "# F 25\n",
    "filtered_data25f = merged_data[(merged_data['Gender'] == 'F') & (merged_data['Age'] == 25)]\n",
    "\n",
    "average_ratings25f = filtered_data25f.groupby('MovieID')['Rating'].mean()\n",
    "\n",
    "sorted_movies25f = average_ratings25f.sort_values(ascending=False)\n",
    "\n",
    "top_10_movies25f = sorted_movies25f.head(10)\n",
    "\n",
    "top_10_movies_details25f = pd.merge(top_10_movies25f, movies, left_index=True, right_on='MovieID')"
   ]
  },
  {
   "cell_type": "code",
   "execution_count": null,
   "metadata": {},
   "outputs": [],
   "source": [
    "# F 35\n",
    "filtered_data35f = merged_data[(merged_data['Gender'] == 'F') & (merged_data['Age'] == 35)]\n",
    "\n",
    "average_ratings35f = filtered_data35f.groupby('MovieID')['Rating'].mean()\n",
    "\n",
    "sorted_movies35f = average_ratings35f.sort_values(ascending=False)\n",
    "\n",
    "top_10_movies35f = sorted_movies35f.head(10)\n",
    "\n",
    "top_10_movies_details35f = pd.merge(top_10_movies35f, movies, left_index=True, right_on='MovieID')"
   ]
  },
  {
   "cell_type": "code",
   "execution_count": null,
   "metadata": {},
   "outputs": [],
   "source": [
    "# F 45\n",
    "filtered_data45f = merged_data[(merged_data['Gender'] == 'F') & (merged_data['Age'] == 45)]\n",
    "\n",
    "average_ratings45f = filtered_data45f.groupby('MovieID')['Rating'].mean()\n",
    "\n",
    "sorted_movies45f = average_ratings45f.sort_values(ascending=False)\n",
    "\n",
    "top_10_movies45f = sorted_movies45f.head(10)\n",
    "\n",
    "top_10_movies_details45f = pd.merge(top_10_movies45f, movies, left_index=True, right_on='MovieID')"
   ]
  },
  {
   "cell_type": "code",
   "execution_count": null,
   "metadata": {},
   "outputs": [],
   "source": [
    "# F 50\n",
    "filtered_data50f = merged_data[(merged_data['Gender'] == 'F') & (merged_data['Age'] == 50)]\n",
    "\n",
    "average_ratings50f = filtered_data50f.groupby('MovieID')['Rating'].mean()\n",
    "\n",
    "sorted_movies50f = average_ratings50f.sort_values(ascending=False)\n",
    "\n",
    "top_10_movies50f = sorted_movies50f.head(10)\n",
    "\n",
    "top_10_movies_details50f = pd.merge(top_10_movies50f, movies, left_index=True, right_on='MovieID')"
   ]
  },
  {
   "cell_type": "code",
   "execution_count": null,
   "metadata": {},
   "outputs": [],
   "source": [
    "# F 56\n",
    "filtered_data56f = merged_data[(merged_data['Gender'] == 'F') & (merged_data['Age'] == 56)]\n",
    "\n",
    "average_ratings56f = filtered_data56f.groupby('MovieID')['Rating'].mean()\n",
    "\n",
    "sorted_movies56f = average_ratings56f.sort_values(ascending=False)\n",
    "\n",
    "top_10_movies56f = sorted_movies56f.head(10)\n",
    "\n",
    "top_10_movies_details56f = pd.merge(top_10_movies56f, movies, left_index=True, right_on='MovieID')"
   ]
  },
  {
   "cell_type": "code",
   "execution_count": null,
   "metadata": {},
   "outputs": [],
   "source": [
    "# M 1\n",
    "filtered_data1m = merged_data[(merged_data['Gender'] == 'M') & (merged_data['Age'] == 18)]\n",
    "\n",
    "average_ratings1m = filtered_data1m.groupby('MovieID')['Rating'].mean()\n",
    "\n",
    "sorted_movies1m = average_ratings1m.sort_values(ascending=False)\n",
    "\n",
    "top_10_movies1m = sorted_movies1m.head(10)\n",
    "\n",
    "top_10_movies_details1m = pd.merge(top_10_movies1m, movies, left_index=True, right_on='MovieID')"
   ]
  },
  {
   "cell_type": "code",
   "execution_count": null,
   "metadata": {},
   "outputs": [],
   "source": [
    "# M 18\n",
    "filtered_data18m = merged_data[(merged_data['Gender'] == 'M') & (merged_data['Age'] == 18)]\n",
    "\n",
    "average_ratings18m = filtered_data18m.groupby('MovieID')['Rating'].mean()\n",
    "\n",
    "sorted_movies18m = average_ratings18m.sort_values(ascending=False)\n",
    "\n",
    "top_10_movies18m = sorted_movies18m.head(10)\n",
    "\n",
    "top_10_movies_details18m = pd.merge(top_10_movies18m, movies, left_index=True, right_on='MovieID')"
   ]
  },
  {
   "cell_type": "code",
   "execution_count": null,
   "metadata": {},
   "outputs": [],
   "source": [
    "# M 25\n",
    "filtered_data25m = merged_data[(merged_data['Gender'] == 'M') & (merged_data['Age'] == 25)]\n",
    "\n",
    "average_ratings25m = filtered_data25m.groupby('MovieID')['Rating'].mean()\n",
    "\n",
    "sorted_movies25m = average_ratings25m.sort_values(ascending=False)\n",
    "\n",
    "top_10_movies25m = sorted_movies25m.head(10)\n",
    "\n",
    "top_10_movies_details25m = pd.merge(top_10_movies25m, movies, left_index=True, right_on='MovieID')"
   ]
  },
  {
   "cell_type": "code",
   "execution_count": null,
   "metadata": {},
   "outputs": [],
   "source": [
    "# M 35\n",
    "filtered_data35m = merged_data[(merged_data['Gender'] == 'M') & (merged_data['Age'] == 35)]\n",
    "\n",
    "average_ratings35m = filtered_data35m.groupby('MovieID')['Rating'].mean()\n",
    "\n",
    "sorted_movies35m = average_ratings35m.sort_values(ascending=False)\n",
    "\n",
    "top_10_movies35m = sorted_movies35m.head(10)\n",
    "\n",
    "top_10_movies_details35m = pd.merge(top_10_movies35m, movies, left_index=True, right_on='MovieID')"
   ]
  },
  {
   "cell_type": "code",
   "execution_count": null,
   "metadata": {},
   "outputs": [],
   "source": [
    "# M 45\n",
    "filtered_data45m = merged_data[(merged_data['Gender'] == 'M') & (merged_data['Age'] == 45)]\n",
    "\n",
    "average_ratings45m = filtered_data45m.groupby('MovieID')['Rating'].mean()\n",
    "\n",
    "sorted_movies45m = average_ratings45m.sort_values(ascending=False)\n",
    "\n",
    "top_10_movies45m = sorted_movies45m.head(10)\n",
    "\n",
    "top_10_movies_details45m = pd.merge(top_10_movies45m, movies, left_index=True, right_on='MovieID')"
   ]
  },
  {
   "cell_type": "code",
   "execution_count": null,
   "metadata": {},
   "outputs": [],
   "source": [
    "# M 50\n",
    "filtered_data50m = merged_data[(merged_data['Gender'] == 'M') & (merged_data['Age'] == 50)]\n",
    "\n",
    "average_ratings50m = filtered_data50m.groupby('MovieID')['Rating'].mean()\n",
    "\n",
    "sorted_movies50m = average_ratings50m.sort_values(ascending=False)\n",
    "\n",
    "top_10_movies50m = sorted_movies50m.head(10)\n",
    "\n",
    "top_10_movies_details50m = pd.merge(top_10_movies50m, movies, left_index=True, right_on='MovieID')"
   ]
  },
  {
   "cell_type": "code",
   "execution_count": null,
   "metadata": {},
   "outputs": [],
   "source": [
    "# M 56\n",
    "filtered_data56m = merged_data[(merged_data['Gender'] == 'M') & (merged_data['Age'] == 56)]\n",
    "\n",
    "average_ratings56m = filtered_data56m.groupby('MovieID')['Rating'].mean()\n",
    "\n",
    "sorted_movies56m = average_ratings56m.sort_values(ascending=False)\n",
    "\n",
    "top_10_movies56m = sorted_movies56m.head(10)\n",
    "\n",
    "top_10_movies_details56m = pd.merge(top_10_movies56m, movies, left_index=True, right_on='MovieID')"
   ]
  }
 ],
 "metadata": {
  "kernelspec": {
   "display_name": "idaost",
   "language": "python",
   "name": "python3"
  },
  "language_info": {
   "codemirror_mode": {
    "name": "ipython",
    "version": 3
   },
   "file_extension": ".py",
   "mimetype": "text/x-python",
   "name": "python",
   "nbconvert_exporter": "python",
   "pygments_lexer": "ipython3",
   "version": "3.10.13"
  }
 },
 "nbformat": 4,
 "nbformat_minor": 2
}
